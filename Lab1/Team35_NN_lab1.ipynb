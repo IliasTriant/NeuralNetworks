{
  "nbformat": 4,
  "nbformat_minor": 0,
  "metadata": {
    "colab": {
      "name": "Team35_NN_lab1.ipynb",
      "provenance": [],
      "collapsed_sections": []
    },
    "kernelspec": {
      "display_name": "Python 3",
      "name": "python3"
    }
  },
  "cells": [
    {
      "cell_type": "markdown",
      "metadata": {
        "id": "IjfHSF4OvBcp"
      },
      "source": [
        "#Στοιχεία Ομάδας\n",
        "##Ομάδα 35\n",
        "\n",
        "#### - Καλτσογιάννης Δημήτρης       *03115628*\n",
        "#### - Μάμαλη Αικατερίνη            *03116017*\n",
        "#### - Τριανταφυλλόπουλος Ηλίας     *03116028*\n"
      ]
    },
    {
      "cell_type": "markdown",
      "metadata": {
        "id": "u5---s_88mf7"
      },
      "source": [
        "#Μικρό Dataset\n",
        "\n",
        "##Παρουσίαση συνόλου δεδομένων\n",
        "\n",
        "Πρόκειται για ένα σύνολο δεδομένων που περιγράφουν μετρήσεις από έναν ανθρώπινο εγκέφαλο σε δύο καταστάσεις: **χαλάρωση** και **σχεδίαση**. Με τον όρο \"σχεδίαση\" εννοούμε ότι ζητήθηκε από το άτομο που συμμετείχε στο πείραμα να φανταστεί ότι κινεί το δεξί του αντίχειρα χωρίς πράγματι να τον κινήσει, δηλαδή να σχεδιάσει πνευματικά τη διαδικασία κίνησης. Με κατάλληλες συνδέσεις ηλεκτροδίων μετρήθηκε η απόκριση του εγκεφάλου στις δύο περιπτώσεις ως μία κυματομορφή. Στη συνέχεια, χρησιμοποιήθηκε ειδική μεθοδολογία για την εξαγωγή των χαρακτηριστικών της κυματομορφής.\n",
        "\n",
        "Σύμφωνα με την [επίσημη ιστοσελίδα του dataset](http://archive.ics.uci.edu/ml/datasets/Planning+Relax), το σύνολο δεδομένων που θα μελετήσουμε περιέχει 182 δεδομένα με 13 χαρακτηριστικά το καθένα. Από αυτά τα 13 χαρακτηριστικά τα 12 είναι τα πραγματικά, ενώ το ένα αντιστοιχεί στο **label**, δηλαδή το είδος της απόκρισης στην οποία αντιστοιχούν αυτά τα χαρακτηριστικά όπως προκύπτει από το πείραμα.\n",
        "Όλα τα χαρακτηριστικά είναι πραγματικές τιμές και έχουν προκυψει μεσω της μεθόδου εξαγωγής χαρακτηριστικών από την κυματομορφή. Συνεπώς, δεν υπάρχουν μη διατεταγμένα χαρακτηριστικά.\n",
        "\n",
        "Ανοίγοντας το αρχείο με το dataset μπορούμε να παρατηρήσουμε ότι δεν υπάρχουν επικεφαλίδες ούτε αρίθμηση γραμμών. Κάθε στοιχείο χωρίζεται από το άλλο με αλλαγή γραμμής, ενώ τα χαρακτηριστικά των στοιχείων χωρίζονται με κενά. Αυτό φαίνεται και παρακάτω, όπου παρουσιάζουμε το αρχείο όπως διαβάστηκε, χωρίς προεπεξεργασία.\n",
        "\n",
        "Οι ετικέτες των κλάσεων βρίσκονται στην τελευταία (13η) στήλη του συνόλου δεδομένων. Έχουν τιμές 1 και 2 που αντιστοιχούν σε **σχεδίαση** και **χαλάρωση** αντίστοιχα.\n",
        "\n",
        "Παρακάτω, διαβάζουμε τα δεδομένα από το txt file που υπάρχει διαθέσιμο στο [url](\"http://archive.ics.uci.edu/ml/machine-learning-databases/00230/plrx.txt\") και τα περνάμε σε έναν ενιαίο πίνακα. Η μορφή του πίνακα όπως φαίνεται και παρακάτω είναι 182x13, όπως ακριβώς γνωρίζαμε από την περιγραφή του dataset, διότι έχουμε 182 δείγματα και 13 features (το 1 feature είναι το label). "
      ]
    },
    {
      "cell_type": "code",
      "metadata": {
        "colab": {
          "base_uri": "https://localhost:8080/"
        },
        "id": "WkVAQaD_LcFs",
        "outputId": "dfffe0af-d1c4-47cc-8aad-314e60488071"
      },
      "source": [
        "import pandas as pd\n",
        "import numpy as np\n",
        "\n",
        "data = pd.read_csv(\"http://archive.ics.uci.edu/ml/machine-learning-databases/00230/plrx.txt\", sep='\\s+', header=None)\n",
        "#show original data form\n",
        "print(data[:5])\n",
        "print()\n",
        "#auto-conversion to numpy array with .values() method\n",
        "res = data.values\n",
        "#res = np.array(res)\n",
        "print (\"Final data shape:\", res.shape)"
      ],
      "execution_count": 3,
      "outputs": [
        {
          "output_type": "stream",
          "text": [
            "        0        1         2         3   ...        9         10        11   12\n",
            "0 -0.17936 -0.20700 -0.209710 -0.097260  ... -0.032886  0.003383 -0.334250  1.0\n",
            "1 -0.14659 -0.16494  0.249870 -0.073985  ...  0.050759 -0.017511  0.066959  1.0\n",
            "2 -0.13131  0.51816  0.432810  0.397890  ... -0.040303  0.088057  0.631200  2.0\n",
            "3  0.64940  0.41878  0.148350  0.333490  ... -0.367230  0.364680  0.571720  1.0\n",
            "4 -0.40628  0.11503  0.073336  0.070066  ...  0.153750 -0.126950  0.184570  1.0\n",
            "\n",
            "[5 rows x 13 columns]\n",
            "\n",
            "Final data shape: (182, 13)\n"
          ],
          "name": "stdout"
        }
      ]
    },
    {
      "cell_type": "markdown",
      "metadata": {
        "id": "6EVlmcVKOA73"
      },
      "source": [
        "Διαχωρίζουμε τα δεδομένα μας σε δύο διαφορετικούς πίνακες για τα features και τα labels :"
      ]
    },
    {
      "cell_type": "code",
      "metadata": {
        "colab": {
          "base_uri": "https://localhost:8080/"
        },
        "id": "KYW1RW1jOK15",
        "outputId": "588d8312-8594-4aa8-f23e-caa79ac67bea"
      },
      "source": [
        "#the actual features are the first 12 elements\n",
        "features = res[:,:12]\n",
        "#the 13th element is the label (position 12 in the array starting from 0)\n",
        "labels = res[:, 12]\n",
        "labels = labels.astype(int)\n",
        "label_names = ['planning', 'relaxation']\n",
        "\n",
        "print(labels)\n",
        "print (labels.shape)\n",
        "print(features)\n",
        "print(features.shape)"
      ],
      "execution_count": 4,
      "outputs": [
        {
          "output_type": "stream",
          "text": [
            "[1 1 2 1 1 1 2 1 1 1 2 1 1 1 2 1 1 1 2 1 1 1 2 1 1 1 2 1 1 1 2 1 1 1 2 1 1\n",
            " 1 2 1 1 1 2 1 1 1 2 1 1 1 2 1 1 1 2 1 1 1 2 1 1 1 2 1 1 1 2 1 1 1 2 1 1 1\n",
            " 2 1 1 1 2 1 1 1 2 1 1 1 2 1 1 1 2 1 1 1 2 1 1 1 2 1 1 1 2 1 1 1 2 1 1 1 2\n",
            " 1 1 1 2 1 1 1 2 1 1 1 2 1 1 1 2 1 1 1 2 1 1 1 2 1 1 1 2 1 1 1 2 1 1 1 2 1\n",
            " 1 1 2 1 1 1 2 1 1 2 1 2 1 2 1 2 1 2 1 2 1 2 1 2 1 2 1 2 1 2 1 2 1 2]\n",
            "(182,)\n",
            "[[-0.17936   -0.207     -0.20971   ... -0.032886   0.0033827 -0.33425  ]\n",
            " [-0.14659   -0.16494    0.24987   ...  0.050759  -0.017511   0.066959 ]\n",
            " [-0.13131    0.51816    0.43281   ... -0.040303   0.088057   0.6312   ]\n",
            " ...\n",
            " [ 0.29877   -0.17962    0.032859  ... -0.41113    0.24683   -0.38916  ]\n",
            " [-0.37812   -0.52287    0.21541   ... -0.039117   0.007591   0.47603  ]\n",
            " [ 0.37913   -0.046562  -0.12336   ... -0.24229    0.17369    0.49063  ]]\n",
            "(182, 12)\n"
          ],
          "name": "stdout"
        }
      ]
    },
    {
      "cell_type": "markdown",
      "metadata": {
        "id": "I0ebXzhyNMXC"
      },
      "source": [
        "Δεν χρειάστηκε κάποια επιπλέον επεξεργασία στο αρχείο txt.\n",
        "\n",
        "\n",
        "\n",
        "Σύμφωνα με τις πληροφορίες για το dataset δεν υπάρχουν απουσιάζουσες τιμές σε αυτό το σύνολο δεδομένων.  \n",
        "Αυτό το διαπιστώνουμε και παρακάτω : \n"
      ]
    },
    {
      "cell_type": "code",
      "metadata": {
        "colab": {
          "base_uri": "https://localhost:8080/"
        },
        "id": "HMgeZ-gCPNdu",
        "outputId": "40164ec0-6387-452b-d142-0f44782b8068"
      },
      "source": [
        "null_values = data.isnull().any().any()\n",
        "if  null_values:\n",
        "  print(data.isnull())\n",
        "else:\n",
        "  print(\"There is no null value in data.\")"
      ],
      "execution_count": 6,
      "outputs": [
        {
          "output_type": "stream",
          "text": [
            "There is no null value in data.\n"
          ],
          "name": "stdout"
        }
      ]
    },
    {
      "cell_type": "markdown",
      "metadata": {
        "id": "chZdpJhbPKpJ"
      },
      "source": [
        "Όπως έχουμε ήδη αναφέρει, το σύνολο δεδομένων μας διαχωρίζεται σε δύο κλάσεις 1 και 2, που αντιστοιχούν σε δείγματα σχεδίασης και δείγματα χαλάρωσης. \n",
        "\n"
      ]
    },
    {
      "cell_type": "code",
      "metadata": {
        "colab": {
          "base_uri": "https://localhost:8080/"
        },
        "id": "ltKGvKPGNM2d",
        "outputId": "9a6f82b9-5e96-4526-f523-c07b35200f36"
      },
      "source": [
        "appear = np.bincount(labels)\n",
        "print (\"Planning Samples are \", appear[1], \". That equals to \", (appear[1]/len(labels))*100, \"% of the dataset\")\n",
        "print (\"Relax Samples are \", appear[2], \". That equals to \", (appear[2]/len(labels))*100, \"% of the dataset\")"
      ],
      "execution_count": 7,
      "outputs": [
        {
          "output_type": "stream",
          "text": [
            "Planning Samples are  130 . That equals to  71.42857142857143 % of the dataset\n",
            "Relax Samples are  52 . That equals to  28.57142857142857 % of the dataset\n"
          ],
          "name": "stdout"
        }
      ]
    },
    {
      "cell_type": "markdown",
      "metadata": {
        "id": "ZNlKu-WxZzCF"
      },
      "source": [
        "Παρατηρούμε ότι οι κλάσεις μας είναι αρκετά μη ισορροπημένες. Συγκεκριμένα η κλάση των δειγμάτων Σχεδίασης έχει παραπάνω από 1.5 φορά περισσότερα δείγματα από εκείνα της κλάσης Χαλάρωσης.\n",
        "Υπάρχουν δύο βασικές τεχνικές για την αντιμετώπιση αυτής της ανισορροπίας : το **Oversampling** και το **Undersampling**. Στην πρώτη περίπτωση, προσθέτουμε κάποια επιπλέον δείγματα στην κλάση που υστερεί, επαναλαμβάνοντας κάποια ήδη υπάρχοντα. Στην δεύτερη περίπτωση, αφαιρούμε από την \"μεγάλη\" κλάση κάποια δείγματα. Και οι δύο τεχνικές θα χρησιμοποιηθούν αργότερα για την βελτιστοποίηση της απόδοσης. "
      ]
    },
    {
      "cell_type": "markdown",
      "metadata": {
        "id": "24Dqb6qVUKQM"
      },
      "source": [
        "Στη συνέχεια, θα διαχωρίσουμε τα δεδομένα μας σε train και test δεδομένα. Το 20% των συνολικών δεδομένων μας θα αναλογεί στα test δεδομένα και το 80% στα train. Ο διαχωρισμός γίνεται με την έτοιμη συνάρτηση του scikit-learn. \n",
        "\n"
      ]
    },
    {
      "cell_type": "code",
      "metadata": {
        "colab": {
          "base_uri": "https://localhost:8080/"
        },
        "id": "HirMPr2dbeMo",
        "outputId": "1f54ca93-cae9-4d78-d6aa-d2acd171e25d"
      },
      "source": [
        "from sklearn.model_selection import train_test_split\n",
        "\n",
        "# Split our data\n",
        "train, test, train_labels, test_labels = train_test_split(features, labels, test_size=0.2)\n",
        "\n",
        "print(test.shape)\n",
        "print(train.shape)\n",
        "print(test_labels.shape)\n",
        "print(train_labels.shape)"
      ],
      "execution_count": 8,
      "outputs": [
        {
          "output_type": "stream",
          "text": [
            "(37, 12)\n",
            "(145, 12)\n",
            "(37,)\n",
            "(145,)\n"
          ],
          "name": "stdout"
        }
      ]
    },
    {
      "cell_type": "markdown",
      "metadata": {
        "id": "G0M9uBI6edVA"
      },
      "source": [
        "##Ταξινόμηση\n",
        "\n",
        "Στη συνέχεια της εργασίας θα εξετάσουμε τους εξής 3 ταξινομητές πάνω στο dataset μας : **Dummy classifier**, **Gaussian Naive Bayes** και **Κ-Nearest Neighbors**. "
      ]
    },
    {
      "cell_type": "markdown",
      "metadata": {
        "id": "HUf3zPqbe27S"
      },
      "source": [
        "### **Dummy Classifier**"
      ]
    },
    {
      "cell_type": "markdown",
      "metadata": {
        "id": "n2DQOSE8gZgI"
      },
      "source": [
        "Αρχικά θα εκπαίδευσούμε τον dummy classifier μας με τα train δεδομένα μέσω της default στρατηγικής του Dummy Classifier, η οποία είναι η στρατηγική prior : πρόβλεψη της πιο συχνής κλάσης. "
      ]
    },
    {
      "cell_type": "code",
      "metadata": {
        "colab": {
          "base_uri": "https://localhost:8080/"
        },
        "id": "ABy7Lq5-e5nI",
        "outputId": "5c8e1225-5290-4311-cb48-e44ae9673a17"
      },
      "source": [
        "from sklearn.dummy import DummyClassifier\n",
        "\n",
        "dc_uniform = DummyClassifier()\n",
        "dummy = dc_uniform.fit(train, train_labels)\n",
        "\n",
        "dummy_preds = dc_uniform.predict(test)\n",
        "print(dummy_preds)\n",
        "print(test_labels)"
      ],
      "execution_count": 9,
      "outputs": [
        {
          "output_type": "stream",
          "text": [
            "[1 1 1 2 1 2 1 1 1 1 1 1 1 1 2 2 1 1 1 1 1 1 1 1 2 1 1 1 2 1 1 1 2 1 2 1 2]\n",
            "[1 2 1 2 1 1 1 2 1 1 2 1 1 1 1 1 2 1 1 1 1 1 2 2 2 1 1 1 1 1 1 1 2 2 1 1 1]\n"
          ],
          "name": "stdout"
        },
        {
          "output_type": "stream",
          "text": [
            "/usr/local/lib/python3.6/dist-packages/sklearn/dummy.py:132: FutureWarning: The default value of strategy will change from stratified to prior in 0.24.\n",
            "  \"stratified to prior in 0.24.\", FutureWarning)\n"
          ],
          "name": "stderr"
        }
      ]
    },
    {
      "cell_type": "code",
      "metadata": {
        "colab": {
          "base_uri": "https://localhost:8080/"
        },
        "id": "Ko9u5C_VhAKG",
        "outputId": "9dd7dc93-1467-4e57-fe9e-e11cdbd8cc7e"
      },
      "source": [
        "from sklearn.metrics import confusion_matrix\n",
        "\n",
        "# Compute confusion matrix\n",
        "cnf_matrix = confusion_matrix(test_labels, dummy_preds)\n",
        "\n",
        "# τυπώνουμε το confusion matrix\n",
        "print(label_names)\n",
        "print(cnf_matrix)"
      ],
      "execution_count": 10,
      "outputs": [
        {
          "output_type": "stream",
          "text": [
            "['planning', 'relaxation']\n",
            "[[21  6]\n",
            " [ 7  3]]\n"
          ],
          "name": "stdout"
        }
      ]
    },
    {
      "cell_type": "markdown",
      "metadata": {
        "id": "rDVQTXyMKKwv"
      },
      "source": [
        "Βλέπουμε ότι 21 δείγματα ταξινομήθηκαν σωστά στην 1η κατηγορία και 1 σωστά στην 2η κατηγορία. 7 δείγματα ταξινομήθηκαν εσφαλμένα στην 2η κλάση, ενώ ανήκουν στην 1η και 8 δείγματα εσφαλμένα στην 1η κλάση, ενώ ανήκουν στην 2η κλάση."
      ]
    },
    {
      "cell_type": "code",
      "metadata": {
        "colab": {
          "base_uri": "https://localhost:8080/"
        },
        "id": "IoHqFaWUJnsz",
        "outputId": "fca3b9f3-9838-4f55-f8cf-866fa1990137"
      },
      "source": [
        "from sklearn.metrics import f1_score\n",
        "from sklearn.model_selection import cross_val_score\n",
        " \n",
        "dummy_f1_micro = f1_score(test_labels, dummy_preds, average='micro')\n",
        "dummy_f1_macro = f1_score(test_labels, dummy_preds, average='macro')\n",
        "\n",
        "print(\"The f1 micro score is \", dummy_f1_micro, \"\\n\")\n",
        "print(\"The f1 macro score is \", dummy_f1_macro, \"\\n\")"
      ],
      "execution_count": 11,
      "outputs": [
        {
          "output_type": "stream",
          "text": [
            "The f1 micro score is  0.6486486486486487 \n",
            "\n",
            "The f1 macro score is  0.5397129186602871 \n",
            "\n"
          ],
          "name": "stdout"
        }
      ]
    },
    {
      "cell_type": "markdown",
      "metadata": {
        "id": "FczqnYlCMOKC"
      },
      "source": [
        "Στην πρώτη περίπτωση που υπολογίζουμε την μετρική F1 με micro-average, λαμβάνουμε υπόψιν συνολικά τα δείγματα αθροίζοντας συνολικά. Στην δεύτερη περίπτωση, υπολογίζουμε το f1-score με macro-average, παίρνοντας τον μέσο όρο των f1 με την θεώρηση οτι οι κλάσεις έχουν το ίδιο βάρος. Σε αυτή την περίπτωση, δεν λαμβάνουμε υπόψιν την ανισορροπία που υπάρχει μεταξύ των δύο κλάσεων και για αυτό παρατηρούμε μικρότερη τιμή από την πρώτη περίπτωση."
      ]
    },
    {
      "cell_type": "markdown",
      "metadata": {
        "id": "6IAoZ0VChScq"
      },
      "source": [
        "### **Gaussian Naive Bayes Classifier**"
      ]
    },
    {
      "cell_type": "markdown",
      "metadata": {
        "id": "KYHZgAE9jjqp"
      },
      "source": [
        "Κατά παρόμοιο τρόπο με τον Dummy Classifier, οργανώνουμε και την δουλειά μας για τον Gaussian Naive Bayes Classifier. "
      ]
    },
    {
      "cell_type": "code",
      "metadata": {
        "colab": {
          "base_uri": "https://localhost:8080/"
        },
        "id": "sC7p8jecMAy4",
        "outputId": "70c09683-2740-4083-ff0f-4dec8437a893"
      },
      "source": [
        "from sklearn.naive_bayes import GaussianNB \n",
        "\n",
        "gnb = GaussianNB()\n",
        "gnb_model = gnb.fit(train, train_labels)\n",
        "\n",
        "gnb_preds = gnb.predict(test)\n",
        "print(gnb_preds)\n",
        "print(test_labels)"
      ],
      "execution_count": 12,
      "outputs": [
        {
          "output_type": "stream",
          "text": [
            "[1 1 1 1 2 1 2 1 1 2 1 1 2 2 1 2 1 1 1 1 2 1 1 1 1 1 2 1 1 1 1 1 1 2 1 2 1]\n",
            "[1 2 1 2 1 1 1 2 1 1 2 1 1 1 1 1 2 1 1 1 1 1 2 2 2 1 1 1 1 1 1 1 2 2 1 1 1]\n"
          ],
          "name": "stdout"
        }
      ]
    },
    {
      "cell_type": "code",
      "metadata": {
        "colab": {
          "base_uri": "https://localhost:8080/"
        },
        "id": "VpLwn9uGkZDn",
        "outputId": "faf96b56-f4d8-4739-d5e0-ea64d502643e"
      },
      "source": [
        "from sklearn.metrics import confusion_matrix\n",
        "\n",
        "# Compute confusion matrix\n",
        "gnb_cnf_matrix = confusion_matrix(test_labels, gnb_preds)\n",
        "\n",
        "# τυπώνουμε το confusion matrix\n",
        "print(label_names)\n",
        "print(gnb_cnf_matrix)"
      ],
      "execution_count": 13,
      "outputs": [
        {
          "output_type": "stream",
          "text": [
            "['planning', 'relaxation']\n",
            "[[18  9]\n",
            " [ 9  1]]\n"
          ],
          "name": "stdout"
        }
      ]
    },
    {
      "cell_type": "markdown",
      "metadata": {
        "id": "CwJYl7wCjvYm"
      },
      "source": [
        "Εδώ παρατηρούμε ότι το κύριο βάρος των εκτιμήσεων μας πέφτει στην πρώτη κλάση. Συγκεκριμένα, αυξάνουμε το ποσοστό επιτυχίας που έχουμε σε αυτήν, πετυχαίνοντας 23 σωστά δείγματα και μόνο 5 λάθος (που προβλέφθηκαν στην 2η κλάση ενώ ανήκουν στην 1η). Αντιθέτως, μόνο 1 δείγμα της 2ης κλάσης προβλέφθηκε σωστά σε αυτήν και τα υπόλοιπα 8 κατάταχθηκαν στην 1η κλάση."
      ]
    },
    {
      "cell_type": "code",
      "metadata": {
        "colab": {
          "base_uri": "https://localhost:8080/"
        },
        "id": "Wjij6LCfkriC",
        "outputId": "268f4c45-735a-45a3-ed4d-977146eafd97"
      },
      "source": [
        "gnb_f1_micro = f1_score(test_labels, gnb_preds, average='micro')\n",
        "gnb_f1_macro = f1_score(test_labels, gnb_preds, average='macro')\n",
        "\n",
        "\n",
        "print(\"The f1 micro score is \", gnb_f1_micro, \"\\n\")\n",
        "print(\"The f1 macro score is \", gnb_f1_macro, \"\\n\")"
      ],
      "execution_count": 14,
      "outputs": [
        {
          "output_type": "stream",
          "text": [
            "The f1 micro score is  0.5135135135135135 \n",
            "\n",
            "The f1 macro score is  0.3833333333333333 \n",
            "\n"
          ],
          "name": "stdout"
        }
      ]
    },
    {
      "cell_type": "markdown",
      "metadata": {
        "id": "uLbGq6alha_v"
      },
      "source": [
        "### **K-Nearest Neighbors Classifier**"
      ]
    },
    {
      "cell_type": "code",
      "metadata": {
        "colab": {
          "base_uri": "https://localhost:8080/"
        },
        "id": "TWsFzQRWhHPq",
        "outputId": "617bc6d6-31f9-4183-df74-d3ca99aea69f"
      },
      "source": [
        "from sklearn.neighbors import KNeighborsClassifier \n",
        "\n",
        "knn = KNeighborsClassifier() \n",
        "knn_model = knn.fit(train, train_labels)\n",
        "\n",
        "knn_preds = knn.predict(test)\n",
        "print(knn_preds)\n",
        "print(test_labels)"
      ],
      "execution_count": 15,
      "outputs": [
        {
          "output_type": "stream",
          "text": [
            "[2 1 1 1 1 1 1 2 1 2 1 2 1 1 1 1 1 1 1 1 1 1 1 1 1 1 1 2 1 1 2 1 2 1 1 1 1]\n",
            "[1 2 1 2 1 1 1 2 1 1 2 1 1 1 1 1 2 1 1 1 1 1 2 2 2 1 1 1 1 1 1 1 2 2 1 1 1]\n"
          ],
          "name": "stdout"
        }
      ]
    },
    {
      "cell_type": "code",
      "metadata": {
        "colab": {
          "base_uri": "https://localhost:8080/"
        },
        "id": "yZtQ1kLLk5pX",
        "outputId": "bff70a4b-eabd-4410-9ccd-d2e68c20c1a1"
      },
      "source": [
        "from sklearn.metrics import confusion_matrix\n",
        "\n",
        "# Compute confusion matrix\n",
        "knn_cnf_matrix = confusion_matrix(test_labels, knn_preds)\n",
        "\n",
        "# τυπώνουμε το confusion matrix\n",
        "print(label_names)\n",
        "print(knn_cnf_matrix)"
      ],
      "execution_count": 16,
      "outputs": [
        {
          "output_type": "stream",
          "text": [
            "['planning', 'relaxation']\n",
            "[[22  5]\n",
            " [ 8  2]]\n"
          ],
          "name": "stdout"
        }
      ]
    },
    {
      "cell_type": "markdown",
      "metadata": {
        "id": "R42YwnnllmOE"
      },
      "source": [
        "Και εδώ παρατηρούμε ότι το κύριο βάρος πέφτει ξανά στην 1η κλάση, αυξάνοντας ακόμα περισσότερο τα δείγματα που κατατάχθηκαν σε αυτήν (άρα σωστά) σε σχέση με τον GNB."
      ]
    },
    {
      "cell_type": "code",
      "metadata": {
        "colab": {
          "base_uri": "https://localhost:8080/"
        },
        "id": "EcINsrjjk-qz",
        "outputId": "dac01abf-fc3e-4f7e-c0a6-87790370cda7"
      },
      "source": [
        "knn_f1_micro = f1_score(test_labels, knn_preds, average='micro')\n",
        "knn_f1_macro = f1_score(test_labels, knn_preds, average='macro')\n",
        "\n",
        "print(\"The f1 micro score is \", knn_f1_micro, \"\\n\")\n",
        "print(\"The f1 macro score is \", knn_f1_macro, \"\\n\")"
      ],
      "execution_count": 17,
      "outputs": [
        {
          "output_type": "stream",
          "text": [
            "The f1 micro score is  0.6486486486486487 \n",
            "\n",
            "The f1 macro score is  0.5036119711042312 \n",
            "\n"
          ],
          "name": "stdout"
        }
      ]
    },
    {
      "cell_type": "markdown",
      "metadata": {
        "id": "fnhGfewdqCza"
      },
      "source": [
        "###Bar Plots"
      ]
    },
    {
      "cell_type": "code",
      "metadata": {
        "colab": {
          "base_uri": "https://localhost:8080/",
          "height": 545
        },
        "id": "J6Gt5s6XnM5W",
        "outputId": "7f640b63-46c5-420d-f238-f318910ba6ff"
      },
      "source": [
        "import matplotlib.pyplot as plt \n",
        "\n",
        "clfs = ['Dummy', 'GNB', 'KNN']\n",
        "f1_micro = [dummy_f1_micro, gnb_f1_micro, knn_f1_micro]\n",
        "f1_macro = [dummy_f1_macro, gnb_f1_macro, knn_f1_macro]\n",
        "\n",
        "plt.figure()\n",
        "plt.title(\"F1 MICRO\")\n",
        "plt.bar(clfs, f1_micro, width=0.5)\n",
        "plt.show()\n",
        "plt.close()\n",
        "\n",
        "plt.figure()\n",
        "plt.title(\"F1 MACRO\")\n",
        "plt.bar(clfs, f1_macro, width=0.5)\n",
        "plt.show()\n",
        "plt.close()"
      ],
      "execution_count": null,
      "outputs": [
        {
          "output_type": "display_data",
          "data": {
            "image/png": "[encoded data removed]",
            "text/plain": [
              "<Figure size 432x288 with 1 Axes>"
            ]
          },
          "metadata": {
            "tags": [],
            "needs_background": "light"
          }
        },
        {
          "output_type": "display_data",
          "data": {
            "image/png": "[encoded data removed]",
            "text/plain": [
              "<Figure size 432x288 with 1 Axes>"
            ]
          },
          "metadata": {
            "tags": [],
            "needs_background": "light"
          }
        }
      ]
    },
    {
      "cell_type": "markdown",
      "metadata": {
        "id": "PPEOQFv624US"
      },
      "source": [
        "Στη συγκεκριμένη εφαρμογή μας με το δεδομένο dataset, είναι λογικό να κάνουμε χρήση του micro-average της f1 μετρικής για την εξαγωγή πιο σωστών συμπερασμάτων, καθώς έχουμε ένα imbalance dataset. Από το πρώτο bar plot, φαίνεται ότι καλύτερη επίδοση πετυχαίνουμε τον 5-Nearest Neighbor ταξινομητή, μετά με τον Gaussian Naive Bayes και τέλος με τον Dummy Classifier, κάτι που είναι αναμενόμενο με βάση την θεωρία. \n",
        "\n",
        "Πατατηρώντας το δεύτερο bar plot, βλέπουμε ότι ο dummy classifier πετυχαίνει μία καλύτερη επίδοση στην macro-average f1 και είναι πιο κοντά στους υπόλοιπους classifiers απ' ότι στην περίπτωση της f1 micro-average. Αυτό μπορεί να συμβαίνει, επειδή στην περίπτωση του dummy classifier, η κλάση που περιέχει αρκετά λιγότερα δείγματα, μπορεί να έχει καλύτερη (ή να είναι αρκετά κοντά) f1 μετρική ξεχωριστά από την \"μεγάλη\" κλάση (σε σχέση με τους υπόλοιπους ταξινομητές). Έτσι, καθώς στην macro average, δεν υπάρχουν βάρη για την κάθε κλάση και λαμβάνουμε έναν συνολικό μέσο όρο, τότε η \"μικρή\" κλάση μπορεί να επηρεάζει το ίδιο την μετρική και άρα βλέπουμε ανακριβή αποτελέσματα. "
      ]
    },
    {
      "cell_type": "markdown",
      "metadata": {
        "id": "yQRc2WJH8K94"
      },
      "source": [
        "Μπορούμε να εκτυπώσουμε στη συνέχεια και το classification report για τον κάθε ταξινομητή :\n"
      ]
    },
    {
      "cell_type": "code",
      "metadata": {
        "colab": {
          "base_uri": "https://localhost:8080/"
        },
        "id": "B3gPrI_a7OHz",
        "outputId": "c6f3d183-b40b-4f98-f9aa-48a760700079"
      },
      "source": [
        "from sklearn.metrics import classification_report\n",
        "print (\"Dummy Classifier\")\n",
        "print(classification_report(test_labels, dummy_preds, target_names=label_names))\n",
        "print (\"Gaussian Naive Bayes\")\n",
        "print(classification_report(test_labels, gnb_preds, target_names=label_names))\n",
        "print (\"K-Nearest Neihgbors\")\n",
        "print(classification_report(test_labels, knn_preds, target_names=label_names))"
      ],
      "execution_count": null,
      "outputs": [
        {
          "output_type": "stream",
          "text": [
            "Dummy Classifier\n",
            "              precision    recall  f1-score   support\n",
            "\n",
            "    planning       0.65      0.56      0.60        27\n",
            "  relaxation       0.14      0.20      0.17        10\n",
            "\n",
            "    accuracy                           0.46        37\n",
            "   macro avg       0.40      0.38      0.38        37\n",
            "weighted avg       0.51      0.46      0.48        37\n",
            "\n",
            "Gaussian Naive Bayes\n",
            "              precision    recall  f1-score   support\n",
            "\n",
            "    planning       0.70      0.85      0.77        27\n",
            "  relaxation       0.00      0.00      0.00        10\n",
            "\n",
            "    accuracy                           0.62        37\n",
            "   macro avg       0.35      0.43      0.38        37\n",
            "weighted avg       0.51      0.62      0.56        37\n",
            "\n",
            "K-Nearest Neihgbors\n",
            "              precision    recall  f1-score   support\n",
            "\n",
            "    planning       0.74      0.85      0.79        27\n",
            "  relaxation       0.33      0.20      0.25        10\n",
            "\n",
            "    accuracy                           0.68        37\n",
            "   macro avg       0.54      0.53      0.52        37\n",
            "weighted avg       0.63      0.68      0.65        37\n",
            "\n"
          ],
          "name": "stdout"
        }
      ]
    },
    {
      "cell_type": "markdown",
      "metadata": {
        "id": "DznNWAle_Fkg"
      },
      "source": [
        "Παρατηρούμε ότι το precision μένει σχετικά σταθερό για την περίπτωση της πρώτης κλάσης σε όλες τις τρεις περιπτώσεις των ταξινομητών. Αντιθέτως, όπως παρατηρήσαμε και από τα confusion matrixes που εκτυπώναμε σε κάθε έναν ταξινομητή ξεχωριστά, τα False Positive της 2ης κλάσης μειώνονται καθώς μεταβαίνουμε από τον Dummy στον GNB και στον KNN, καθώς συγκεντρώνονται όλο και περισσότερα δείγματα στην 1η κλάση. Έτσι, η τιμή του precision αυξάνεται. Η κύρια διαφορά για τον micro-average f1 score φαίνεται να συμβαίνει στις τιμές του recall της 1ης κλάσης, το οποίο συνεχώς αυξάνεται (εκείνο της 2ης κλάσης παραμένει σταθερό, καθώς και στις 3 περιπτώσεις ισούται με $\\frac{1}{8+1}$) . Έτσι, καταλήγουμε στο συμπέρασμα ότι όλο και περισσότερα δείγματα ταξινομούνται στην πρώτη κλάση και επομένως μπορεί να έχουμε υψηλή ακρίβεια στην πραγματική εύρεση ενός δείγματος στην πρώτη κλάση, αλλά έχουμε και μεγάλο ποσοστό εσφαλμένων εκτιμήσεων όσον αφορά την δεύτερη κλάση. Το παραπάνω συμπέρασμα ανάγεται και από τις τιμές των confusion matrixes. Είναι εντυπωσιακό ότι και στους 3 ταξινομητές, ο αριθμός των $T_p$ της κλάσης \"relaxation\" είναι μόνο 1. \n",
        "Θυμίζουμε ότι για τον υπολογισμό του Precision, Recall και f1 ισχύουν οι τύποι : \n",
        "$$P = \\frac{T_p}{T_p+F_p}$$\n",
        "$$R = \\frac{T_p}{T_p + F_n}$$\n",
        "$$F1 = 2\\frac{P \\times R}{P+R}$$\n",
        "\n",
        "Από τα παραπάνω, προκύπτει και το προηγούμενο συμπέρασμα σχετικά με την ερμηνεία του macro-average f1_score. Η \"μικρή\" κλάση (η δεύτερη) στον dummy ταξινομητή πετυχαίνει καλύτερη ισορροπία μεταξύ precision και recall και συνεπώς έχει μία τιμή f1 κοντά σε εκείνες των άλλων 2 ταξινομητών. Έτσι, όταν λαμβάνουμε τον μέσο όρο χωρίς βάρη, προκύπτει πλησιέστερη τιμή.\n"
      ]
    },
    {
      "cell_type": "markdown",
      "metadata": {
        "id": "qIh6vWMCBlyE"
      },
      "source": [
        "##Βελτιστοποίηση Ταξινομητών"
      ]
    },
    {
      "cell_type": "code",
      "metadata": {
        "id": "g1PHf12MJFkn"
      },
      "source": [
        "from imblearn.pipeline import Pipeline\n",
        "\n",
        "from sklearn.feature_selection import VarianceThreshold\n",
        "from sklearn.decomposition import PCA\n",
        "#one of them will remain\n",
        "from sklearn.preprocessing import StandardScaler \n",
        "from sklearn.preprocessing import MinMaxScaler \n",
        "#finally we will chose one of them\n",
        "from imblearn.over_sampling import RandomOverSampler\n",
        "from imblearn.under_sampling import RandomUnderSampler\n",
        "\n",
        "from sklearn.metrics import confusion_matrix\n",
        "#from sklearn.model_selection import cross_val_score\n",
        "from sklearn.metrics import f1_score\n",
        "\n",
        "import warnings\n",
        "warnings.simplefilter(action='ignore', category=FutureWarning)"
      ],
      "execution_count": null,
      "outputs": []
    },
    {
      "cell_type": "markdown",
      "metadata": {
        "id": "3Prgwy6QJnQ8"
      },
      "source": [
        "Παρατηρούμε αρχικά τις διάφορες τιμές του variance στις οποίες κινείται κάθε feature μας. Αυτό θα μας βοηθήσει ώστε να χρησιμοποιήσουμε τα κατάλληλα όρια στον *Variance Threshold* για την βελτιστοποίηση."
      ]
    },
    {
      "cell_type": "code",
      "metadata": {
        "colab": {
          "base_uri": "https://localhost:8080/"
        },
        "id": "8uqxG1rIJuw1",
        "outputId": "84a7f603-1a94-4ef4-af3b-fc29189d1b19"
      },
      "source": [
        "train_variance = features.var(axis=0)\n",
        "print(train_variance)\n",
        "print(np.max(train_variance))"
      ],
      "execution_count": null,
      "outputs": [
        {
          "output_type": "stream",
          "text": [
            "[0.23176614 0.14656199 0.11710626 0.16985383 0.22604193 0.16251264\n",
            " 0.20889567 0.14895715 0.23908972 0.1824743  0.11764092 0.11101374]\n",
            "0.2390897191422523\n"
          ],
          "name": "stdout"
        }
      ]
    },
    {
      "cell_type": "code",
      "metadata": {
        "id": "liBw9AzfKA94"
      },
      "source": [
        "selector = VarianceThreshold()\n",
        "scaler = StandardScaler()\n",
        "ros = RandomOverSampler()\n",
        "pca = PCA()\n",
        "minmax = MinMaxScaler()\n",
        "rus = RandomUnderSampler()\n",
        "\n",
        "vthreshold = [0, 0.12, 0.15, 0.17, 0.21, 0.24] #προσαρμόζουμε τις τιμές μας στο variance που παρατηρήσαμε\n",
        "n_components = [3, 5, 8, 10, 12]\n",
        "#Aν θέλουμε να δοκιμάσουμε κατώφλια μεγαλύτερα του 0 στο VarianceThreshold, πρέπει πρώτα να εφαρμόσουμε τον minmaxscaler\n",
        "#(γιατί οι μεταβλητές με μεγάλες μέσες τιμές θα δώσουν γενικά μεγαλύτερη τιμή variance)\n",
        "#άρα θα πάει minmaxscaler->VarianceThreshold\n",
        "#H εφαρμογή του VarianceThreshold δεν έχει προφανώς νόημα μετά το StandarScaler (γιατί όλες οι μεταβλητές έχουν variance 1 μετά το transform)\n",
        "#VarTh->StandarScaler"
      ],
      "execution_count": null,
      "outputs": []
    },
    {
      "cell_type": "markdown",
      "metadata": {
        "id": "URCYIsaqHgTD"
      },
      "source": [
        "###**Dummy Classifier**"
      ]
    },
    {
      "cell_type": "code",
      "metadata": {
        "id": "8PzXw_X6L2oE"
      },
      "source": [
        "from sklearn.model_selection import GridSearchCV\n",
        "from sklearn.dummy import DummyClassifier\n",
        "\n",
        "dummy1 = DummyClassifier()\n",
        "dummy2 = DummyClassifier()\n",
        "dummy3 = DummyClassifier()\n",
        "dummy4 = DummyClassifier()\n",
        "dummy5 = DummyClassifier()\n",
        "dummy6 = DummyClassifier()\n",
        "dummy7 = DummyClassifier()"
      ],
      "execution_count": null,
      "outputs": []
    },
    {
      "cell_type": "code",
      "metadata": {
        "colab": {
          "base_uri": "https://localhost:8080/"
        },
        "id": "--uA7B6TFNhC",
        "outputId": "7df37acc-fd61-4c91-f247-67c6da6f7d5d"
      },
      "source": [
        "from sklearn.metrics import classification_report\n",
        "\n",
        "dummy_pipe1 = Pipeline(steps=[('selector', selector), ('scaler', scaler), ('sampler', ros), ('pca', pca), ('dummy', dummy1)], memory = 'tmp')\n",
        "dummy_pipe2 = Pipeline(steps=[('selector', selector), ('scaler', scaler), ('sampler', rus), ('pca', pca), ('dummy', dummy2)], memory = 'tmp')\n",
        "dummy_pipe3 = Pipeline(steps=[('scaler', minmax), ('selector', selector), ('sampler', ros), ('pca', pca), ('dummy', dummy3)], memory = 'tmp')\n",
        "dummy_pipe4 = Pipeline(steps=[('scaler', minmax), ('selector', selector), ('sampler', rus), ('pca', pca), ('dummy', dummy4)], memory = 'tmp')\n",
        "dummy_pipe5 = Pipeline(steps=[('scaler', minmax), ('selector', selector), ('pca', pca), ('dummy', dummy5)], memory = 'tmp')\n",
        "dummy_pipe6 = Pipeline(steps=[('selector', selector), ('sampler', rus), ('pca', pca), ('dummy', dummy6)], memory = 'tmp')\n",
        "dummy_pipe7 = Pipeline(steps=[ ('selector', selector), ('pca', pca), ('dummy', dummy7)], memory = 'tmp')\n",
        "\n",
        "dummy_pipes = [dummy_pipe1, dummy_pipe2, dummy_pipe3, dummy_pipe4, dummy_pipe5, dummy_pipe6, dummy_pipe7]\n",
        "\n",
        "for dummy_pipe in dummy_pipes:\n",
        "  #this returns me the best estimator\n",
        "  dummy_estimator = GridSearchCV(dummy_pipe, dict(selector__threshold=vthreshold, pca__n_components=n_components), cv=10, scoring='f1_macro', n_jobs=-1)\n",
        "  #to evaluate it we will use cross validation\n",
        "  #we can add other metrics as well\n",
        "  #dummy_f1_micro = np.mean(cross_val_score(dummy_estimator, train, train_labels, cv=10, scoring='f1_micro'))\n",
        "  #dummy_f1_macro = np.mean(cross_val_score(dummy_estimator, train, train_labels, cv=10, scoring='f1_macro'))\n",
        "  dummy_estimator.fit(train, train_labels)\n",
        "  print(\"Score\", dummy_estimator.best_score_)\n",
        "  print(dummy_estimator.best_estimator_)\n",
        "  print(dummy_estimator.best_params_)\n",
        "  print(\"-----------------------------------------------------------------------\")\n",
        "  #this returns me the best estimator\n",
        "  dummy_estimator = GridSearchCV(dummy_pipe, dict(selector__threshold=vthreshold, pca__n_components=n_components), cv=10, scoring='f1_micro', n_jobs=-1)\n",
        "  #to evaluate it we will use cross validation\n",
        "  #we can add other metrics as well\n",
        "  #dummy_f1_micro = np.mean(cross_val_score(dummy_estimator, train, train_labels, cv=10, scoring='f1_micro'))\n",
        "  #dummy_f1_macro = np.mean(cross_val_score(dummy_estimator, train, train_labels, cv=10, scoring='f1_macro'))\n",
        "  dummy_estimator.fit(train, train_labels)\n",
        "  print(\"Score\", dummy_estimator.best_score_)\n",
        "  print(dummy_estimator.best_estimator_)\n",
        "  print(dummy_estimator.best_params_)\n",
        "  print(\"-----------------------------------------------------------------------\")\n"
      ],
      "execution_count": null,
      "outputs": [
        {
          "output_type": "stream",
          "text": [
            "Score 0.5537383230804283\n",
            "Pipeline(memory='tmp',\n",
            "         steps=[('selector', VarianceThreshold(threshold=0.12)),\n",
            "                ('scaler',\n",
            "                 StandardScaler(copy=True, with_mean=True, with_std=True)),\n",
            "                ('sampler',\n",
            "                 RandomOverSampler(random_state=None, ratio=None,\n",
            "                                   return_indices=False,\n",
            "                                   sampling_strategy='auto')),\n",
            "                ('pca',\n",
            "                 PCA(copy=True, iterated_power='auto', n_components=5,\n",
            "                     random_state=None, svd_solver='auto', tol=0.0,\n",
            "                     whiten=False)),\n",
            "                ('dummy',\n",
            "                 DummyClassifier(constant=None, random_state=None,\n",
            "                                 strategy='warn'))],\n",
            "         verbose=False)\n",
            "{'pca__n_components': 5, 'selector__threshold': 0.12}\n",
            "-----------------------------------------------------------------------\n",
            "Score 0.5461904761904762\n",
            "Pipeline(memory='tmp',\n",
            "         steps=[('selector', VarianceThreshold(threshold=0)),\n",
            "                ('scaler',\n",
            "                 StandardScaler(copy=True, with_mean=True, with_std=True)),\n",
            "                ('sampler',\n",
            "                 RandomOverSampler(random_state=None, ratio=None,\n",
            "                                   return_indices=False,\n",
            "                                   sampling_strategy='auto')),\n",
            "                ('pca',\n",
            "                 PCA(copy=True, iterated_power='auto', n_components=3,\n",
            "                     random_state=None, svd_solver='auto', tol=0.0,\n",
            "                     whiten=False)),\n",
            "                ('dummy',\n",
            "                 DummyClassifier(constant=None, random_state=None,\n",
            "                                 strategy='warn'))],\n",
            "         verbose=False)\n",
            "{'pca__n_components': 3, 'selector__threshold': 0}\n",
            "-----------------------------------------------------------------------\n",
            "Score 0.48796799605623137\n",
            "Pipeline(memory='tmp',\n",
            "         steps=[('selector', VarianceThreshold(threshold=0)),\n",
            "                ('scaler',\n",
            "                 StandardScaler(copy=True, with_mean=True, with_std=True)),\n",
            "                ('sampler',\n",
            "                 RandomUnderSampler(random_state=None, ratio=None,\n",
            "                                    replacement=False, return_indices=False,\n",
            "                                    sampling_strategy='auto')),\n",
            "                ('pca',\n",
            "                 PCA(copy=True, iterated_power='auto', n_components=10,\n",
            "                     random_state=None, svd_solver='auto', tol=0.0,\n",
            "                     whiten=False)),\n",
            "                ('dummy',\n",
            "                 DummyClassifier(constant=None, random_state=None,\n",
            "                                 strategy='warn'))],\n",
            "         verbose=False)\n",
            "{'pca__n_components': 10, 'selector__threshold': 0}\n",
            "-----------------------------------------------------------------------\n",
            "Score 0.5947619047619048\n",
            "Pipeline(memory='tmp',\n",
            "         steps=[('selector', VarianceThreshold(threshold=0)),\n",
            "                ('scaler',\n",
            "                 StandardScaler(copy=True, with_mean=True, with_std=True)),\n",
            "                ('sampler',\n",
            "                 RandomUnderSampler(random_state=None, ratio=None,\n",
            "                                    replacement=False, return_indices=False,\n",
            "                                    sampling_strategy='auto')),\n",
            "                ('pca',\n",
            "                 PCA(copy=True, iterated_power='auto', n_components=8,\n",
            "                     random_state=None, svd_solver='auto', tol=0.0,\n",
            "                     whiten=False)),\n",
            "                ('dummy',\n",
            "                 DummyClassifier(constant=None, random_state=None,\n",
            "                                 strategy='warn'))],\n",
            "         verbose=False)\n",
            "{'pca__n_components': 8, 'selector__threshold': 0}\n",
            "-----------------------------------------------------------------------\n",
            "Score 0.5138721061360381\n",
            "Pipeline(memory='tmp',\n",
            "         steps=[('scaler', MinMaxScaler(copy=True, feature_range=(0, 1))),\n",
            "                ('selector', VarianceThreshold(threshold=0)),\n",
            "                ('sampler',\n",
            "                 RandomOverSampler(random_state=None, ratio=None,\n",
            "                                   return_indices=False,\n",
            "                                   sampling_strategy='auto')),\n",
            "                ('pca',\n",
            "                 PCA(copy=True, iterated_power='auto', n_components=3,\n",
            "                     random_state=None, svd_solver='auto', tol=0.0,\n",
            "                     whiten=False)),\n",
            "                ('dummy',\n",
            "                 DummyClassifier(constant=None, random_state=None,\n",
            "                                 strategy='warn'))],\n",
            "         verbose=False)\n",
            "{'pca__n_components': 3, 'selector__threshold': 0}\n",
            "-----------------------------------------------------------------------\n",
            "Score 0.5528571428571428\n",
            "Pipeline(memory='tmp',\n",
            "         steps=[('scaler', MinMaxScaler(copy=True, feature_range=(0, 1))),\n",
            "                ('selector', VarianceThreshold(threshold=0)),\n",
            "                ('sampler',\n",
            "                 RandomOverSampler(random_state=None, ratio=None,\n",
            "                                   return_indices=False,\n",
            "                                   sampling_strategy='auto')),\n",
            "                ('pca',\n",
            "                 PCA(copy=True, iterated_power='auto', n_components=12,\n",
            "                     random_state=None, svd_solver='auto', tol=0.0,\n",
            "                     whiten=False)),\n",
            "                ('dummy',\n",
            "                 DummyClassifier(constant=None, random_state=None,\n",
            "                                 strategy='warn'))],\n",
            "         verbose=False)\n",
            "{'pca__n_components': 12, 'selector__threshold': 0}\n",
            "-----------------------------------------------------------------------\n",
            "Score 0.49495844712562975\n",
            "Pipeline(memory='tmp',\n",
            "         steps=[('scaler', MinMaxScaler(copy=True, feature_range=(0, 1))),\n",
            "                ('selector', VarianceThreshold(threshold=0)),\n",
            "                ('sampler',\n",
            "                 RandomUnderSampler(random_state=None, ratio=None,\n",
            "                                    replacement=False, return_indices=False,\n",
            "                                    sampling_strategy='auto')),\n",
            "                ('pca',\n",
            "                 PCA(copy=True, iterated_power='auto', n_components=5,\n",
            "                     random_state=None, svd_solver='auto', tol=0.0,\n",
            "                     whiten=False)),\n",
            "                ('dummy',\n",
            "                 DummyClassifier(constant=None, random_state=None,\n",
            "                                 strategy='warn'))],\n",
            "         verbose=False)\n",
            "{'pca__n_components': 5, 'selector__threshold': 0}\n",
            "-----------------------------------------------------------------------\n",
            "Score 0.5023809523809523\n",
            "Pipeline(memory='tmp',\n",
            "         steps=[('scaler', MinMaxScaler(copy=True, feature_range=(0, 1))),\n",
            "                ('selector', VarianceThreshold(threshold=0)),\n",
            "                ('sampler',\n",
            "                 RandomUnderSampler(random_state=None, ratio=None,\n",
            "                                    replacement=False, return_indices=False,\n",
            "                                    sampling_strategy='auto')),\n",
            "                ('pca',\n",
            "                 PCA(copy=True, iterated_power='auto', n_components=5,\n",
            "                     random_state=None, svd_solver='auto', tol=0.0,\n",
            "                     whiten=False)),\n",
            "                ('dummy',\n",
            "                 DummyClassifier(constant=None, random_state=None,\n",
            "                                 strategy='warn'))],\n",
            "         verbose=False)\n",
            "{'pca__n_components': 5, 'selector__threshold': 0}\n",
            "-----------------------------------------------------------------------\n",
            "Score 0.5732113056026099\n",
            "Pipeline(memory='tmp',\n",
            "         steps=[('scaler', MinMaxScaler(copy=True, feature_range=(0, 1))),\n",
            "                ('selector', VarianceThreshold(threshold=0)),\n",
            "                ('pca',\n",
            "                 PCA(copy=True, iterated_power='auto', n_components=10,\n",
            "                     random_state=None, svd_solver='auto', tol=0.0,\n",
            "                     whiten=False)),\n",
            "                ('dummy',\n",
            "                 DummyClassifier(constant=None, random_state=None,\n",
            "                                 strategy='warn'))],\n",
            "         verbose=False)\n",
            "{'pca__n_components': 10, 'selector__threshold': 0}\n",
            "-----------------------------------------------------------------------\n",
            "Score 0.64\n",
            "Pipeline(memory='tmp',\n",
            "         steps=[('scaler', MinMaxScaler(copy=True, feature_range=(0, 1))),\n",
            "                ('selector', VarianceThreshold(threshold=0)),\n",
            "                ('pca',\n",
            "                 PCA(copy=True, iterated_power='auto', n_components=8,\n",
            "                     random_state=None, svd_solver='auto', tol=0.0,\n",
            "                     whiten=False)),\n",
            "                ('dummy',\n",
            "                 DummyClassifier(constant=None, random_state=None,\n",
            "                                 strategy='warn'))],\n",
            "         verbose=False)\n",
            "{'pca__n_components': 8, 'selector__threshold': 0}\n",
            "-----------------------------------------------------------------------\n",
            "Score 0.5672994046716957\n",
            "Pipeline(memory='tmp',\n",
            "         steps=[('selector', VarianceThreshold(threshold=0)),\n",
            "                ('sampler',\n",
            "                 RandomUnderSampler(random_state=None, ratio=None,\n",
            "                                    replacement=False, return_indices=False,\n",
            "                                    sampling_strategy='auto')),\n",
            "                ('pca',\n",
            "                 PCA(copy=True, iterated_power='auto', n_components=3,\n",
            "                     random_state=None, svd_solver='auto', tol=0.0,\n",
            "                     whiten=False)),\n",
            "                ('dummy',\n",
            "                 DummyClassifier(constant=None, random_state=None,\n",
            "                                 strategy='warn'))],\n",
            "         verbose=False)\n",
            "{'pca__n_components': 3, 'selector__threshold': 0}\n",
            "-----------------------------------------------------------------------\n",
            "Score 0.5804761904761905\n",
            "Pipeline(memory='tmp',\n",
            "         steps=[('selector', VarianceThreshold(threshold=0)),\n",
            "                ('sampler',\n",
            "                 RandomUnderSampler(random_state=None, ratio=None,\n",
            "                                    replacement=False, return_indices=False,\n",
            "                                    sampling_strategy='auto')),\n",
            "                ('pca',\n",
            "                 PCA(copy=True, iterated_power='auto', n_components=3,\n",
            "                     random_state=None, svd_solver='auto', tol=0.0,\n",
            "                     whiten=False)),\n",
            "                ('dummy',\n",
            "                 DummyClassifier(constant=None, random_state=None,\n",
            "                                 strategy='warn'))],\n",
            "         verbose=False)\n",
            "{'pca__n_components': 3, 'selector__threshold': 0}\n",
            "-----------------------------------------------------------------------\n",
            "Score 0.612097346462335\n",
            "Pipeline(memory='tmp',\n",
            "         steps=[('selector', VarianceThreshold(threshold=0)),\n",
            "                ('pca',\n",
            "                 PCA(copy=True, iterated_power='auto', n_components=5,\n",
            "                     random_state=None, svd_solver='auto', tol=0.0,\n",
            "                     whiten=False)),\n",
            "                ('dummy',\n",
            "                 DummyClassifier(constant=None, random_state=None,\n",
            "                                 strategy='warn'))],\n",
            "         verbose=False)\n",
            "{'pca__n_components': 5, 'selector__threshold': 0}\n",
            "-----------------------------------------------------------------------\n",
            "Score 0.6076190476190476\n",
            "Pipeline(memory='tmp',\n",
            "         steps=[('selector', VarianceThreshold(threshold=0.12)),\n",
            "                ('pca',\n",
            "                 PCA(copy=True, iterated_power='auto', n_components=5,\n",
            "                     random_state=None, svd_solver='auto', tol=0.0,\n",
            "                     whiten=False)),\n",
            "                ('dummy',\n",
            "                 DummyClassifier(constant=None, random_state=None,\n",
            "                                 strategy='warn'))],\n",
            "         verbose=False)\n",
            "{'pca__n_components': 5, 'selector__threshold': 0.12}\n",
            "-----------------------------------------------------------------------\n"
          ],
          "name": "stdout"
        }
      ]
    },
    {
      "cell_type": "markdown",
      "metadata": {
        "id": "m8HkGjjKJSRu"
      },
      "source": [
        "Τα παραπάνω αποτελέσματα οδηγούν σε κάποια πολύ ενδιαφέροντα συμπεράσματα σχετικά με τους ταξινομητές **Dummy**. Παρατηρούμε ότι η απόδοση όλων των ταξινομητών είναι ίδια, εκτός από αυτούς που τους λείπει ο **sampler** από την προεπεξεργασία. Καταλαβαίνουμε, λοιπόν, ότι η υψηλή ή χαμηλή απόδοσή τους εξαρτάται από το πλήθος των δειγμάτων που τους εισάγουμε. Αξίζει να σημειώσουμε ότι αν τρέξουμε με τους ίδιους ταξινομητές τα ίδια δεδομένα, θα παίρναμε διαφορετικές επιδόσεις. Οι παρατηρήσεις αυτές δε μας κάνουν εντύπωση δεδομένου ότι η λειτουργία των **Dummy** ταξινομητών βασίζεται σε τυχαίες προβλέψεις, σεβόμενες την κατανομή των χαρακτηριστικών, όπως την εξάγει ο ταξινομητής. \n",
        "\n",
        "Η επιλογή, επομένως, του κατάλληλου **Pipeline** για τον **Dummy** ταξινομητή δεν είναι καίρια -ο ταξινομητής έτσι κι αλλιώς θα βασίσει στην \"τύχη\" τα αποτελέσματά του.\n",
        "\n",
        "Με βάση και τα παραπάνω αποτελέσματα θα επιλέξουμε τον απλό, χωρίς προεπεξεργασία δεδομένων, **Dummy** ταξινομητή."
      ]
    },
    {
      "cell_type": "code",
      "metadata": {
        "colab": {
          "base_uri": "https://localhost:8080/"
        },
        "id": "ZwGL2nr_qv9m",
        "outputId": "5bc40746-f230-42fe-9dd4-ef38fd9848c2"
      },
      "source": [
        "#after having found the best estimator we repeat fitting-predicting to measure performance\n",
        "best_dummy =  DummyClassifier()\n",
        "dummy_pipe = Pipeline(steps=[('dummy', best_dummy)], memory = 'tmp') #best\n",
        "#gnb_estimator = GridSearchCV(gnb_pipe, dict( pca__n_components=n_components ), cv=10, scoring='f1_micro', n_jobs=-1) \n",
        "\n",
        "import time\n",
        "\n",
        "#fitting\n",
        "start_time_fit = time.time()\n",
        "#gnb_estimator.fit(train, train_labels)\n",
        "dummy_pipe.fit(train, train_labels)\n",
        "dummy_fit_time = time.time() - start_time_fit\n",
        "\n",
        "#predicting\n",
        "start_time_predict = time.time()\n",
        "#gnb_opt_preds = gnb_estimator.predict(test)\n",
        "dummy_opt_preds = dummy_pipe.predict(test)\n",
        "dummy_predict_time = time.time() - start_time_predict\n",
        "\n",
        "print(\"Συνολικός χρόνος fit και predict: %s seconds\" % (time.time() - start_time_fit))\n",
        "print(\"Fitting time\", dummy_fit_time)\n",
        "print(\"Predicting time\", dummy_predict_time)\n",
        "print()\n",
        "print(\"Classification Report\")\n",
        "print(classification_report(test_labels, dummy_opt_preds))\n",
        "\n",
        "#print confusion matrix, f1-micro and f1-macro\n",
        "dummy_opt_cnf_matrix = confusion_matrix(test_labels, dummy_opt_preds)\n",
        "\n",
        "print()\n",
        "print(\"Confusion Matrix\")\n",
        "print(label_names)\n",
        "print(dummy_opt_cnf_matrix)\n",
        "\n",
        "dummy_opt_f1_micro = f1_score(test_labels, dummy_opt_preds, average='micro')\n",
        "dummy_opt_f1_macro = f1_score(test_labels, dummy_opt_preds, average='macro')\n",
        "\n",
        "print()\n",
        "print(\"The f1 micro score is \", dummy_opt_f1_micro, \"\\n\")\n",
        "print(\"The f1 macro score is \", dummy_opt_f1_macro, \"\\n\")"
      ],
      "execution_count": null,
      "outputs": [
        {
          "output_type": "stream",
          "text": [
            "Συνολικός χρόνος fit και predict: 0.0011653900146484375 seconds\n",
            "Fitting time 0.0008578300476074219\n",
            "Predicting time 0.0002181529998779297\n",
            "\n",
            "Classification Report\n",
            "              precision    recall  f1-score   support\n",
            "\n",
            "           1       0.83      0.89      0.86        27\n",
            "           2       0.62      0.50      0.56        10\n",
            "\n",
            "    accuracy                           0.78        37\n",
            "   macro avg       0.73      0.69      0.71        37\n",
            "weighted avg       0.77      0.78      0.78        37\n",
            "\n",
            "\n",
            "Confusion Matrix\n",
            "['planning', 'relaxation']\n",
            "[[24  3]\n",
            " [ 5  5]]\n",
            "\n",
            "The f1 micro score is  0.7837837837837838 \n",
            "\n",
            "The f1 macro score is  0.7063492063492064 \n",
            "\n"
          ],
          "name": "stdout"
        }
      ]
    },
    {
      "cell_type": "markdown",
      "metadata": {
        "id": "0HwpIhTSb_Cx"
      },
      "source": [
        "###**Gaussian Naive Bayes**"
      ]
    },
    {
      "cell_type": "code",
      "metadata": {
        "id": "piBCdcjVRkCP"
      },
      "source": [
        "from sklearn.model_selection import GridSearchCV\n",
        "from sklearn.naive_bayes import GaussianNB \n",
        "\n",
        "gnb1 = GaussianNB()\n",
        "gnb2 = GaussianNB()\n",
        "gnb3 = GaussianNB()\n",
        "gnb4 = GaussianNB()\n",
        "gnb5 = GaussianNB()\n",
        "gnb6 = GaussianNB()\n",
        "gnb7 = GaussianNB()\n",
        "gnb8 = GaussianNB()\n",
        "gnb9 = GaussianNB()"
      ],
      "execution_count": null,
      "outputs": []
    },
    {
      "cell_type": "markdown",
      "metadata": {
        "id": "jBBho9-MSPBD"
      },
      "source": [
        "Χρησιμοποιούμε τεχνική **top-down** προκειμένου να βρούμε την βέλτιστη αρχιτεκτονική. Αυτό σημαίνει ότι ξεκινάμε με όλα τα δυνατά στάδια και στη συνέχεια εφαρμόζουμε κάποιους διαφορετικούς συνδυασμούς αφαιρώντας στάδια. "
      ]
    },
    {
      "cell_type": "code",
      "metadata": {
        "colab": {
          "base_uri": "https://localhost:8080/"
        },
        "id": "dZNejNJwXZla",
        "outputId": "c4465a0d-5978-47db-a86d-37b8fcdb54a9"
      },
      "source": [
        "#searching for best estimator\n",
        "from sklearn.metrics import classification_report\n",
        "\n",
        "gnb_pipe1 = Pipeline(steps=[('selector', selector), ('scaler', scaler), ('sampler', ros), ('pca', pca), ('gnb', gnb1)], memory = 'tmp')\n",
        "gnb_pipe2 = Pipeline(steps=[('selector', selector), ('scaler', scaler), ('sampler', rus), ('pca', pca), ('gnb', gnb2)], memory = 'tmp')\n",
        "gnb_pipe3 = Pipeline(steps=[('scaler', minmax), ('selector', selector), ('sampler', ros), ('pca', pca), ('gnb', gnb3)], memory = 'tmp')\n",
        "gnb_pipe4 = Pipeline(steps=[('scaler', minmax), ('selector', selector), ('sampler', rus), ('pca', pca), ('gnb', gnb4)], memory = 'tmp')\n",
        "gnb_pipe5 = Pipeline(steps=[('scaler', minmax), ('selector', selector), ('pca', pca), ('gnb', gnb5)], memory = 'tmp')\n",
        "gnb_pipe6 = Pipeline(steps=[('selector', selector), ('sampler', rus), ('pca', pca), ('gnb', gnb6)], memory = 'tmp')\n",
        "gnb_pipe7 = Pipeline(steps=[ ('selector', selector), ('pca', pca), ('gnb', gnb7)], memory = 'tmp')\n",
        "gnb_pipe8 = Pipeline(steps=[('scaler', minmax), ('selector', selector), ('gnb', gnb8)], memory = 'tmp')\n",
        "gnb_pipe9 = Pipeline(steps=[ ('pca', pca), ('gnb', gnb9)], memory = 'tmp')\n",
        "\n",
        "gnb_pipes = [gnb_pipe1, gnb_pipe2, gnb_pipe3, gnb_pipe4, gnb_pipe5, gnb_pipe6, gnb_pipe7, gnb_pipe8, gnb_pipe9]\n",
        "\n",
        "count = 0\n",
        "for gnb_pipe in gnb_pipes:\n",
        "  if (count == 7):\n",
        "    gnb_estimator = GridSearchCV(gnb_pipe, dict(selector__threshold=vthreshold), cv=10, scoring='f1_macro', n_jobs=-1)\n",
        "  elif (count == 8):\n",
        "    gnb_estimator = GridSearchCV(gnb_pipe, dict( pca__n_components=n_components), cv=10, scoring='f1_macro', n_jobs=-1)\n",
        "  else :\n",
        "    gnb_estimator = GridSearchCV(gnb_pipe, dict(selector__threshold=vthreshold, pca__n_components=n_components), cv=10, scoring='f1_macro', n_jobs=-1)\n",
        "  gnb_estimator.fit(train, train_labels)\n",
        "  print(\"Score\", gnb_estimator.best_score_)\n",
        "  print(gnb_estimator.best_estimator_)\n",
        "  print(gnb_estimator.best_params_)\n",
        "  print(\"-----------------------------------------------------------------------------------\")\n",
        "  if (count == 7):\n",
        "    gnb_estimator = GridSearchCV(gnb_pipe, dict(selector__threshold=vthreshold), cv=10, scoring='f1_micro', n_jobs=-1)\n",
        "  elif (count== 8):\n",
        "    gnb_estimator = GridSearchCV(gnb_pipe, dict( pca__n_components=n_components), cv=10, scoring='f1_micro', n_jobs=-1)\n",
        "  else :\n",
        "    gnb_estimator = GridSearchCV(gnb_pipe, dict(selector__threshold=vthreshold, pca__n_components=n_components), cv=10, scoring='f1_micro', n_jobs=-1)\n",
        "  gnb_estimator.fit(train, train_labels)\n",
        "  print(\"Score\", gnb_estimator.best_score_)\n",
        "  print(gnb_estimator.best_estimator_)\n",
        "  print(gnb_estimator.best_params_)\n",
        "  print(\"-----------------------------------------------------------------------------------\")\n",
        "  count = count+1\n"
      ],
      "execution_count": null,
      "outputs": [
        {
          "output_type": "stream",
          "text": [
            "Score 0.45976064913758413\n",
            "Pipeline(memory='tmp',\n",
            "         steps=[('selector', VarianceThreshold(threshold=0.12)),\n",
            "                ('scaler',\n",
            "                 StandardScaler(copy=True, with_mean=True, with_std=True)),\n",
            "                ('sampler',\n",
            "                 RandomOverSampler(random_state=None, ratio=None,\n",
            "                                   return_indices=False,\n",
            "                                   sampling_strategy='auto')),\n",
            "                ('pca',\n",
            "                 PCA(copy=True, iterated_power='auto', n_components=5,\n",
            "                     random_state=None, svd_solver='auto', tol=0.0,\n",
            "                     whiten=False)),\n",
            "                ('gnb', GaussianNB(priors=None, var_smoothing=1e-09))],\n",
            "         verbose=False)\n",
            "{'pca__n_components': 5, 'selector__threshold': 0.12}\n",
            "-----------------------------------------------------------------------------------\n",
            "Score 0.5009523809523809\n",
            "Pipeline(memory='tmp',\n",
            "         steps=[('selector', VarianceThreshold(threshold=0.12)),\n",
            "                ('scaler',\n",
            "                 StandardScaler(copy=True, with_mean=True, with_std=True)),\n",
            "                ('sampler',\n",
            "                 RandomOverSampler(random_state=None, ratio=None,\n",
            "                                   return_indices=False,\n",
            "                                   sampling_strategy='auto')),\n",
            "                ('pca',\n",
            "                 PCA(copy=True, iterated_power='auto', n_components=5,\n",
            "                     random_state=None, svd_solver='auto', tol=0.0,\n",
            "                     whiten=False)),\n",
            "                ('gnb', GaussianNB(priors=None, var_smoothing=1e-09))],\n",
            "         verbose=False)\n",
            "{'pca__n_components': 5, 'selector__threshold': 0.12}\n",
            "-----------------------------------------------------------------------------------\n",
            "Score 0.46826785014091515\n",
            "Pipeline(memory='tmp',\n",
            "         steps=[('selector', VarianceThreshold(threshold=0.17)),\n",
            "                ('scaler',\n",
            "                 StandardScaler(copy=True, with_mean=True, with_std=True)),\n",
            "                ('sampler',\n",
            "                 RandomUnderSampler(random_state=None, ratio=None,\n",
            "                                    replacement=False, return_indices=False,\n",
            "                                    sampling_strategy='auto')),\n",
            "                ('pca',\n",
            "                 PCA(copy=True, iterated_power='auto', n_components=3,\n",
            "                     random_state=None, svd_solver='auto', tol=0.0,\n",
            "                     whiten=False)),\n",
            "                ('gnb', GaussianNB(priors=None, var_smoothing=1e-09))],\n",
            "         verbose=False)\n",
            "{'pca__n_components': 3, 'selector__threshold': 0.17}\n",
            "-----------------------------------------------------------------------------------\n",
            "Score 0.4904761904761905\n",
            "Pipeline(memory='tmp',\n",
            "         steps=[('selector', VarianceThreshold(threshold=0.12)),\n",
            "                ('scaler',\n",
            "                 StandardScaler(copy=True, with_mean=True, with_std=True)),\n",
            "                ('sampler',\n",
            "                 RandomUnderSampler(random_state=None, ratio=None,\n",
            "                                    replacement=False, return_indices=False,\n",
            "                                    sampling_strategy='auto')),\n",
            "                ('pca',\n",
            "                 PCA(copy=True, iterated_power='auto', n_components=8,\n",
            "                     random_state=None, svd_solver='auto', tol=0.0,\n",
            "                     whiten=False)),\n",
            "                ('gnb', GaussianNB(priors=None, var_smoothing=1e-09))],\n",
            "         verbose=False)\n",
            "{'pca__n_components': 8, 'selector__threshold': 0.12}\n",
            "-----------------------------------------------------------------------------------\n",
            "Score 0.47970702500114265\n",
            "Pipeline(memory='tmp',\n",
            "         steps=[('scaler', MinMaxScaler(copy=True, feature_range=(0, 1))),\n",
            "                ('selector', VarianceThreshold(threshold=0)),\n",
            "                ('sampler',\n",
            "                 RandomOverSampler(random_state=None, ratio=None,\n",
            "                                   return_indices=False,\n",
            "                                   sampling_strategy='auto')),\n",
            "                ('pca',\n",
            "                 PCA(copy=True, iterated_power='auto', n_components=5,\n",
            "                     random_state=None, svd_solver='auto', tol=0.0,\n",
            "                     whiten=False)),\n",
            "                ('gnb', GaussianNB(priors=None, var_smoothing=1e-09))],\n",
            "         verbose=False)\n",
            "{'pca__n_components': 5, 'selector__threshold': 0}\n",
            "-----------------------------------------------------------------------------------\n",
            "Score 0.5514285714285715\n",
            "Pipeline(memory='tmp',\n",
            "         steps=[('scaler', MinMaxScaler(copy=True, feature_range=(0, 1))),\n",
            "                ('selector', VarianceThreshold(threshold=0)),\n",
            "                ('sampler',\n",
            "                 RandomOverSampler(random_state=None, ratio=None,\n",
            "                                   return_indices=False,\n",
            "                                   sampling_strategy='auto')),\n",
            "                ('pca',\n",
            "                 PCA(copy=True, iterated_power='auto', n_components=3,\n",
            "                     random_state=None, svd_solver='auto', tol=0.0,\n",
            "                     whiten=False)),\n",
            "                ('gnb', GaussianNB(priors=None, var_smoothing=1e-09))],\n",
            "         verbose=False)\n",
            "{'pca__n_components': 3, 'selector__threshold': 0}\n",
            "-----------------------------------------------------------------------------------\n",
            "Score 0.47991586500874417\n",
            "Pipeline(memory='tmp',\n",
            "         steps=[('scaler', MinMaxScaler(copy=True, feature_range=(0, 1))),\n",
            "                ('selector', VarianceThreshold(threshold=0)),\n",
            "                ('sampler',\n",
            "                 RandomUnderSampler(random_state=None, ratio=None,\n",
            "                                    replacement=False, return_indices=False,\n",
            "                                    sampling_strategy='auto')),\n",
            "                ('pca',\n",
            "                 PCA(copy=True, iterated_power='auto', n_components=12,\n",
            "                     random_state=None, svd_solver='auto', tol=0.0,\n",
            "                     whiten=False)),\n",
            "                ('gnb', GaussianNB(priors=None, var_smoothing=1e-09))],\n",
            "         verbose=False)\n",
            "{'pca__n_components': 12, 'selector__threshold': 0}\n",
            "-----------------------------------------------------------------------------------\n",
            "Score 0.5295238095238095\n",
            "Pipeline(memory='tmp',\n",
            "         steps=[('scaler', MinMaxScaler(copy=True, feature_range=(0, 1))),\n",
            "                ('selector', VarianceThreshold(threshold=0)),\n",
            "                ('sampler',\n",
            "                 RandomUnderSampler(random_state=None, ratio=None,\n",
            "                                    replacement=False, return_indices=False,\n",
            "                                    sampling_strategy='auto')),\n",
            "                ('pca',\n",
            "                 PCA(copy=True, iterated_power='auto', n_components=3,\n",
            "                     random_state=None, svd_solver='auto', tol=0.0,\n",
            "                     whiten=False)),\n",
            "                ('gnb', GaussianNB(priors=None, var_smoothing=1e-09))],\n",
            "         verbose=False)\n",
            "{'pca__n_components': 3, 'selector__threshold': 0}\n",
            "-----------------------------------------------------------------------------------\n",
            "Score 0.49156131549609816\n",
            "Pipeline(memory='tmp',\n",
            "         steps=[('scaler', MinMaxScaler(copy=True, feature_range=(0, 1))),\n",
            "                ('selector', VarianceThreshold(threshold=0)),\n",
            "                ('pca',\n",
            "                 PCA(copy=True, iterated_power='auto', n_components=3,\n",
            "                     random_state=None, svd_solver='auto', tol=0.0,\n",
            "                     whiten=False)),\n",
            "                ('gnb', GaussianNB(priors=None, var_smoothing=1e-09))],\n",
            "         verbose=False)\n",
            "{'pca__n_components': 3, 'selector__threshold': 0}\n",
            "-----------------------------------------------------------------------------------\n",
            "Score 0.7176190476190476\n",
            "Pipeline(memory='tmp',\n",
            "         steps=[('scaler', MinMaxScaler(copy=True, feature_range=(0, 1))),\n",
            "                ('selector', VarianceThreshold(threshold=0)),\n",
            "                ('pca',\n",
            "                 PCA(copy=True, iterated_power='auto', n_components=3,\n",
            "                     random_state=None, svd_solver='auto', tol=0.0,\n",
            "                     whiten=False)),\n",
            "                ('gnb', GaussianNB(priors=None, var_smoothing=1e-09))],\n",
            "         verbose=False)\n",
            "{'pca__n_components': 3, 'selector__threshold': 0}\n",
            "-----------------------------------------------------------------------------------\n",
            "Score 0.4758997933610936\n",
            "Pipeline(memory='tmp',\n",
            "         steps=[('selector', VarianceThreshold(threshold=0)),\n",
            "                ('sampler',\n",
            "                 RandomUnderSampler(random_state=None, ratio=None,\n",
            "                                    replacement=False, return_indices=False,\n",
            "                                    sampling_strategy='auto')),\n",
            "                ('pca',\n",
            "                 PCA(copy=True, iterated_power='auto', n_components=10,\n",
            "                     random_state=None, svd_solver='auto', tol=0.0,\n",
            "                     whiten=False)),\n",
            "                ('gnb', GaussianNB(priors=None, var_smoothing=1e-09))],\n",
            "         verbose=False)\n",
            "{'pca__n_components': 10, 'selector__threshold': 0}\n",
            "-----------------------------------------------------------------------------------\n",
            "Score 0.5095238095238095\n",
            "Pipeline(memory='tmp',\n",
            "         steps=[('selector', VarianceThreshold(threshold=0.12)),\n",
            "                ('sampler',\n",
            "                 RandomUnderSampler(random_state=None, ratio=None,\n",
            "                                    replacement=False, return_indices=False,\n",
            "                                    sampling_strategy='auto')),\n",
            "                ('pca',\n",
            "                 PCA(copy=True, iterated_power='auto', n_components=8,\n",
            "                     random_state=None, svd_solver='auto', tol=0.0,\n",
            "                     whiten=False)),\n",
            "                ('gnb', GaussianNB(priors=None, var_smoothing=1e-09))],\n",
            "         verbose=False)\n",
            "{'pca__n_components': 8, 'selector__threshold': 0.12}\n",
            "-----------------------------------------------------------------------------------\n",
            "Score 0.5008817580842753\n",
            "Pipeline(memory='tmp',\n",
            "         steps=[('selector', VarianceThreshold(threshold=0)),\n",
            "                ('pca',\n",
            "                 PCA(copy=True, iterated_power='auto', n_components=12,\n",
            "                     random_state=None, svd_solver='auto', tol=0.0,\n",
            "                     whiten=False)),\n",
            "                ('gnb', GaussianNB(priors=None, var_smoothing=1e-09))],\n",
            "         verbose=False)\n",
            "{'pca__n_components': 12, 'selector__threshold': 0}\n",
            "-----------------------------------------------------------------------------------\n",
            "Score 0.7033333333333334\n",
            "Pipeline(memory='tmp',\n",
            "         steps=[('selector', VarianceThreshold(threshold=0.12)),\n",
            "                ('pca',\n",
            "                 PCA(copy=True, iterated_power='auto', n_components=3,\n",
            "                     random_state=None, svd_solver='auto', tol=0.0,\n",
            "                     whiten=False)),\n",
            "                ('gnb', GaussianNB(priors=None, var_smoothing=1e-09))],\n",
            "         verbose=False)\n",
            "{'pca__n_components': 3, 'selector__threshold': 0.12}\n",
            "-----------------------------------------------------------------------------------\n",
            "Score 0.4929428445950186\n",
            "Pipeline(memory='tmp',\n",
            "         steps=[('scaler', MinMaxScaler(copy=True, feature_range=(0, 1))),\n",
            "                ('selector', VarianceThreshold(threshold=0)),\n",
            "                ('gnb', GaussianNB(priors=None, var_smoothing=1e-09))],\n",
            "         verbose=False)\n",
            "{'selector__threshold': 0}\n",
            "-----------------------------------------------------------------------------------\n",
            "Score 0.6828571428571429\n",
            "Pipeline(memory='tmp',\n",
            "         steps=[('scaler', MinMaxScaler(copy=True, feature_range=(0, 1))),\n",
            "                ('selector', VarianceThreshold(threshold=0)),\n",
            "                ('gnb', GaussianNB(priors=None, var_smoothing=1e-09))],\n",
            "         verbose=False)\n",
            "{'selector__threshold': 0}\n",
            "-----------------------------------------------------------------------------------\n",
            "Score 0.5008817580842753\n",
            "Pipeline(memory='tmp',\n",
            "         steps=[('pca',\n",
            "                 PCA(copy=True, iterated_power='auto', n_components=12,\n",
            "                     random_state=None, svd_solver='auto', tol=0.0,\n",
            "                     whiten=False)),\n",
            "                ('gnb', GaussianNB(priors=None, var_smoothing=1e-09))],\n",
            "         verbose=False)\n",
            "{'pca__n_components': 12}\n",
            "-----------------------------------------------------------------------------------\n",
            "Score 0.6966666666666667\n",
            "Pipeline(memory='tmp',\n",
            "         steps=[('pca',\n",
            "                 PCA(copy=True, iterated_power='auto', n_components=5,\n",
            "                     random_state=None, svd_solver='auto', tol=0.0,\n",
            "                     whiten=False)),\n",
            "                ('gnb', GaussianNB(priors=None, var_smoothing=1e-09))],\n",
            "         verbose=False)\n",
            "{'pca__n_components': 5}\n",
            "-----------------------------------------------------------------------------------\n"
          ],
          "name": "stdout"
        }
      ]
    },
    {
      "cell_type": "markdown",
      "metadata": {
        "id": "G3XuhgmKOVIU"
      },
      "source": [
        "Από τα παραπάνω αποτελέσματα, εξάγουμε το συμπέρασμα ότι ο καλύτερος (ή ένας που δουλεύει αρκετά καλά) ταξινομητής προκύπτει από το έβδομο **Pipeline**. Αυτό θα χρησιμοποιήσουμε στη συνέχεια με τις παραμέτρους που προκύπτουν από το **GridSearch** για το τελικό μοντέλο μας.\n",
        "\n",
        "Τα παραπάνω, όμως, αποτελέσματα οδηγούν σε κάποιες πολύ ενδιαφέρουσες παρατηρήσεις. Παρατηρούμε ότι το καλύτερο αποτέλεσμα κατά τις 2 μετρικές f1_micro και f1_macro το πετυχαίνουμε στην περίπτωση που χρησιμοποιούμε πέρα από τον estimator μας μόνο έναν selector και pca. Στην περίπτωση του f1_macro, έχουμε βέλτιστα αποτελέσματα για την υπερπαράμετρο του pca ίση με 12 και variance_threshod ίσο με 0, ενώ στην περίπτωση της f1_micro έχουμε τιμές 3 και 0.12 αντίστοιχα. Οι δύο επιπλέον περίπτωσεις που προστέθηκαν στο τέλος (μία χωρίς pca και μία χωρίς selector) δεν επιφέρουν καλύτερα αποτελέσματα από τα προηγούμενα."
      ]
    },
    {
      "cell_type": "code",
      "metadata": {
        "colab": {
          "base_uri": "https://localhost:8080/"
        },
        "id": "zafRZm-sN9gF",
        "outputId": "60d99f49-e519-4c49-dbcb-a72ce36325c2"
      },
      "source": [
        "#after having found the best estimator we repeat fitting-predicting to measure performance\n",
        "best_selector = VarianceThreshold(threshold=0.12)\n",
        "#best_scaler = StandardScaler()\n",
        "#best_sampler = RandomOverSampler()\n",
        "best_pca = PCA(n_components=3)\n",
        "best_gnb = GaussianNB()\n",
        "gnb_pipe = Pipeline(steps=[ ('selector', best_selector), ('pca', best_pca), ('gnb', best_gnb)], memory = 'tmp')\n",
        "#gnb_estimator = GridSearchCV(gnb_pipe, dict( pca__n_components=n_components ), cv=10, scoring='f1_micro', n_jobs=-1) \n",
        "\n",
        "import time\n",
        "\n",
        "#fitting\n",
        "start_time_fit = time.time()\n",
        "#gnb_estimator.fit(train, train_labels)\n",
        "gnb_pipe.fit(train, train_labels)\n",
        "gnb_fit_time = time.time() - start_time_fit\n",
        "\n",
        "#predicting\n",
        "start_time_predict = time.time()\n",
        "#gnb_opt_preds = gnb_estimator.predict(test)\n",
        "gnb_opt_preds = gnb_pipe.predict(test)\n",
        "gnb_predict_time = time.time() - start_time_predict\n",
        "\n",
        "print(\"Συνολικός χρόνος fit και predict: %s seconds\" % (time.time() - start_time_fit))\n",
        "print(\"Fitting time\", gnb_fit_time)\n",
        "print(\"Predicting time\", gnb_predict_time)\n",
        "print()\n",
        "print(\"Classification Report\")\n",
        "print(classification_report(test_labels, gnb_opt_preds))\n",
        "\n",
        "#print confusion matrix, f1-micro and f1-macro\n",
        "gnb_opt_cnf_matrix = confusion_matrix(test_labels, gnb_opt_preds)\n",
        "\n",
        "print()\n",
        "print(\"Confusion Matrix\")\n",
        "print(label_names)\n",
        "print(gnb_opt_cnf_matrix)\n",
        "\n",
        "gnb_opt_f1_micro = f1_score(test_labels, gnb_opt_preds, average='micro')\n",
        "gnb_opt_f1_macro = f1_score(test_labels, gnb_opt_preds, average='macro')\n",
        "\n",
        "print()\n",
        "print(\"The f1 micro score is \", gnb_opt_f1_micro, \"\\n\")\n",
        "print(\"The f1 macro score is \", gnb_opt_f1_macro, \"\\n\")\n"
      ],
      "execution_count": null,
      "outputs": [
        {
          "output_type": "stream",
          "text": [
            "Συνολικός χρόνος fit και predict: 0.004939556121826172 seconds\n",
            "Fitting time 0.004404783248901367\n",
            "Predicting time 0.0004885196685791016\n",
            "\n",
            "Classification Report\n",
            "              precision    recall  f1-score   support\n",
            "\n",
            "           1       0.71      0.93      0.81        27\n",
            "           2       0.00      0.00      0.00        10\n",
            "\n",
            "    accuracy                           0.68        37\n",
            "   macro avg       0.36      0.46      0.40        37\n",
            "weighted avg       0.52      0.68      0.59        37\n",
            "\n",
            "\n",
            "Confusion Matrix\n",
            "['planning', 'relaxation']\n",
            "[[25  2]\n",
            " [10  0]]\n",
            "\n",
            "The f1 micro score is  0.6756756756756757 \n",
            "\n",
            "The f1 macro score is  0.40322580645161293 \n",
            "\n"
          ],
          "name": "stdout"
        }
      ]
    },
    {
      "cell_type": "markdown",
      "metadata": {
        "id": "7LR-Jm_RWhpE"
      },
      "source": [
        "Δοκιμάσαμε και τις δύο βέλτιστες περίπτωσεις. Η κρίση του βέλτιστου pipeline με βάση την f1_micro μας δίνει καλύτερα αποτελέσματα."
      ]
    },
    {
      "cell_type": "markdown",
      "metadata": {
        "id": "pt_MYxeZfhh0"
      },
      "source": [
        "###**K-Nearest Neighbors**\n"
      ]
    },
    {
      "cell_type": "code",
      "metadata": {
        "id": "2Ti9_hIFfrJE"
      },
      "source": [
        "from sklearn.model_selection import GridSearchCV\n",
        "from sklearn.neighbors import KNeighborsClassifier \n",
        "\n",
        "knn1 = KNeighborsClassifier()\n",
        "knn2 = KNeighborsClassifier()\n",
        "knn3 = KNeighborsClassifier()\n",
        "knn4 = KNeighborsClassifier()\n",
        "knn5 = KNeighborsClassifier()\n",
        "knn6 = KNeighborsClassifier()\n",
        "knn7 = KNeighborsClassifier()\n",
        "knn8 = KNeighborsClassifier()\n",
        "knn9 = KNeighborsClassifier()\n",
        "\n",
        "k = [1, 3, 5, 7, 9]"
      ],
      "execution_count": null,
      "outputs": []
    },
    {
      "cell_type": "code",
      "metadata": {
        "colab": {
          "base_uri": "https://localhost:8080/"
        },
        "id": "jCmP6Whdak_7",
        "outputId": "4300b0cd-a443-4c0e-84d4-c1b88000efc4"
      },
      "source": [
        "#search for best estimator\n",
        "from sklearn.metrics import classification_report\n",
        "\n",
        "knn_pipe1 = Pipeline(steps=[('selector', selector), ('scaler', scaler), ('sampler', ros), ('pca', pca), ('knn', knn1)], memory = 'tmp')\n",
        "knn_pipe2 = Pipeline(steps=[('selector', selector), ('scaler', scaler), ('sampler', rus), ('pca', pca), ('knn', knn2)], memory = 'tmp')\n",
        "knn_pipe3 = Pipeline(steps=[('scaler', minmax), ('selector', selector), ('sampler', ros), ('pca', pca), ('knn', knn3)], memory = 'tmp')\n",
        "knn_pipe4 = Pipeline(steps=[('scaler', minmax), ('selector', selector), ('sampler', rus), ('pca', pca), ('knn', knn4)], memory = 'tmp')\n",
        "knn_pipe5 = Pipeline(steps=[('scaler', minmax), ('selector', selector), ('pca', pca), ('knn', knn5)], memory = 'tmp')\n",
        "knn_pipe6 = Pipeline(steps=[('selector', selector), ('sampler', rus), ('pca', pca), ('knn', knn6)], memory = 'tmp')\n",
        "knn_pipe7 = Pipeline(steps=[('selector', selector), ('pca', pca), ('knn', knn7)], memory = 'tmp')\n",
        "knn_pipe8 = Pipeline(steps=[('scaler', minmax), ('selector', selector), ('knn', knn8)], memory = 'tmp')\n",
        "knn_pipe9 = Pipeline(steps=[ ('pca', pca), ('knn', knn9)], memory = 'tmp')\n",
        "\n",
        "knn_pipes = [knn_pipe1, knn_pipe2, knn_pipe3, knn_pipe4, knn_pipe5, knn_pipe6, knn_pipe7, knn_pipe8, knn_pipe9]\n",
        "\n",
        "count = 0\n",
        "for knn_pipe in knn_pipes:\n",
        "  if (count == 7):\n",
        "    knn_estimator = GridSearchCV(knn_pipe, dict(selector__threshold=vthreshold), cv=10, scoring='f1_macro', n_jobs=-1)\n",
        "  elif (count == 8):\n",
        "    knn_estimator = GridSearchCV(knn_pipe, dict( pca__n_components=n_components), cv=10, scoring='f1_macro', n_jobs=-1)\n",
        "  else :\n",
        "    knn_estimator = GridSearchCV(knn_pipe, dict(selector__threshold=vthreshold, pca__n_components=n_components, knn__n_neighbors=k), cv=10, scoring='f1_macro', n_jobs=-1)\n",
        "  \n",
        "  knn_estimator.fit(train, train_labels)\n",
        "  #knn_opt_preds = knn_estimator.predict(valid)\n",
        "  #print(classification_report(valid_labels, knn_opt_preds))\n",
        "  print(\"Score\", knn_estimator.best_score_)\n",
        "  print(knn_estimator.best_estimator_)\n",
        "  print(knn_estimator.best_params_)\n",
        "  print(\"-----------------------------------------------------------------------------------\")\n",
        "  if (count == 7):\n",
        "    knn_estimator = GridSearchCV(knn_pipe, dict(selector__threshold=vthreshold), cv=10, scoring='f1_micro', n_jobs=-1)\n",
        "  elif (count == 8):\n",
        "    knn_estimator = GridSearchCV(knn_pipe, dict( pca__n_components=n_components), cv=10, scoring='f1_micro', n_jobs=-1)\n",
        "  else :\n",
        "    knn_estimator = GridSearchCV(knn_pipe, dict(selector__threshold=vthreshold, pca__n_components=n_components, knn__n_neighbors=k), cv=10, scoring='f1_micro', n_jobs=-1)\n",
        "  \n",
        "  knn_estimator.fit(train, train_labels)\n",
        "  #knn_opt_preds = knn_estimator.predict(valid)\n",
        "  #print(classification_report(valid_labels, knn_opt_preds))\n",
        "  print(\"Score\", knn_estimator.best_score_)\n",
        "  print(knn_estimator.best_estimator_)\n",
        "  print(knn_estimator.best_params_)\n",
        "  print(\"-----------------------------------------------------------------------------------\")\n",
        "  count = count + 1\n"
      ],
      "execution_count": null,
      "outputs": [
        {
          "output_type": "stream",
          "text": [
            "Score 0.5899632034632034\n",
            "Pipeline(memory='tmp',\n",
            "         steps=[('selector', VarianceThreshold(threshold=0)),\n",
            "                ('scaler',\n",
            "                 StandardScaler(copy=True, with_mean=True, with_std=True)),\n",
            "                ('sampler',\n",
            "                 RandomOverSampler(random_state=None, ratio=None,\n",
            "                                   return_indices=False,\n",
            "                                   sampling_strategy='auto')),\n",
            "                ('pca',\n",
            "                 PCA(copy=True, iterated_power='auto', n_components=3,\n",
            "                     random_state=None, svd_solver='auto', tol=0.0,\n",
            "                     whiten=False)),\n",
            "                ('knn',\n",
            "                 KNeighborsClassifier(algorithm='auto', leaf_size=30,\n",
            "                                      metric='minkowski', metric_params=None,\n",
            "                                      n_jobs=None, n_neighbors=1, p=2,\n",
            "                                      weights='uniform'))],\n",
            "         verbose=False)\n",
            "{'knn__n_neighbors': 1, 'pca__n_components': 3, 'selector__threshold': 0}\n",
            "-----------------------------------------------------------------------------------\n",
            "Score 0.677142857142857\n",
            "Pipeline(memory='tmp',\n",
            "         steps=[('selector', VarianceThreshold(threshold=0)),\n",
            "                ('scaler',\n",
            "                 StandardScaler(copy=True, with_mean=True, with_std=True)),\n",
            "                ('sampler',\n",
            "                 RandomOverSampler(random_state=None, ratio=None,\n",
            "                                   return_indices=False,\n",
            "                                   sampling_strategy='auto')),\n",
            "                ('pca',\n",
            "                 PCA(copy=True, iterated_power='auto', n_components=3,\n",
            "                     random_state=None, svd_solver='auto', tol=0.0,\n",
            "                     whiten=False)),\n",
            "                ('knn',\n",
            "                 KNeighborsClassifier(algorithm='auto', leaf_size=30,\n",
            "                                      metric='minkowski', metric_params=None,\n",
            "                                      n_jobs=None, n_neighbors=1, p=2,\n",
            "                                      weights='uniform'))],\n",
            "         verbose=False)\n",
            "{'knn__n_neighbors': 1, 'pca__n_components': 3, 'selector__threshold': 0}\n",
            "-----------------------------------------------------------------------------------\n",
            "Score 0.5423657482868008\n",
            "Pipeline(memory='tmp',\n",
            "         steps=[('selector', VarianceThreshold(threshold=0.12)),\n",
            "                ('scaler',\n",
            "                 StandardScaler(copy=True, with_mean=True, with_std=True)),\n",
            "                ('sampler',\n",
            "                 RandomUnderSampler(random_state=None, ratio=None,\n",
            "                                    replacement=False, return_indices=False,\n",
            "                                    sampling_strategy='auto')),\n",
            "                ('pca',\n",
            "                 PCA(copy=True, iterated_power='auto', n_components=5,\n",
            "                     random_state=None, svd_solver='auto', tol=0.0,\n",
            "                     whiten=False)),\n",
            "                ('knn',\n",
            "                 KNeighborsClassifier(algorithm='auto', leaf_size=30,\n",
            "                                      metric='minkowski', metric_params=None,\n",
            "                                      n_jobs=None, n_neighbors=1, p=2,\n",
            "                                      weights='uniform'))],\n",
            "         verbose=False)\n",
            "{'knn__n_neighbors': 1, 'pca__n_components': 5, 'selector__threshold': 0.12}\n",
            "-----------------------------------------------------------------------------------\n",
            "Score 0.5657142857142857\n",
            "Pipeline(memory='tmp',\n",
            "         steps=[('selector', VarianceThreshold(threshold=0.12)),\n",
            "                ('scaler',\n",
            "                 StandardScaler(copy=True, with_mean=True, with_std=True)),\n",
            "                ('sampler',\n",
            "                 RandomUnderSampler(random_state=None, ratio=None,\n",
            "                                    replacement=False, return_indices=False,\n",
            "                                    sampling_strategy='auto')),\n",
            "                ('pca',\n",
            "                 PCA(copy=True, iterated_power='auto', n_components=5,\n",
            "                     random_state=None, svd_solver='auto', tol=0.0,\n",
            "                     whiten=False)),\n",
            "                ('knn',\n",
            "                 KNeighborsClassifier(algorithm='auto', leaf_size=30,\n",
            "                                      metric='minkowski', metric_params=None,\n",
            "                                      n_jobs=None, n_neighbors=1, p=2,\n",
            "                                      weights='uniform'))],\n",
            "         verbose=False)\n",
            "{'knn__n_neighbors': 1, 'pca__n_components': 5, 'selector__threshold': 0.12}\n",
            "-----------------------------------------------------------------------------------\n",
            "Score 0.5552450387589707\n",
            "Pipeline(memory='tmp',\n",
            "         steps=[('scaler', MinMaxScaler(copy=True, feature_range=(0, 1))),\n",
            "                ('selector', VarianceThreshold(threshold=0)),\n",
            "                ('sampler',\n",
            "                 RandomOverSampler(random_state=None, ratio=None,\n",
            "                                   return_indices=False,\n",
            "                                   sampling_strategy='auto')),\n",
            "                ('pca',\n",
            "                 PCA(copy=True, iterated_power='auto', n_components=5,\n",
            "                     random_state=None, svd_solver='auto', tol=0.0,\n",
            "                     whiten=False)),\n",
            "                ('knn',\n",
            "                 KNeighborsClassifier(algorithm='auto', leaf_size=30,\n",
            "                                      metric='minkowski', metric_params=None,\n",
            "                                      n_jobs=None, n_neighbors=9, p=2,\n",
            "                                      weights='uniform'))],\n",
            "         verbose=False)\n",
            "{'knn__n_neighbors': 9, 'pca__n_components': 5, 'selector__threshold': 0}\n",
            "-----------------------------------------------------------------------------------\n",
            "Score 0.6138095238095238\n",
            "Pipeline(memory='tmp',\n",
            "         steps=[('scaler', MinMaxScaler(copy=True, feature_range=(0, 1))),\n",
            "                ('selector', VarianceThreshold(threshold=0)),\n",
            "                ('sampler',\n",
            "                 RandomOverSampler(random_state=None, ratio=None,\n",
            "                                   return_indices=False,\n",
            "                                   sampling_strategy='auto')),\n",
            "                ('pca',\n",
            "                 PCA(copy=True, iterated_power='auto', n_components=5,\n",
            "                     random_state=None, svd_solver='auto', tol=0.0,\n",
            "                     whiten=False)),\n",
            "                ('knn',\n",
            "                 KNeighborsClassifier(algorithm='auto', leaf_size=30,\n",
            "                                      metric='minkowski', metric_params=None,\n",
            "                                      n_jobs=None, n_neighbors=1, p=2,\n",
            "                                      weights='uniform'))],\n",
            "         verbose=False)\n",
            "{'knn__n_neighbors': 1, 'pca__n_components': 5, 'selector__threshold': 0}\n",
            "-----------------------------------------------------------------------------------\n",
            "Score 0.5439537028159319\n",
            "Pipeline(memory='tmp',\n",
            "         steps=[('scaler', MinMaxScaler(copy=True, feature_range=(0, 1))),\n",
            "                ('selector', VarianceThreshold(threshold=0)),\n",
            "                ('sampler',\n",
            "                 RandomUnderSampler(random_state=None, ratio=None,\n",
            "                                    replacement=False, return_indices=False,\n",
            "                                    sampling_strategy='auto')),\n",
            "                ('pca',\n",
            "                 PCA(copy=True, iterated_power='auto', n_components=3,\n",
            "                     random_state=None, svd_solver='auto', tol=0.0,\n",
            "                     whiten=False)),\n",
            "                ('knn',\n",
            "                 KNeighborsClassifier(algorithm='auto', leaf_size=30,\n",
            "                                      metric='minkowski', metric_params=None,\n",
            "                                      n_jobs=None, n_neighbors=3, p=2,\n",
            "                                      weights='uniform'))],\n",
            "         verbose=False)\n",
            "{'knn__n_neighbors': 3, 'pca__n_components': 3, 'selector__threshold': 0}\n",
            "-----------------------------------------------------------------------------------\n",
            "Score 0.5776190476190477\n",
            "Pipeline(memory='tmp',\n",
            "         steps=[('scaler', MinMaxScaler(copy=True, feature_range=(0, 1))),\n",
            "                ('selector', VarianceThreshold(threshold=0)),\n",
            "                ('sampler',\n",
            "                 RandomUnderSampler(random_state=None, ratio=None,\n",
            "                                    replacement=False, return_indices=False,\n",
            "                                    sampling_strategy='auto')),\n",
            "                ('pca',\n",
            "                 PCA(copy=True, iterated_power='auto', n_components=3,\n",
            "                     random_state=None, svd_solver='auto', tol=0.0,\n",
            "                     whiten=False)),\n",
            "                ('knn',\n",
            "                 KNeighborsClassifier(algorithm='auto', leaf_size=30,\n",
            "                                      metric='minkowski', metric_params=None,\n",
            "                                      n_jobs=None, n_neighbors=3, p=2,\n",
            "                                      weights='uniform'))],\n",
            "         verbose=False)\n",
            "{'knn__n_neighbors': 3, 'pca__n_components': 3, 'selector__threshold': 0}\n",
            "-----------------------------------------------------------------------------------\n",
            "Score 0.5198097516518568\n",
            "Pipeline(memory='tmp',\n",
            "         steps=[('scaler', MinMaxScaler(copy=True, feature_range=(0, 1))),\n",
            "                ('selector', VarianceThreshold(threshold=0)),\n",
            "                ('pca',\n",
            "                 PCA(copy=True, iterated_power='auto', n_components=3,\n",
            "                     random_state=None, svd_solver='auto', tol=0.0,\n",
            "                     whiten=False)),\n",
            "                ('knn',\n",
            "                 KNeighborsClassifier(algorithm='auto', leaf_size=30,\n",
            "                                      metric='minkowski', metric_params=None,\n",
            "                                      n_jobs=None, n_neighbors=1, p=2,\n",
            "                                      weights='uniform'))],\n",
            "         verbose=False)\n",
            "{'knn__n_neighbors': 1, 'pca__n_components': 3, 'selector__threshold': 0}\n",
            "-----------------------------------------------------------------------------------\n",
            "Score 0.6895238095238095\n",
            "Pipeline(memory='tmp',\n",
            "         steps=[('scaler', MinMaxScaler(copy=True, feature_range=(0, 1))),\n",
            "                ('selector', VarianceThreshold(threshold=0)),\n",
            "                ('pca',\n",
            "                 PCA(copy=True, iterated_power='auto', n_components=8,\n",
            "                     random_state=None, svd_solver='auto', tol=0.0,\n",
            "                     whiten=False)),\n",
            "                ('knn',\n",
            "                 KNeighborsClassifier(algorithm='auto', leaf_size=30,\n",
            "                                      metric='minkowski', metric_params=None,\n",
            "                                      n_jobs=None, n_neighbors=7, p=2,\n",
            "                                      weights='uniform'))],\n",
            "         verbose=False)\n",
            "{'knn__n_neighbors': 7, 'pca__n_components': 8, 'selector__threshold': 0}\n",
            "-----------------------------------------------------------------------------------\n",
            "Score 0.5256167155297253\n",
            "Pipeline(memory='tmp',\n",
            "         steps=[('selector', VarianceThreshold(threshold=0.12)),\n",
            "                ('sampler',\n",
            "                 RandomUnderSampler(random_state=None, ratio=None,\n",
            "                                    replacement=False, return_indices=False,\n",
            "                                    sampling_strategy='auto')),\n",
            "                ('pca',\n",
            "                 PCA(copy=True, iterated_power='auto', n_components=3,\n",
            "                     random_state=None, svd_solver='auto', tol=0.0,\n",
            "                     whiten=False)),\n",
            "                ('knn',\n",
            "                 KNeighborsClassifier(algorithm='auto', leaf_size=30,\n",
            "                                      metric='minkowski', metric_params=None,\n",
            "                                      n_jobs=None, n_neighbors=5, p=2,\n",
            "                                      weights='uniform'))],\n",
            "         verbose=False)\n",
            "{'knn__n_neighbors': 5, 'pca__n_components': 3, 'selector__threshold': 0.12}\n",
            "-----------------------------------------------------------------------------------\n",
            "Score 0.5571428571428572\n",
            "Pipeline(memory='tmp',\n",
            "         steps=[('selector', VarianceThreshold(threshold=0.12)),\n",
            "                ('sampler',\n",
            "                 RandomUnderSampler(random_state=None, ratio=None,\n",
            "                                    replacement=False, return_indices=False,\n",
            "                                    sampling_strategy='auto')),\n",
            "                ('pca',\n",
            "                 PCA(copy=True, iterated_power='auto', n_components=3,\n",
            "                     random_state=None, svd_solver='auto', tol=0.0,\n",
            "                     whiten=False)),\n",
            "                ('knn',\n",
            "                 KNeighborsClassifier(algorithm='auto', leaf_size=30,\n",
            "                                      metric='minkowski', metric_params=None,\n",
            "                                      n_jobs=None, n_neighbors=5, p=2,\n",
            "                                      weights='uniform'))],\n",
            "         verbose=False)\n",
            "{'knn__n_neighbors': 5, 'pca__n_components': 3, 'selector__threshold': 0.12}\n",
            "-----------------------------------------------------------------------------------\n",
            "Score 0.5441689781106257\n",
            "Pipeline(memory='tmp',\n",
            "         steps=[('selector', VarianceThreshold(threshold=0.12)),\n",
            "                ('pca',\n",
            "                 PCA(copy=True, iterated_power='auto', n_components=5,\n",
            "                     random_state=None, svd_solver='auto', tol=0.0,\n",
            "                     whiten=False)),\n",
            "                ('knn',\n",
            "                 KNeighborsClassifier(algorithm='auto', leaf_size=30,\n",
            "                                      metric='minkowski', metric_params=None,\n",
            "                                      n_jobs=None, n_neighbors=1, p=2,\n",
            "                                      weights='uniform'))],\n",
            "         verbose=False)\n",
            "{'knn__n_neighbors': 1, 'pca__n_components': 5, 'selector__threshold': 0.12}\n",
            "-----------------------------------------------------------------------------------\n",
            "Score 0.6766666666666667\n",
            "Pipeline(memory='tmp',\n",
            "         steps=[('selector', VarianceThreshold(threshold=0.15)),\n",
            "                ('pca',\n",
            "                 PCA(copy=True, iterated_power='auto', n_components=5,\n",
            "                     random_state=None, svd_solver='auto', tol=0.0,\n",
            "                     whiten=False)),\n",
            "                ('knn',\n",
            "                 KNeighborsClassifier(algorithm='auto', leaf_size=30,\n",
            "                                      metric='minkowski', metric_params=None,\n",
            "                                      n_jobs=None, n_neighbors=9, p=2,\n",
            "                                      weights='uniform'))],\n",
            "         verbose=False)\n",
            "{'knn__n_neighbors': 9, 'pca__n_components': 5, 'selector__threshold': 0.15}\n",
            "-----------------------------------------------------------------------------------\n",
            "Score 0.42727146042363434\n",
            "Pipeline(memory='tmp',\n",
            "         steps=[('scaler', MinMaxScaler(copy=True, feature_range=(0, 1))),\n",
            "                ('selector', VarianceThreshold(threshold=0)),\n",
            "                ('knn',\n",
            "                 KNeighborsClassifier(algorithm='auto', leaf_size=30,\n",
            "                                      metric='minkowski', metric_params=None,\n",
            "                                      n_jobs=None, n_neighbors=5, p=2,\n",
            "                                      weights='uniform'))],\n",
            "         verbose=False)\n",
            "{'selector__threshold': 0}\n",
            "-----------------------------------------------------------------------------------\n",
            "Score 0.6542857142857142\n",
            "Pipeline(memory='tmp',\n",
            "         steps=[('scaler', MinMaxScaler(copy=True, feature_range=(0, 1))),\n",
            "                ('selector', VarianceThreshold(threshold=0)),\n",
            "                ('knn',\n",
            "                 KNeighborsClassifier(algorithm='auto', leaf_size=30,\n",
            "                                      metric='minkowski', metric_params=None,\n",
            "                                      n_jobs=None, n_neighbors=5, p=2,\n",
            "                                      weights='uniform'))],\n",
            "         verbose=False)\n",
            "{'selector__threshold': 0}\n",
            "-----------------------------------------------------------------------------------\n",
            "Score 0.486270468661773\n",
            "Pipeline(memory='tmp',\n",
            "         steps=[('pca',\n",
            "                 PCA(copy=True, iterated_power='auto', n_components=3,\n",
            "                     random_state=None, svd_solver='auto', tol=0.0,\n",
            "                     whiten=False)),\n",
            "                ('knn',\n",
            "                 KNeighborsClassifier(algorithm='auto', leaf_size=30,\n",
            "                                      metric='minkowski', metric_params=None,\n",
            "                                      n_jobs=None, n_neighbors=5, p=2,\n",
            "                                      weights='uniform'))],\n",
            "         verbose=False)\n",
            "{'pca__n_components': 3}\n",
            "-----------------------------------------------------------------------------------\n",
            "Score 0.6680952380952381\n",
            "Pipeline(memory='tmp',\n",
            "         steps=[('pca',\n",
            "                 PCA(copy=True, iterated_power='auto', n_components=3,\n",
            "                     random_state=None, svd_solver='auto', tol=0.0,\n",
            "                     whiten=False)),\n",
            "                ('knn',\n",
            "                 KNeighborsClassifier(algorithm='auto', leaf_size=30,\n",
            "                                      metric='minkowski', metric_params=None,\n",
            "                                      n_jobs=None, n_neighbors=5, p=2,\n",
            "                                      weights='uniform'))],\n",
            "         verbose=False)\n",
            "{'pca__n_components': 3}\n",
            "-----------------------------------------------------------------------------------\n"
          ],
          "name": "stdout"
        }
      ]
    },
    {
      "cell_type": "markdown",
      "metadata": {
        "id": "d2-ohbubd5qI"
      },
      "source": [
        "Με βάση τα παραπάνω αποτελέσματα επιλέγουμε τον έβδομο συνδυασμό, ο οποίος χρησιμοποιεί έναν selector και pca. Κρίνοντας από την μετρική f1_micro, καλύτερα αποτελέσματα φαίνεται να μας δίνει ο 9-NN με 0.15 threshold και 5 components του pca. Έχοντας ως scoring το f1_macro, βέλτιστος εκτιμητής είναι ο 1-NN με 0.12 threshold και 5 components. Οι βέλτιστες αυτές περιπτώσεις δοκιμάζονται και παρακάτω. Ο εκτιμητής αυτός πετυχαίνει καλύτερες τιμές score κατά μέσο όρο στις δύο περιπτώσεις. "
      ]
    },
    {
      "cell_type": "code",
      "metadata": {
        "colab": {
          "base_uri": "https://localhost:8080/"
        },
        "id": "5cLZ4yr_anp5",
        "outputId": "12c7d5af-94a2-4bd0-f596-b55125af26c1"
      },
      "source": [
        "#knn_pipe = Pipeline(steps=[ ('scaler', minmax), ('sampler', ros), ('pca', pca), ('knn', knn)], memory = 'tmp') #best till now\n",
        "best_selector = VarianceThreshold(threshold=0.15)\n",
        "best_pca = PCA(n_components=5)\n",
        "best_knn = KNeighborsClassifier(n_neighbors=9)\n",
        "knn_pipe = Pipeline(steps=[ ('selector', best_selector), ('pca', best_pca), ('knn', best_knn)], memory = 'tmp')\n",
        "#knn_estimator = GridSearchCV(knn_pipe, dict( knn__n_neighbors=k ), cv=10, scoring='f1_micro', n_jobs=-1) \n",
        "\n",
        "start_time_fit = time.time()\n",
        "#knn_estimator.fit(train, train_labels)\n",
        "knn_pipe.fit(train, train_labels)\n",
        "knn_fit_time = time.time() - start_time_fit\n",
        "\n",
        "start_time_predict = time.time()\n",
        "#knn_opt_preds = knn_estimator.predict(test)\n",
        "knn_opt_preds = knn_pipe.predict(test)\n",
        "knn_predict_time = time.time() - start_time_predict\n",
        "print(\"Συνολικός χρόνος fit και predict: %s seconds\" % (time.time() - start_time_fit))\n",
        "print(\"Fitting time\", knn_fit_time)\n",
        "print(\"Predicting time\", knn_predict_time)\n",
        "print()\n",
        "print(\"Classification Report\")\n",
        "print(classification_report(test_labels, knn_opt_preds))\n",
        "\n",
        "#print confusion matrix, f1-micro and f1-macro\n",
        "knn_opt_cnf_matrix = confusion_matrix(test_labels, knn_opt_preds)\n",
        "\n",
        "print()\n",
        "print(\"Confusion Matrix\")\n",
        "print(label_names)\n",
        "print(knn_opt_cnf_matrix)\n",
        "\n",
        "knn_opt_f1_micro = f1_score(test_labels, knn_opt_preds, average='micro')\n",
        "knn_opt_f1_macro = f1_score(test_labels, knn_opt_preds, average='macro')\n",
        "\n",
        "print()\n",
        "print(\"The f1 micro score is \", knn_opt_f1_micro, \"\\n\")\n",
        "print(\"The f1 macro score is \", knn_opt_f1_macro, \"\\n\")\n"
      ],
      "execution_count": null,
      "outputs": [
        {
          "output_type": "stream",
          "text": [
            "Συνολικός χρόνος fit και predict: 0.011176109313964844 seconds\n",
            "Fitting time 0.007890939712524414\n",
            "Predicting time 0.0032198429107666016\n",
            "\n",
            "Classification Report\n",
            "              precision    recall  f1-score   support\n",
            "\n",
            "           1       0.73      1.00      0.84        27\n",
            "           2       0.00      0.00      0.00        10\n",
            "\n",
            "    accuracy                           0.73        37\n",
            "   macro avg       0.36      0.50      0.42        37\n",
            "weighted avg       0.53      0.73      0.62        37\n",
            "\n",
            "\n",
            "Confusion Matrix\n",
            "['planning', 'relaxation']\n",
            "[[27  0]\n",
            " [10  0]]\n",
            "\n",
            "The f1 micro score is  0.7297297297297297 \n",
            "\n",
            "The f1 macro score is  0.42187499999999994 \n",
            "\n"
          ],
          "name": "stdout"
        },
        {
          "output_type": "stream",
          "text": [
            "/usr/local/lib/python3.6/dist-packages/sklearn/metrics/_classification.py:1272: UndefinedMetricWarning: Precision and F-score are ill-defined and being set to 0.0 in labels with no predicted samples. Use `zero_division` parameter to control this behavior.\n",
            "  _warn_prf(average, modifier, msg_start, len(result))\n"
          ],
          "name": "stderr"
        }
      ]
    },
    {
      "cell_type": "markdown",
      "metadata": {
        "id": "InfP-5WzkFoA"
      },
      "source": [
        "### Metrics"
      ]
    },
    {
      "cell_type": "markdown",
      "metadata": {
        "id": "BtaS9KpuMZ0p"
      },
      "source": [
        "#### Times"
      ]
    },
    {
      "cell_type": "code",
      "metadata": {
        "colab": {
          "base_uri": "https://localhost:8080/"
        },
        "id": "bdmY7WYvKMPd",
        "outputId": "597db3a4-46b5-4c25-888a-0e24b4cd11be"
      },
      "source": [
        "print(\"Kind of time     | Dummy Classifier       | Gaussian Naive Bayes   | K-Nearest Neighbors \")\n",
        "print(\"----------------------------------------------------------------------------------------------\")\n",
        "print(\"fitting time     | {}  | {}   | {}\".format(dummy_fit_time, gnb_fit_time, knn_fit_time))\n",
        "print(\"prediction time  | {}  | {}  | {}\".format(dummy_predict_time, gnb_predict_time, knn_predict_time))"
      ],
      "execution_count": null,
      "outputs": [
        {
          "output_type": "stream",
          "text": [
            "Kind of time     | Dummy Classifier       | Gaussian Naive Bayes   | K-Nearest Neighbors \n",
            "----------------------------------------------------------------------------------------------\n",
            "fitting time     | 0.0008578300476074219  | 0.004404783248901367   | 0.007890939712524414\n",
            "prediction time  | 0.0002181529998779297  | 0.0004885196685791016  | 0.0032198429107666016\n"
          ],
          "name": "stdout"
        }
      ]
    },
    {
      "cell_type": "markdown",
      "metadata": {
        "id": "mhHDA_nWfDWz"
      },
      "source": [
        "Όπως είναι λογικό ο χρόνος αυξάνεται καθώς μεταβαίνουμε από τον Dummy στον GNB και στον KNN ταξινομητή τόσο κατά την διαδικασία του fitting όσο και του prediction. Ο dummy αποφασίζει συνεχώς με τυχαίο τρόπο και επομένως ο χρόνος είναι πολύ μικρός. Ο GNB διαθέτει ένα κριτήριο για την εκπαίδευση του μοντέλου, ενώ ο KNN είναι ακόμα πιο περίπλοκος, καθώς αναζητά και αποστάσεις από κοντινότερους γείτονες. "
      ]
    },
    {
      "cell_type": "markdown",
      "metadata": {
        "id": "UHtpEuaQMe2g"
      },
      "source": [
        "#### Bar Plots"
      ]
    },
    {
      "cell_type": "code",
      "metadata": {
        "colab": {
          "base_uri": "https://localhost:8080/",
          "height": 545
        },
        "id": "vv59KExxLcxB",
        "outputId": "1eede6b8-df0e-4873-f9f1-cfbc5d8ce5e8"
      },
      "source": [
        "clfs = ['Dummy', 'GNB', 'KNN']\n",
        "f1_micro = [dummy_opt_f1_micro, gnb_opt_f1_micro, knn_opt_f1_micro]\n",
        "f1_macro = [dummy_opt_f1_macro, gnb_opt_f1_macro, knn_opt_f1_macro]\n",
        "\n",
        "plt.figure()\n",
        "plt.title(\"F1 MICRO\")\n",
        "plt.bar(clfs, f1_micro, width=0.5)\n",
        "plt.show()\n",
        "plt.close()\n",
        "\n",
        "plt.figure()\n",
        "plt.title(\"F1 MACRO\")\n",
        "plt.bar(clfs, f1_macro, width=0.5)\n",
        "plt.show()\n",
        "plt.close()"
      ],
      "execution_count": null,
      "outputs": [
        {
          "output_type": "display_data",
          "data": {
            "image/png": "[encoded data removed]",
            "text/plain": [
              "<Figure size 432x288 with 1 Axes>"
            ]
          },
          "metadata": {
            "tags": [],
            "needs_background": "light"
          }
        },
        {
          "output_type": "display_data",
          "data": {
            "image/png": "[encoded data removed]",
            "text/plain": [
              "<Figure size 432x288 with 1 Axes>"
            ]
          },
          "metadata": {
            "tags": [],
            "needs_background": "light"
          }
        }
      ]
    },
    {
      "cell_type": "markdown",
      "metadata": {
        "id": "Tx6QXuRvf1Ub"
      },
      "source": [
        "Στην προκειμένη περίπτωση, έτυχε η τυχαία εκτέλεση του dummy classifier να είναι πολύ κοντά στα πραγματικά δεδομένα και να πετυχαίνει αρκετά βέλτιστα αποτελέσματα. Αυτό αποτελεί, όμως, την εξαίρεση και όχι κάποιον κανόνα. Οι ταξινομητές GNB και KNN φαίνεται να αύξησαν την μετρική f1_micro, η οποία αποτελεί και την πιο έμπιστη πηγή συμπερασμάτων για το συγκεκριμένο dataset, καθώς τα δείγματα μας δεν είναι ισορροπημένα. Αντίθετα, καμία βέλτιστη αρχιτεκτονική που επιλέξαμε δεν κάνει χρήση κάποιου oversampler ή undersampler. Έτσι, η μετρική f1_macro συνεχίζει να μην μας παρέχει σημαντικά συμπεράσματα. Ωστόσο, όπως φαίνεται, οι τιμές των 2 ταξινομητών παραμένουν αρκετά χαμηλές και δεν σημειώνεται ιδιαίτερη βελτίωση ως προς αυτές. "
      ]
    },
    {
      "cell_type": "markdown",
      "metadata": {
        "id": "3iuDnv_IMjfp"
      },
      "source": [
        "#### Επίδοση βελτιστοποίησης"
      ]
    },
    {
      "cell_type": "code",
      "metadata": {
        "colab": {
          "base_uri": "https://localhost:8080/"
        },
        "id": "Pk-E_cxWM1PJ",
        "outputId": "eeff86f8-fc62-45c4-954d-ad9309ea7a0a"
      },
      "source": [
        "print (\"Μεταβολές επίδοσης των βελτιστοποιήμενων εκδόσεων από τις προηγούμενες :\")\n",
        "print()\n",
        "print(\"Metric     | Dummy Classifier     | Gaussian Naive Bayes   | K-Nearest Neighbors \")\n",
        "print(\"----------------------------------------------------------------------------------------------\")\n",
        "print(\"f1_micro   | {}   | {}    | {}\".format(dummy_opt_f1_micro - dummy_f1_micro, gnb_opt_f1_micro - gnb_f1_micro, knn_opt_f1_micro - knn_f1_micro))\n",
        "print(\"f1_macro   | {}   | {}   | {}\".format(dummy_opt_f1_macro - dummy_f1_macro, gnb_opt_f1_macro - gnb_f1_macro, knn_opt_f1_macro - knn_f1_macro))"
      ],
      "execution_count": null,
      "outputs": [
        {
          "output_type": "stream",
          "text": [
            "Μεταβολές επίδοσης των βελτιστοποιήμενων εκδόσεων από τις προηγούμενες :\n",
            "\n",
            "Metric     | Dummy Classifier     | Gaussian Naive Bayes   | K-Nearest Neighbors \n",
            "----------------------------------------------------------------------------------------------\n",
            "f1_micro   | 0.3243243243243243   | 0.09299826141931411    | 0.05405405405405406\n",
            "f1_macro   | 0.3230158730158731   | 0.033400537634408534   | -0.0996767241379311\n"
          ],
          "name": "stdout"
        }
      ]
    },
    {
      "cell_type": "markdown",
      "metadata": {
        "id": "R1qpi7w7g3cg"
      },
      "source": [
        "Και εδώ φαίνονται πιο εύκολα οι βελτιώσεις που σχολιάσαμε προηγουμένως. Ο Dummy Classifier πετυχαίνει τρομερές βελτιώσεις, οι οποίες όμως δεν έχουν καμία απολύτως λογική, καθώς οφείλεται καθαρά σε μεγαλύτερη τύχη που φαίνεται να είχε κατά το δεύτερο τρέξιμο του. Ο GNB παρουσίαζει την πιο σημαντική βελτίωση ως προς τις 2 μετρικές, αλλά παραμένει με μικρότερες τιμές από εκείνες του KNN. Στον KNN, σημείωνεται μία μείωση του f1_macro κατά την βελτιστοποίηση. Αυτό οφείλεται στο γεγονός ότι εστιάσαμε στην βελτίωση του f1_micro και επιπλέον δεν χρησιμοποιήσαμε κάποιο στάδιο εξισορρόπησης των δειγμάτων. "
      ]
    },
    {
      "cell_type": "markdown",
      "metadata": {
        "id": "eioE0AMKM1mr"
      },
      "source": [
        "#### Other Metrics"
      ]
    },
    {
      "cell_type": "code",
      "metadata": {
        "colab": {
          "base_uri": "https://localhost:8080/"
        },
        "id": "ky9Ip-ZzMJ9d",
        "outputId": "9a5e285f-3796-4b80-e73e-8fe967241351"
      },
      "source": [
        "print (\"Dummy Classifier\")\n",
        "print(classification_report(test_labels, dummy_opt_preds, target_names=label_names))\n",
        "print (\"Gaussian Naive Bayes\")\n",
        "print(classification_report(test_labels, gnb_opt_preds, target_names=label_names))\n",
        "print (\"K-Nearest Neihgbors\")\n",
        "print(classification_report(test_labels, knn_opt_preds, target_names=label_names))"
      ],
      "execution_count": null,
      "outputs": [
        {
          "output_type": "stream",
          "text": [
            "Dummy Classifier\n",
            "              precision    recall  f1-score   support\n",
            "\n",
            "    planning       0.83      0.89      0.86        27\n",
            "  relaxation       0.62      0.50      0.56        10\n",
            "\n",
            "    accuracy                           0.78        37\n",
            "   macro avg       0.73      0.69      0.71        37\n",
            "weighted avg       0.77      0.78      0.78        37\n",
            "\n",
            "Gaussian Naive Bayes\n",
            "              precision    recall  f1-score   support\n",
            "\n",
            "    planning       0.71      0.93      0.81        27\n",
            "  relaxation       0.00      0.00      0.00        10\n",
            "\n",
            "    accuracy                           0.68        37\n",
            "   macro avg       0.36      0.46      0.40        37\n",
            "weighted avg       0.52      0.68      0.59        37\n",
            "\n",
            "K-Nearest Neihgbors\n",
            "              precision    recall  f1-score   support\n",
            "\n",
            "    planning       0.73      1.00      0.84        27\n",
            "  relaxation       0.00      0.00      0.00        10\n",
            "\n",
            "    accuracy                           0.73        37\n",
            "   macro avg       0.36      0.50      0.42        37\n",
            "weighted avg       0.53      0.73      0.62        37\n",
            "\n"
          ],
          "name": "stdout"
        },
        {
          "output_type": "stream",
          "text": [
            "/usr/local/lib/python3.6/dist-packages/sklearn/metrics/_classification.py:1272: UndefinedMetricWarning: Precision and F-score are ill-defined and being set to 0.0 in labels with no predicted samples. Use `zero_division` parameter to control this behavior.\n",
            "  _warn_prf(average, modifier, msg_start, len(result))\n"
          ],
          "name": "stderr"
        }
      ]
    },
    {
      "cell_type": "markdown",
      "metadata": {
        "id": "PbBCT9sBiDkA"
      },
      "source": [
        "Στα παραπάνω classification reports, είναι ιδιαίτερα εντυπωσιακές οι μηδενικές τιμές που σημειώνονται τόσο στο precision όσο και στο recall στους δύο ταξινομητές GNB και KNN. Αυτό πρακτικά σημαίνει ότι όλα τα δείγματα που έχουμε στο test dataset μας, ανατίθενται στην πρώτη κλάση και όυτε ένα δεν κατοχυρώνεται στην δεύτερη (στην πραγματικότητα στον gnb, 2 δείγματα κατοχυρώνονται λανθασμένα στην δεύτερη κλάση). Έτσι, συμπεραίνουμε ότι κατά την βελτιστοποίηση των ταξινομητών μας, αυξήθηκε η ισχύς της \"μεγάλης\" κλάσης και η πρόβλεψη δειγμάτων για την δεύτερη είναι πολύ δύσκολη. Στην αντίθετη πλευρά, ωστόσο, πετυχαίνουμε μεγάλο recall για την πρώτη κλάση και σιγούρευουμε την πρόβλεψη της πρώτης κλάσης στην περίπτωση που θα μας έρθει κάποιο δείγμα που όντως θα ανήκει σε αυτήν. Αυτό μπορεί να είναι ένα αρκετά θετικό αποτέλεσμα, αν η ανίχνευση της κατάστασης planning κρίνεται σημαντική για το δεδομένο πρόβλημα. \n",
        "\n",
        "Τα παραπάνω αποτέλεσματα επιβεβαιώνουν και επιβεβαιώνονται από τις ιδιότητες των ίδιων των ταξινομητών που χρησιμοποιούμε. Ας θυμηθούμε τον τρόπο λειτουργίας των δύο αυτών ταξινομητών.\n",
        "\n",
        "Πρώτα σημειώνουμε κάποιες παρατηρήσεις σχετικά με την ίδια τη φύση των δεδομένων. Είναι λογικό να πιστεύουμε ότι τα δεδομένα μας δεν είναι πολύ \"μακρυά\" ως τιμές. Πρόκειται για σήματα καταγραφής της εγκεφαλικής δραστηριότητας σε δύο καταστάσεις χαλάρωσης-σχεδιασμού που όμως δε μπορεί να διαφέρουν πολύ μεταξύ τους (πιθανώς στο σχεδιασμό να έχουμε μία πιο έντονη συχνότητα των κυματομορφών και ίσως μεγαλύτερο πλάτος). Αυτό επιβεβαιώνεται και από τη χρησιμότητα της pca.\n",
        "\n",
        "Ο **Naive Bayes** ταξινομητής προσπαθεί να μάθει την κατανομή των δεδομένων των δύο κλάσεων για να μπορέσει να τις διαχωρίσει. Ωστόσο, η ανισορροπία του dataset οδηγεί σε καλή εκμάθηση της πρώτης κατανομής αλλά πολύ κακή εκτίμηση της δεύτερης. Δεδομένης της εγγενούς εγγύτητας των δειγμάτων και της κακής προσέγγισης της δεύτερης κατανομής είναι λογικό τα περισσότερα δείγματα να ταξινομούνται στην πρώτη κατηγορία.\n",
        "\n",
        "Ο **k-NN** είναι επίσης ένας ταξινομητής ευάλωτος στην ανισορροπία των δεδομένων. Καθώς χρησιμοποιεί το πλήθος των γειτόνων ενός δείγματος για να το κατατάξει σε κατάλληλη κλάση, είναι λογικό να βρίσκει, σε οριακά δείγματα, περισσότερους γείτονες της αντίθετης κατηγορίας εφόσον αυτή είναι πολυπληθέστερη. Μάλιστα, στο συγκεκριμένο dataset όπου εκτιμούμε ότι τα δείγματα είναι από τη φύση τους κοντινά, αδυναμία του ταξινομητή γίνεται ιδιαίτερα εμφανής.\n",
        "\n",
        "Στην παραπάνω συζήτηση φαίνεται να στοχοποιούμε την ανισορροπία του dataset για την κακή -σχετικά- απόδοση των ταξινομητών. Εφόσον διαθέτουμε τα μέσα -**OverSampling**, **UnderSampling**- για την διόρθωση αυτής της ανισορροπίας εγείρεται το ερώτημα: γιατί τα **Pipelines** που εφαρμόζουν αυτή τη τεχνική δεν αποδίδουν καλύτερα;\n",
        "Εδώ θα πρέπει να λάβουμε υπόψη το γεγονός ότι το dataset που εξετάζουμε είναι πράγματι μικρό. Ως αποτέλεσμα η εκμάθηση των σωστών συνιστωσών-παραμέτρων για τη μοντελοποίησή του είναι έτσι κι αλλιώς μια δύσκολη διαδικασία. Με την επεξεργασία των δεδομένων μπορεί να αφαιρέσουμε δείγματα κάνοντας ακόμα χειρότερες εκτιμήσεις, ή να προσθέσουμε \"λάθος\" δείγματα που ενισχύουν μοντελοποιήσεις που δεν είναι επιθυμητές. Γι'αυτό και η σωστή εκμάθηση έστω της μία εκ των κλάσεων που μελετάμε δίνει αποτελέσματα καλύτερα σε μέσο όρο από τη μερική εκμάθηση και των δύο. "
      ]
    },
    {
      "cell_type": "markdown",
      "metadata": {
        "id": "udeK3DGdVUjP"
      },
      "source": [
        "#Μεγάλο Dataset\n",
        "\n",
        "##Παρουσίαση συνόλου δεδομένων\n",
        "\n",
        "Το μεγάλο Dataset που θα επεξεργαστούμε σε αυτή την ενότητα είναι το [ISOLET](http://archive.ics.uci.edu/ml/datasets/ISOLET). Το Dataset αυτό αφορά στην αναγνώριση των 26 γραμμάτων A-Z από ανάλυση ηχητικών δεδομένων προφοράς της.\n",
        "Συγκεκριμένα, πρόκειται για ένα multiclass dataset, καθώς κάθε δυνατό δείγμα μπορεί να ταξινομηθεί σε μία κλάση που αντιστοιχεί σε ένα γράμμα της αλφαβήτου. Έτσι, έχουμε 26 δυνατές κλάσεις (από Α ως Z). \n",
        "\n",
        "Το δείγμα μας προέρχεται από 150 άτομα τα οποία πρόφεραν το κάθε γράμμα από 2 φορές. Έτσι, έχουμε 52 δείγματα από το κάθε άτομο. Το dataset μας χωρίζεται σε 5 γκρουπ από 30 άτομα το καθένα, τα οποία θα ενώσουμε σε ένα ενιαίο σύνολο. \n",
        "\n",
        "Συνολικά, προκύπτουν 7797 δείγματα. Στην πραγματικότητα θα έπρεπε να έχουμε ${52*150} = 7800$ δείγματα. Ωστόσο, λείπουν 3 δείγματα από το dataset μας : 2 από το γράμμα F και ένα από το Μ. \n",
        "\n",
        "Επιπλέον, αποτελείται από 617 χαρακτηριστικά. Αυτά αφορούν κάποια χαρακτηριστικά ανάλυσης των ηχητικών σηματών τα οποία δεν εξηγούνται περαιτέρω και είναι δοσμένα σε πραγματικές τιμές. \n",
        "\n",
        "Το dataset δεν περιέχει κάποια γραμμή επικεφαλίδας και λεπτομερειών, καθώς αυτά παρέχονται σε ξεχωριστό αρχείο. \n",
        "\n",
        "Οι ετικέτες των κλάσεων βρίσκονται στην τελευταία κολόνα και δίνονται με μία πραγματική τιμή από 1. έως 26. που αντιστοιχούν στο κατ' αρίθμηση γράμμα της αλφαβήτου από Α (το 1.) σε Ζ (το 26.).\n",
        "\n",
        "Για να παρούμε τα αρχεία δεδομένων, θα πρέπει να κατεβάζουμε τα 2 αρχεία .zip που μας δίνονται [εδώ](http://archive.ics.uci.edu/ml/machine-learning-databases/isolet/) και να τα ενώσουμε σε ένα ενιαίο αρχείο. \n",
        "\n",
        "Η διαδικασία φαίνεται στον παρακάτω κώδικα : "
      ]
    },
    {
      "cell_type": "code",
      "metadata": {
        "colab": {
          "base_uri": "https://localhost:8080/"
        },
        "id": "4XBzbZRndxX6",
        "outputId": "2ed32259-aae9-4414-c16b-8ceb662f102f"
      },
      "source": [
        "from google.colab import drive \n",
        "drive.mount('/content/drive')"
      ],
      "execution_count": null,
      "outputs": [
        {
          "output_type": "stream",
          "text": [
            "Mounted at /content/drive\n"
          ],
          "name": "stdout"
        }
      ]
    },
    {
      "cell_type": "code",
      "metadata": {
        "colab": {
          "base_uri": "https://localhost:8080/"
        },
        "id": "Zm4o6t4DWG81",
        "outputId": "807b6005-de84-43ba-efea-0cee72eecdde"
      },
      "source": [
        "import pandas as pd\n",
        "import numpy as np\n",
        "\n",
        "all_filenames = [\"/content/drive/MyDrive/isolet1+2+3+4.data\", \"/content/drive/My Drive/isolet5.data\"]\n",
        "data = pd.concat([pd.read_csv(f, header = None) for f in all_filenames ])\n",
        "#show original data form\n",
        "print(data[:5])\n",
        "print()\n",
        "#auto-conversion to numpy array with .values() method\n",
        "res = data.values\n",
        "#res = np.array(res)\n",
        "print (\"Final data shape:\", res.shape)"
      ],
      "execution_count": null,
      "outputs": [
        {
          "output_type": "stream",
          "text": [
            "      0       1       2       3       4    ...     613     614     615     616  617\n",
            "0 -0.4394 -0.0930  0.1718  0.4620  0.6226  ...  0.3334  0.6410  0.5898 -0.4872  1.0\n",
            "1 -0.4348 -0.1198  0.2474  0.4036  0.5026  ...  0.2046  0.4318  0.4546 -0.0910  1.0\n",
            "2 -0.2330  0.2124  0.5014  0.5222 -0.3422  ...  0.1112  0.2540  0.1588 -0.4762  2.0\n",
            "3 -0.3808 -0.0096  0.2602  0.2554 -0.4290  ...  0.0792 -0.0072  0.0936 -0.1510  2.0\n",
            "4 -0.3412  0.0946  0.6082  0.6216 -0.1622  ...  0.3124  0.3124  0.2188 -0.2500  3.0\n",
            "\n",
            "[5 rows x 618 columns]\n",
            "\n",
            "Final data shape: (7797, 618)\n"
          ],
          "name": "stdout"
        }
      ]
    },
    {
      "cell_type": "code",
      "metadata": {
        "id": "ZhE4LafEcu3L",
        "colab": {
          "base_uri": "https://localhost:8080/"
        },
        "outputId": "34d53417-1e80-49b7-8980-ed193a78b4a7"
      },
      "source": [
        "#the actual features are the first 617 elements\n",
        "features = res[:,:617]\n",
        "#the 618th element is the label (position 617 in the array starting from 0)\n",
        "labels = res[:, 617]\n",
        "labels = labels.astype(int)\n",
        "label_names = ['A', 'B', 'C', 'D', 'E', 'F', 'G', 'H', 'I', 'J', 'K', 'L', 'M', 'N', 'O', 'P', 'Q', 'R', 'S', 'T', 'U', 'V', 'W', 'X', 'Y', 'Z']\n",
        "\n",
        "print(labels)\n",
        "print (labels.shape)\n",
        "print(features)\n",
        "print(features.shape)"
      ],
      "execution_count": null,
      "outputs": [
        {
          "output_type": "stream",
          "text": [
            "[ 1  1  2 ... 25 26 26]\n",
            "(7797,)\n",
            "[[-0.4394 -0.093   0.1718 ...  0.641   0.5898 -0.4872]\n",
            " [-0.4348 -0.1198  0.2474 ...  0.4318  0.4546 -0.091 ]\n",
            " [-0.233   0.2124  0.5014 ...  0.254   0.1588 -0.4762]\n",
            " ...\n",
            " [-0.6696 -0.373   0.1584 ...  0.0728  0.0728 -0.5818]\n",
            " [-0.5764 -0.1764  0.5106 ...  0.3044 -0.0434 -0.5   ]\n",
            " [-0.6624 -0.3334  0.3666 ... -0.0894 -0.1708 -0.317 ]]\n",
            "(7797, 617)\n"
          ],
          "name": "stdout"
        }
      ]
    },
    {
      "cell_type": "markdown",
      "metadata": {
        "id": "4hLUExbHhpLw"
      },
      "source": [
        "Για να πάρουμε το ενιαίο αρχείο, όπως φαίνεται και παραπάνω, περάσαμε στο Drive τα unzipped αρχεία και στη συνέχεια ενώσαμε τα περιεχόμενα σε ένα ενιαίο αρχείο.\n",
        "\n",
        "Όπως μας δίνεται στις πληροφορίες του dataset, δεν υπάρχουν απουσιάζουσες τιμές. Υπάρχουν μόνο, όπως αναφέραμε ήδη, samples που απουσιάζουν ολόκληρα και συνεπώς δεν μας επηρεάζουν κάπως. \n",
        "Αυτό φαίνεται και παρακάτω : "
      ]
    },
    {
      "cell_type": "code",
      "metadata": {
        "colab": {
          "base_uri": "https://localhost:8080/"
        },
        "id": "OXVNBn5nhIcW",
        "outputId": "327c300c-83e7-4968-8524-cd252e7e7c41"
      },
      "source": [
        "null_values = data.isnull().any().any()\n",
        "if  null_values:\n",
        "  print(data.isnull())\n",
        "else:\n",
        "  print(\"There is no null value in data.\")"
      ],
      "execution_count": null,
      "outputs": [
        {
          "output_type": "stream",
          "text": [
            "There is no null value in data.\n"
          ],
          "name": "stdout"
        }
      ]
    },
    {
      "cell_type": "markdown",
      "metadata": {
        "id": "tl0qzjkXiTJN"
      },
      "source": [
        "Ο αριθμός των κλάσεων είναι 26 και η κάθε μία (το κάθε ένα γράμμα ουσιαστικά) εμφανίζεται συνολικά 300 φορές. Εξαίρεση αποτελεί το γράμμα F που εμφανίζεται 298 και το Μ που εμφανίζεται 299. Αποδεικνύεται και παρακάτω : \n"
      ]
    },
    {
      "cell_type": "code",
      "metadata": {
        "colab": {
          "base_uri": "https://localhost:8080/"
        },
        "id": "jLmPQjVMiNpg",
        "outputId": "56543edf-87a1-40f6-a549-7692c12eb37f"
      },
      "source": [
        "appear = np.bincount(labels)[1:]\n",
        "\n",
        "print(\"Letter | Times \")\n",
        "for i in range (26) :\n",
        "  print (\" {}     | {}\".format(label_names[i], appear[i]))"
      ],
      "execution_count": null,
      "outputs": [
        {
          "output_type": "stream",
          "text": [
            "Letter | Times \n",
            " A     | 300\n",
            " B     | 300\n",
            " C     | 300\n",
            " D     | 300\n",
            " E     | 300\n",
            " F     | 298\n",
            " G     | 300\n",
            " H     | 300\n",
            " I     | 300\n",
            " J     | 300\n",
            " K     | 300\n",
            " L     | 300\n",
            " M     | 299\n",
            " N     | 300\n",
            " O     | 300\n",
            " P     | 300\n",
            " Q     | 300\n",
            " R     | 300\n",
            " S     | 300\n",
            " T     | 300\n",
            " U     | 300\n",
            " V     | 300\n",
            " W     | 300\n",
            " X     | 300\n",
            " Y     | 300\n",
            " Z     | 300\n"
          ],
          "name": "stdout"
        }
      ]
    },
    {
      "cell_type": "markdown",
      "metadata": {
        "id": "Y_5XXD6Ylkzu"
      },
      "source": [
        "Επομένως, το dataset μας είναι αρκετά ισορροπημένο και δεν χρειάζεται περαιτέρω επξεργασία."
      ]
    },
    {
      "cell_type": "code",
      "metadata": {
        "colab": {
          "base_uri": "https://localhost:8080/"
        },
        "id": "yE7ZL4q3lwY1",
        "outputId": "bf758249-17bc-4f2a-c091-ec0c667210e7"
      },
      "source": [
        "from sklearn.model_selection import train_test_split\n",
        "\n",
        "# Split our data\n",
        "train, test, train_labels, test_labels = train_test_split(features, labels, test_size=0.3)\n",
        "\n",
        "print(test.shape)\n",
        "print(train.shape)\n",
        "print(test_labels.shape)\n",
        "print(train_labels.shape)"
      ],
      "execution_count": null,
      "outputs": [
        {
          "output_type": "stream",
          "text": [
            "(2340, 617)\n",
            "(5457, 617)\n",
            "(2340,)\n",
            "(5457,)\n"
          ],
          "name": "stdout"
        }
      ]
    },
    {
      "cell_type": "markdown",
      "metadata": {
        "id": "qjHI09wHl_Q3"
      },
      "source": [
        "##Ταξινόμηση\n",
        "\n",
        "Στη συνέχεια της εργασίας θα εξετάσουμε τους εξής 5 ταξινομητές πάνω στο dataset μας : **Dummy classifier**, **Gaussian Naive Bayes**, **Κ-Nearest Neighbors**, **Multi-Layer Perceptron (MLP)** και **Support Vector Machines (SVM)**."
      ]
    },
    {
      "cell_type": "markdown",
      "metadata": {
        "id": "RKAx05rnmRbP"
      },
      "source": [
        "###**Dummy Classifier**\n",
        "\n",
        "\n"
      ]
    },
    {
      "cell_type": "code",
      "metadata": {
        "id": "mh5pf1s9YFAE"
      },
      "source": [
        "import warnings\n",
        "warnings.simplefilter(action='ignore', category=FutureWarning)"
      ],
      "execution_count": null,
      "outputs": []
    },
    {
      "cell_type": "code",
      "metadata": {
        "id": "YlLAdWkemTfd",
        "colab": {
          "base_uri": "https://localhost:8080/"
        },
        "outputId": "fa10f9fb-4222-4229-9856-9e3c13d3bf94"
      },
      "source": [
        "from sklearn.dummy import DummyClassifier\n",
        "\n",
        "dc_uniform = DummyClassifier()\n",
        "dummy = dc_uniform.fit(train, train_labels)\n",
        "\n",
        "dummy_preds = dc_uniform.predict(test)\n",
        "print(dummy_preds)\n",
        "print(test_labels)"
      ],
      "execution_count": null,
      "outputs": [
        {
          "output_type": "stream",
          "text": [
            "[23  8 19 ... 25 21 22]\n",
            "[25 26  1 ... 25 26 26]\n"
          ],
          "name": "stdout"
        }
      ]
    },
    {
      "cell_type": "code",
      "metadata": {
        "colab": {
          "base_uri": "https://localhost:8080/"
        },
        "id": "JRoOdt8xX63k",
        "outputId": "89ff7cd2-3280-418b-cecd-d88010456918"
      },
      "source": [
        "from sklearn.metrics import confusion_matrix\n",
        "\n",
        "# Compute confusion matrix\n",
        "cnf_matrix = confusion_matrix(test_labels, dummy_preds)\n",
        "\n",
        "# τυπώνουμε το confusion matrix\n",
        "print(label_names)\n",
        "print(cnf_matrix)"
      ],
      "execution_count": null,
      "outputs": [
        {
          "output_type": "stream",
          "text": [
            "['A', 'B', 'C', 'D', 'E', 'F', 'G', 'H', 'I', 'J', 'K', 'L', 'M', 'N', 'O', 'P', 'Q', 'R', 'S', 'T', 'U', 'V', 'W', 'X', 'Y', 'Z']\n",
            "[[5 2 2 4 3 4 2 2 3 1 4 3 4 5 6 6 7 2 4 4 3 1 6 1 2 4]\n",
            " [6 7 4 4 6 5 1 3 1 2 2 2 5 4 3 1 4 5 3 0 6 4 2 2 5 3]\n",
            " [5 3 4 4 3 4 4 1 6 1 2 1 5 2 7 2 2 5 5 3 5 4 3 4 4 1]\n",
            " [8 4 8 1 1 4 3 5 1 5 1 2 6 1 5 2 2 4 2 2 1 4 3 3 8 4]\n",
            " [3 3 3 7 3 3 4 7 2 4 1 2 2 3 4 6 7 2 3 4 4 5 0 4 3 1]\n",
            " [1 5 5 6 4 3 2 5 3 2 2 4 4 1 3 3 2 3 1 7 2 7 3 5 3 3]\n",
            " [2 4 3 6 2 6 3 4 1 4 4 3 3 3 7 6 1 2 3 1 1 5 3 3 8 2]\n",
            " [4 3 2 4 1 2 3 3 2 7 1 6 7 3 2 3 2 4 2 5 3 3 6 3 7 2]\n",
            " [5 2 1 5 5 1 4 1 7 5 6 3 3 2 2 1 2 3 3 5 1 4 2 6 6 5]\n",
            " [7 4 4 4 3 5 5 3 3 1 3 4 3 5 4 2 4 4 1 2 2 2 5 4 3 3]\n",
            " [3 5 4 5 2 1 7 4 4 5 3 6 3 4 7 4 3 1 2 1 3 1 4 2 2 4]\n",
            " [3 4 3 1 3 3 6 4 3 3 2 3 3 3 4 3 1 5 4 5 5 7 0 5 5 2]\n",
            " [6 4 2 1 2 2 1 3 2 7 1 4 4 2 2 1 7 7 4 4 4 6 2 2 4 5]\n",
            " [5 3 3 0 2 2 1 3 3 7 4 5 5 5 4 3 2 5 2 3 3 5 8 0 5 2]\n",
            " [2 4 4 2 2 3 5 5 3 6 3 4 2 3 1 3 3 5 3 3 8 3 3 3 6 1]\n",
            " [2 4 5 2 1 4 1 4 6 3 4 4 5 4 7 3 2 3 2 5 1 2 7 2 5 2]\n",
            " [6 6 6 6 5 1 2 2 2 5 2 5 3 1 3 4 4 4 0 1 6 2 2 5 1 6]\n",
            " [3 8 2 3 2 4 3 3 8 3 2 2 2 3 3 4 5 3 5 2 2 2 4 4 8 0]\n",
            " [1 5 4 1 1 6 3 5 3 3 2 3 4 3 4 3 4 3 4 2 7 5 5 3 3 3]\n",
            " [3 5 6 1 2 2 0 5 5 2 6 7 1 3 2 2 4 2 5 0 7 6 8 3 2 1]\n",
            " [1 5 1 7 2 4 3 2 3 2 8 6 3 6 2 2 6 4 2 2 5 2 2 1 2 7]\n",
            " [1 3 5 4 3 2 2 4 1 6 4 3 3 3 3 3 4 7 2 5 5 4 4 6 2 1]\n",
            " [1 0 5 3 2 3 5 1 4 3 5 4 3 1 5 4 2 5 6 5 2 5 7 4 2 3]\n",
            " [6 7 2 4 7 3 4 4 6 7 5 3 5 4 6 2 1 2 2 2 0 1 0 4 2 1]\n",
            " [4 6 4 5 5 2 5 6 5 5 3 3 2 2 3 6 3 2 2 5 1 3 0 1 3 5]\n",
            " [1 5 5 5 0 7 5 5 4 4 3 2 4 7 4 3 4 4 3 2 2 2 2 2 4 2]]\n"
          ],
          "name": "stdout"
        }
      ]
    },
    {
      "cell_type": "code",
      "metadata": {
        "colab": {
          "base_uri": "https://localhost:8080/"
        },
        "id": "PF96y2dRYKyM",
        "outputId": "b62a47f2-4965-47d2-ccc5-d7011e795367"
      },
      "source": [
        "from sklearn.metrics import f1_score\n",
        "from sklearn.model_selection import cross_val_score\n",
        " \n",
        "dummy_f1_micro = f1_score(test_labels, dummy_preds, average='micro')\n",
        "dummy_f1_macro = f1_score(test_labels, dummy_preds, average='macro')\n",
        "\n",
        "print(\"The f1 micro score is \", dummy_f1_micro, \"\\n\")\n",
        "print(\"The f1 macro score is \", dummy_f1_macro, \"\\n\")"
      ],
      "execution_count": null,
      "outputs": [
        {
          "output_type": "stream",
          "text": [
            "The f1 micro score is  0.0405982905982906 \n",
            "\n",
            "The f1 macro score is  0.04088752656046512 \n",
            "\n"
          ],
          "name": "stdout"
        }
      ]
    },
    {
      "cell_type": "markdown",
      "metadata": {
        "id": "j9aiGOrtm9Zv"
      },
      "source": [
        "Αξίζει να σχολιάσουμε σε αυτό το σημείο τη χαμηλή επίδοση του ταξινομητή. Ειδικά σε αντιδιαστολή με το **Μικρό Dataset** όπου ο εν λόγω ταξινομητής πετυχαίνει τα καλύτερα αποτελέσματα. Αποδίδουμε αυτή τη συμπεριφορά ακριβώς στη διαφορά μεγέθους. Όσο μεγαλύτερο είναι το σύνολο δεδομένων τόσο η τυχαία ταξινόμηση θα έχει χαμηλότερη απόδοση. "
      ]
    },
    {
      "cell_type": "markdown",
      "metadata": {
        "id": "KzMjp7MtftfC"
      },
      "source": [
        "### **Gaussian Naive Bayes Classifier**"
      ]
    },
    {
      "cell_type": "code",
      "metadata": {
        "colab": {
          "base_uri": "https://localhost:8080/"
        },
        "id": "etyBFaZJftfD",
        "outputId": "0cb7399b-cff4-46ca-f499-63e7ff47285a"
      },
      "source": [
        "from sklearn.naive_bayes import GaussianNB \n",
        "\n",
        "gnb = GaussianNB()\n",
        "gnb_model = gnb.fit(train, train_labels)\n",
        "\n",
        "gnb_preds = gnb.predict(test)\n",
        "print(gnb_preds)\n",
        "print(test_labels)"
      ],
      "execution_count": null,
      "outputs": [
        {
          "output_type": "stream",
          "text": [
            "[25 26  1 ... 25 26 26]\n",
            "[25 26  1 ... 25 26 26]\n"
          ],
          "name": "stdout"
        }
      ]
    },
    {
      "cell_type": "code",
      "metadata": {
        "colab": {
          "base_uri": "https://localhost:8080/"
        },
        "id": "9Gyg3tAhftfD",
        "outputId": "b5aaf0be-6bd2-4186-dff6-3bd7f52eca70"
      },
      "source": [
        "from sklearn.metrics import confusion_matrix\n",
        "\n",
        "# Compute confusion matrix\n",
        "gnb_cnf_matrix = confusion_matrix(test_labels, gnb_preds)\n",
        "\n",
        "# τυπώνουμε το confusion matrix\n",
        "print(label_names)\n",
        "print(gnb_cnf_matrix)"
      ],
      "execution_count": null,
      "outputs": [
        {
          "output_type": "stream",
          "text": [
            "['A', 'B', 'C', 'D', 'E', 'F', 'G', 'H', 'I', 'J', 'K', 'L', 'M', 'N', 'O', 'P', 'Q', 'R', 'S', 'T', 'U', 'V', 'W', 'X', 'Y', 'Z']\n",
            "[[84  1  0  0  1  0  0  2  0  0  1  0  0  1  0  0  0  0  0  0  0  0  0  0\n",
            "   0  0]\n",
            " [ 5 25  0  0 54  0  0  0  0  0  0  0  0  0  0  0  0  0  0  0  0  4  2  0\n",
            "   0  0]\n",
            " [ 0  0 81  0  0  0  0  0  0  0  0  0  0  0  0  0  1  0  0  0  0  0  0  0\n",
            "   0  8]\n",
            " [ 1  3  0 34 41  0  1  0  0  0  0  0  0  0  0  0  0  0  0  0  5  3  2  0\n",
            "   0  0]\n",
            " [ 1  5  0  2 79  0  0  0  0  0  0  0  0  0  0  1  0  0  0  0  1  1  0  0\n",
            "   0  0]\n",
            " [ 0  0  0  0  0 54  0  0  0  0  0  0  0  0  0  0  0  0  8  0  0  0  1 26\n",
            "   0  0]\n",
            " [ 0  0  0  0  1  0 73  0  0  1  0  0  0  0  0  1  3  0  0  7  0  1  0  0\n",
            "   0  3]\n",
            " [ 0  0  0  0  1  0  0 88  0  0  0  0  0  0  0  0  0  0  1  0  0  0  0  0\n",
            "   0  0]\n",
            " [ 0  0  0  0  0  2  0  0 79  0  0  0  0  1  0  0  0  6  0  0  0  0  1  1\n",
            "   0  0]\n",
            " [ 0  0  0  0  0  0  2  1  0 72 10  0  0  0  0  1  2  0  0  0  0  0  2  0\n",
            "   0  0]\n",
            " [ 0  0  0  0  1  1  0  0  0  2 78  0  0  0  0  4  1  0  0  0  0  1  2  0\n",
            "   0  0]\n",
            " [ 0  0  0  0  0  0  0  1  0  0  0 78  3  1  1  0  0  0  0  0  0  0  5  0\n",
            "   1  0]\n",
            " [ 0  0  0  0  0  1  0  0  0  0  0  5 65 14  0  0  0  0  0  0  2  0  2  0\n",
            "   0  0]\n",
            " [ 4  0  0  0  0  0  0  0  0  0  0  0 19 61  0  0  0  0  0  0  1  0  5  0\n",
            "   0  0]\n",
            " [ 0  0  0  0  0  0  0  0  3  0  0  7  0  0 75  0  0  0  0  0  0  0  5  0\n",
            "   0  0]\n",
            " [ 2  0  0  0 13  0  1  1  0  0  1  0  0  0  0 43  0  0  0 13  3 13  0  0\n",
            "   0  0]\n",
            " [ 0  0  0  0  0  0  0  0  0  0  0  0  0  0  0  0 87  0  0  0  0  0  3  0\n",
            "   0  0]\n",
            " [ 0  0  0  0  0  0  0  0  5  0  0  0  3  0  0  0  0 81  0  0  0  0  0  0\n",
            "   1  0]\n",
            " [ 0  0  0  0  0  3  0  1  0  0  0  0  0  0  0  0  0  0 84  0  0  0  0  2\n",
            "   0  0]\n",
            " [ 0  0  1  2  1  0  2  0  0  2  0  0  0  0  0  2  4  0  0 72  0  2  1  0\n",
            "   0  1]\n",
            " [ 0  0  0  0  1  0  0  0  0  0  0  0  0  0  0  0  6  0  0  0 81  0  2  0\n",
            "   0  0]\n",
            " [ 0  6  0  2  5  0  1  0  0  0  0  0  0  0  0  0  0  0  0  3  2 64  4  0\n",
            "   0  3]\n",
            " [ 0  0  0  0  0  0  0  0  0  0  0  0  1  0  0  0  0  0  0  0  0  0 89  0\n",
            "   0  0]\n",
            " [ 0  0  0  0  0  3  0  1  0  0  0  0  0  0  0  0  0  0  0  0  0  0  0 86\n",
            "   0  0]\n",
            " [ 0  0  0  0  0  0  0  0  1  0  0  0  0  0  0  0  0  0  0  0  0  0  2  0\n",
            "  88  0]\n",
            " [ 0  0  3  0  0  0  0  0  0  0  0  0  0  0  0  0  1  0  0  0  2  0  1  0\n",
            "   0 84]]\n"
          ],
          "name": "stdout"
        }
      ]
    },
    {
      "cell_type": "markdown",
      "metadata": {
        "id": "ZhxrEVatn4ox"
      },
      "source": [
        "Παρατηρούμε τα αποτελέσματα του confusion matrix. Βλέπουμε ότι τα λάθη ταξινόμησης που γίνονται είναι μεταξύ γραμμάτων που πράγματι είναι \"κοντά\" ηχητικά. Για παράδειγμα, στην περίπτωση του 'Α' παρατηρούμε ότι ταξινομούνται ως 'Α' γράμματα όπως 'Ε', 'Η', 'Κ'."
      ]
    },
    {
      "cell_type": "code",
      "metadata": {
        "colab": {
          "base_uri": "https://localhost:8080/"
        },
        "id": "oqo70qc5ftfE",
        "outputId": "08aaa835-110e-4bb8-ed06-62682066e61b"
      },
      "source": [
        "from sklearn.metrics import f1_score\n",
        "\n",
        "gnb_f1_micro = f1_score(test_labels, gnb_preds, average='micro')\n",
        "gnb_f1_macro = f1_score(test_labels, gnb_preds, average='macro')\n",
        "\n",
        "\n",
        "print(\"The f1 micro score is \", gnb_f1_micro, \"\\n\")\n",
        "print(\"The f1 macro score is \", gnb_f1_macro, \"\\n\")"
      ],
      "execution_count": null,
      "outputs": [
        {
          "output_type": "stream",
          "text": [
            "The f1 micro score is  0.8055555555555556 \n",
            "\n",
            "The f1 macro score is  0.8011978423287158 \n",
            "\n"
          ],
          "name": "stdout"
        }
      ]
    },
    {
      "cell_type": "markdown",
      "metadata": {
        "id": "gleNhpavqWbm"
      },
      "source": [
        "Το παραπάνω αποτέλεσμα είναι αρκετά ενθαρρυντικό σχετικά με τη διαχωρισιμότητα του Dataset. Βλέπουμε ότι η χαμηλή επίδοση του **Dummy** οφειλόταν πράγματι στην τυχαιότητα και όχι σε κάποια εγγενή δυσκολία του συνόλου δεδομένων, αφού εδώ πετυχαίνουμε πολύ καλή ακρίβεια πρόβλεψης. "
      ]
    },
    {
      "cell_type": "markdown",
      "metadata": {
        "id": "wAMmIQ4aftfE"
      },
      "source": [
        "### **K-Nearest Neighbors Classifier**"
      ]
    },
    {
      "cell_type": "code",
      "metadata": {
        "colab": {
          "base_uri": "https://localhost:8080/"
        },
        "id": "Mv5bpui8ftfE",
        "outputId": "9dca4a27-d8a9-40e0-cfc4-a43b749931ae"
      },
      "source": [
        "from sklearn.neighbors import KNeighborsClassifier \n",
        "\n",
        "knn = KNeighborsClassifier() \n",
        "knn_model = knn.fit(train, train_labels)\n",
        "\n",
        "knn_preds = knn.predict(test)\n",
        "print(knn_preds)\n",
        "print(test_labels)"
      ],
      "execution_count": null,
      "outputs": [
        {
          "output_type": "stream",
          "text": [
            "[25 26  1 ... 25 26 26]\n",
            "[25 26  1 ... 25 26 26]\n"
          ],
          "name": "stdout"
        }
      ]
    },
    {
      "cell_type": "code",
      "metadata": {
        "colab": {
          "base_uri": "https://localhost:8080/"
        },
        "id": "a7bnGHjtftfE",
        "outputId": "eb2435a2-fdb4-4999-ea0d-a83c9510932c"
      },
      "source": [
        "from sklearn.metrics import confusion_matrix\n",
        "\n",
        "# Compute confusion matrix\n",
        "knn_cnf_matrix = confusion_matrix(test_labels, knn_preds)\n",
        "\n",
        "# τυπώνουμε το confusion matrix\n",
        "print(label_names)\n",
        "print(knn_cnf_matrix)"
      ],
      "execution_count": null,
      "outputs": [
        {
          "output_type": "stream",
          "text": [
            "['A', 'B', 'C', 'D', 'E', 'F', 'G', 'H', 'I', 'J', 'K', 'L', 'M', 'N', 'O', 'P', 'Q', 'R', 'S', 'T', 'U', 'V', 'W', 'X', 'Y', 'Z']\n",
            "[[87  0  0  0  0  0  0  0  0  0  3  0  0  0  0  0  0  0  0  0  0  0  0  0\n",
            "   0  0]\n",
            " [ 0 83  0  1  4  0  0  0  0  0  0  0  0  0  0  1  0  0  0  0  0  1  0  0\n",
            "   0  0]\n",
            " [ 0  0 88  0  0  0  0  0  0  0  0  0  0  0  0  0  0  0  0  0  0  0  0  0\n",
            "   0  2]\n",
            " [ 1  5  0 79  0  0  2  0  0  0  0  0  0  0  0  1  0  0  0  0  0  2  0  0\n",
            "   0  0]\n",
            " [ 0 15  0  6 68  0  0  0  0  0  0  0  0  0  0  0  0  0  0  0  0  1  0  0\n",
            "   0  0]\n",
            " [ 0  0  0  0  0 86  0  0  0  0  0  0  0  0  0  0  0  0  1  0  1  0  0  1\n",
            "   0  0]\n",
            " [ 0  0  0  2  0  0 82  0  0  1  0  0  0  0  0  0  0  0  0  5  0  0  0  0\n",
            "   0  0]\n",
            " [ 2  0  0  0  0  0  0 88  0  0  0  0  0  0  0  0  0  0  0  0  0  0  0  0\n",
            "   0  0]\n",
            " [ 0  0  0  0  0  0  0  0 85  0  0  0  0  0  0  0  0  5  0  0  0  0  0  0\n",
            "   0  0]\n",
            " [ 0  0  0  0  0  0  0  0  0 89  1  0  0  0  0  0  0  0  0  0  0  0  0  0\n",
            "   0  0]\n",
            " [ 0  0  0  0  0  0  0  0  0 13 77  0  0  0  0  0  0  0  0  0  0  0  0  0\n",
            "   0  0]\n",
            " [ 0  0  0  0  0  0  0  0  0  0  0 90  0  0  0  0  0  0  0  0  0  0  0  0\n",
            "   0  0]\n",
            " [ 3  0  0  0  0  1  0  0  0  0  0  6 73  5  0  0  0  0  0  0  1  0  0  0\n",
            "   0  0]\n",
            " [ 4  0  0  0  0  0  0  0  0  0  0  0 13 71  0  0  0  0  0  0  2  0  0  0\n",
            "   0  0]\n",
            " [ 0  0  0  0  0  0  0  0  0  0  0  1  0  0 89  0  0  0  0  0  0  0  0  0\n",
            "   0  0]\n",
            " [ 0  7  0  7  1  0 10  0  0  0  0  0  0  0  0 61  0  0  0  4  0  0  0  0\n",
            "   0  0]\n",
            " [ 0  0  0  0  0  0  0  0  0  0  0  0  0  0  0  0 90  0  0  0  0  0  0  0\n",
            "   0  0]\n",
            " [ 0  0  0  0  0  0  0  0  0  0  0  0  0  0  0  0  0 90  0  0  0  0  0  0\n",
            "   0  0]\n",
            " [ 0  0  0  0  0 16  0  0  0  0  0  0  0  0  0  0  0  0 74  0  0  0  0  0\n",
            "   0  0]\n",
            " [ 1  0  1  7  0  0 11  0  0  4  1  0  0  0  0  2  0  0  0 62  0  1  0  0\n",
            "   0  0]\n",
            " [ 0  0  0  0  0  0  0  0  0  0  0  0  0  0  0  0  4  0  0  0 86  0  0  0\n",
            "   0  0]\n",
            " [ 1 12  0  4  1  0  0  0  0  0  0  0  0  0  0  2  0  0  0  2  2 63  0  0\n",
            "   0  3]\n",
            " [ 0  0  0  0  0  1  0  0  0  0  0  0  2  0  2  0  0  0  0  0  0  0 85  0\n",
            "   0  0]\n",
            " [ 0  0  0  0  0  3  0  0  0  0  0  0  0  0  0  0  0  0  0  0  0  0  0 87\n",
            "   0  0]\n",
            " [ 0  0  0  0  0  0  0  0  0  0  0  0  0  0  0  0  0  0  0  0  0  0  0  0\n",
            "  91  0]\n",
            " [ 0  0 12  0  1  0  0  0  0  0  0  0  0  0  0  0  0  0  0  0  1  2  0  0\n",
            "   0 75]]\n"
          ],
          "name": "stdout"
        }
      ]
    },
    {
      "cell_type": "markdown",
      "metadata": {
        "id": "YlyVrfq5q7xB"
      },
      "source": [
        "Τα λάθη που παρατηρούμε σε αυτή την περίπτωση είναι ακόμα πιο \"λογικά\" από την παραπάνω. Ας δούμε τα γράμματα που έχουμε εσφαλμένα ταξινομηθεί στο 'A'. Παρατηρούμε ότι μόνο το 'Κ' έχει ταξινομηθεί ως 'Α'. Τα δύο αυτά γράμματα περιέχουν τον ήχο 'ε-ϊ', συνεπώς η σύγχυση μεταξύ τους είναι δικαιολογημένη. "
      ]
    },
    {
      "cell_type": "code",
      "metadata": {
        "colab": {
          "base_uri": "https://localhost:8080/"
        },
        "id": "kkoRrOeTftfE",
        "outputId": "22b78205-a933-4696-b908-25d072ccc005"
      },
      "source": [
        "from sklearn.metrics import f1_score\n",
        "\n",
        "knn_f1_micro = f1_score(test_labels, knn_preds, average='micro')\n",
        "knn_f1_macro = f1_score(test_labels, knn_preds, average='macro')\n",
        "\n",
        "print(\"The f1 micro score is \", knn_f1_micro, \"\\n\")\n",
        "print(\"The f1 macro score is \", knn_f1_macro, \"\\n\")"
      ],
      "execution_count": null,
      "outputs": [
        {
          "output_type": "stream",
          "text": [
            "The f1 micro score is  0.897008547008547 \n",
            "\n",
            "The f1 macro score is  0.8961145731402053 \n",
            "\n"
          ],
          "name": "stdout"
        }
      ]
    },
    {
      "cell_type": "markdown",
      "metadata": {
        "id": "CEFVoVLVrhmR"
      },
      "source": [
        "Παρατηρούμε περαιτέρω αύξηση της επίδοσης όσο προχωράμε σε πιο \"έξυπνους\" ταξινομητές. Επιπλέον, όπως και στα παραπάνω, μπορούμε να δούμε ότι οι δύο μετρικές που χρησιμοποιούμε έχουν κοντινές αποδόσεις. Το γεγονός αυτό οφείλεται στην ισορροπία του συνόλου δεδομένων που παρατηρήσαμε και θα αξιοποιηθεί στη συνέχεια της μελέτης. "
      ]
    },
    {
      "cell_type": "markdown",
      "metadata": {
        "id": "g2fXuI1phNkV"
      },
      "source": [
        "### **Multi-Layer Perceptron (MLP)**"
      ]
    },
    {
      "cell_type": "code",
      "metadata": {
        "colab": {
          "base_uri": "https://localhost:8080/"
        },
        "id": "Wt_U0by5hNkV",
        "outputId": "a4c661dd-81dc-4d48-8917-ba6c548dacb8"
      },
      "source": [
        "from sklearn.neural_network import MLPClassifier\n",
        "\n",
        "mlp = MLPClassifier()\n",
        "mlp_model = mlp.fit(train, train_labels)\n",
        "\n",
        "mlp_preds = mlp.predict(test)\n",
        "print(mlp_preds)\n",
        "print(test_labels)"
      ],
      "execution_count": null,
      "outputs": [
        {
          "output_type": "stream",
          "text": [
            "[25 26  1 ... 25 26 26]\n",
            "[25 26  1 ... 25 26 26]\n"
          ],
          "name": "stdout"
        }
      ]
    },
    {
      "cell_type": "code",
      "metadata": {
        "colab": {
          "base_uri": "https://localhost:8080/"
        },
        "id": "zEX5dsxWhNkV",
        "outputId": "1cc111ed-2762-438b-bcde-07e9321c5987"
      },
      "source": [
        "from sklearn.metrics import confusion_matrix\n",
        "\n",
        "# Compute confusion matrix\n",
        "mlp_cnf_matrix = confusion_matrix(test_labels, mlp_preds)\n",
        "\n",
        "# τυπώνουμε το confusion matrix\n",
        "print(label_names)\n",
        "print(mlp_cnf_matrix)"
      ],
      "execution_count": null,
      "outputs": [
        {
          "output_type": "stream",
          "text": [
            "['A', 'B', 'C', 'D', 'E', 'F', 'G', 'H', 'I', 'J', 'K', 'L', 'M', 'N', 'O', 'P', 'Q', 'R', 'S', 'T', 'U', 'V', 'W', 'X', 'Y', 'Z']\n",
            "[[90  0  0  0  0  0  0  0  0  0  0  0  0  0  0  0  0  0  0  0  0  0  0  0\n",
            "   0  0]\n",
            " [ 1 81  0  1  5  0  0  0  0  0  0  0  0  0  0  0  0  0  0  0  0  2  0  0\n",
            "   0  0]\n",
            " [ 0  0 89  0  0  0  0  0  0  0  0  0  0  0  0  0  0  0  0  0  0  0  0  0\n",
            "   0  1]\n",
            " [ 0  1  0 83  1  0  1  0  0  0  0  0  0  1  0  0  0  0  0  1  2  0  0  0\n",
            "   0  0]\n",
            " [ 0  2  0  0 87  0  0  0  0  0  0  0  0  0  0  0  0  0  0  0  0  1  0  0\n",
            "   0  0]\n",
            " [ 0  0  0  0  0 86  0  0  0  0  0  0  0  0  0  0  0  0  3  0  0  0  0  0\n",
            "   0  0]\n",
            " [ 0  0  0  0  0  0 90  0  0  0  0  0  0  0  0  0  0  0  0  0  0  0  0  0\n",
            "   0  0]\n",
            " [ 1  0  0  0  0  0  0 89  0  0  0  0  0  0  0  0  0  0  0  0  0  0  0  0\n",
            "   0  0]\n",
            " [ 0  0  0  0  0  0  0  0 89  0  0  0  0  0  0  0  0  1  0  0  0  0  0  0\n",
            "   0  0]\n",
            " [ 0  0  0  0  0  0  0  0  0 90  0  0  0  0  0  0  0  0  0  0  0  0  0  0\n",
            "   0  0]\n",
            " [ 0  0  0  0  0  0  0  0  0  1 89  0  0  0  0  0  0  0  0  0  0  0  0  0\n",
            "   0  0]\n",
            " [ 0  0  0  0  0  0  0  0  0  0  0 90  0  0  0  0  0  0  0  0  0  0  0  0\n",
            "   0  0]\n",
            " [ 1  0  0  0  0  0  0  0  0  0  0  3 80  5  0  0  0  0  0  0  0  0  0  0\n",
            "   0  0]\n",
            " [ 0  0  0  0  0  0  0  0  0  0  0  0  9 79  0  0  0  0  0  0  2  0  0  0\n",
            "   0  0]\n",
            " [ 0  0  0  0  0  0  0  0  0  0  0  0  0  0 90  0  0  0  0  0  0  0  0  0\n",
            "   0  0]\n",
            " [ 0  2  0  0  1  0  2  0  0  0  0  0  0  0  0 79  0  0  0  2  2  2  0  0\n",
            "   0  0]\n",
            " [ 0  0  0  0  0  0  0  0  0  0  0  0  0  0  0  0 89  0  0  0  1  0  0  0\n",
            "   0  0]\n",
            " [ 0  0  0  0  0  0  0  0  0  0  0  0  0  0  0  0  0 90  0  0  0  0  0  0\n",
            "   0  0]\n",
            " [ 0  0  0  0  0  6  0  0  0  0  0  1  0  0  0  0  0  0 83  0  0  0  0  0\n",
            "   0  0]\n",
            " [ 0  0  0  1  0  0  2  0  0  0  1  0  0  0  0  0  0  0  0 85  1  0  0  0\n",
            "   0  0]\n",
            " [ 0  0  0  0  0  0  0  0  0  0  0  0  0  0  0  0  2  0  0  0 88  0  0  0\n",
            "   0  0]\n",
            " [ 0  4  0  0  0  0  0  0  0  0  0  0  0  0  0  1  0  0  0  1  4 75  0  0\n",
            "   0  5]\n",
            " [ 0  0  0  0  0  0  0  0  0  0  0  0  0  0  0  0  0  0  0  0  0  0 90  0\n",
            "   0  0]\n",
            " [ 0  0  0  0  0  2  0  0  0  0  0  0  0  0  0  0  0  0  0  0  0  0  0 88\n",
            "   0  0]\n",
            " [ 0  0  0  0  0  0  0  0  0  0  0  0  0  0  0  0  0  0  0  0  0  0  0  0\n",
            "  91  0]\n",
            " [ 0  0  2  0  2  0  0  0  0  0  0  0  0  0  0  0  0  0  0  0  0  1  0  0\n",
            "   0 86]]\n"
          ],
          "name": "stdout"
        }
      ]
    },
    {
      "cell_type": "markdown",
      "metadata": {
        "id": "IFP9epidtVCi"
      },
      "source": [
        "Ήδη από την παρατήρηση του **confusion matrix** καταλαβαίνουμε ότι ο ταξινομητής πετυχαίνει πολύ καλή αναγνώριση των ήχων. Σημειώνουμε ότι η αναγνώριση των φωνήεντων φαίνεται να είναι πιο εύκολη όπωςήταν αναμενόμενο. Αυτό, καθώς οι ήχοι των φωνηέντων είναι ευδιάκριτα φωνήματα σε αντίθεση με τα σύμφωνα που το συριστικό τους μέρος (που μοιάζει με θόρυβο) είναι δύσκολο να διακριθεί."
      ]
    },
    {
      "cell_type": "code",
      "metadata": {
        "colab": {
          "base_uri": "https://localhost:8080/"
        },
        "id": "xo-3yP78hNkV",
        "outputId": "8f543022-4ebd-4948-a4f9-f81caf1c2ce3"
      },
      "source": [
        "from sklearn.metrics import f1_score\n",
        "\n",
        "mlp_f1_micro = f1_score(test_labels, mlp_preds, average='micro')\n",
        "mlp_f1_macro = f1_score(test_labels, mlp_preds, average='macro')\n",
        "\n",
        "print(\"The f1 micro score is \", mlp_f1_micro, \"\\n\")\n",
        "print(\"The f1 macro score is \", mlp_f1_macro, \"\\n\")"
      ],
      "execution_count": null,
      "outputs": [
        {
          "output_type": "stream",
          "text": [
            "The f1 micro score is  0.9594017094017094 \n",
            "\n",
            "The f1 macro score is  0.9590597667866553 \n",
            "\n"
          ],
          "name": "stdout"
        }
      ]
    },
    {
      "cell_type": "markdown",
      "metadata": {
        "id": "1jr54e6guMr0"
      },
      "source": [
        "Ο **MLP** πετυχαίνει ακόμη καλύτερη επίδοση όπως μπορέσαμε να αντιληφθούμε ήδη από την παρατηρήση του confusion matrix. "
      ]
    },
    {
      "cell_type": "markdown",
      "metadata": {
        "id": "RWl3hI8ijkgi"
      },
      "source": [
        "### **Support Vector Machines (SVM)**\n",
        "\n",
        "\n",
        "\n",
        "\n"
      ]
    },
    {
      "cell_type": "code",
      "metadata": {
        "colab": {
          "base_uri": "https://localhost:8080/"
        },
        "id": "BNnBGeG1jkgi",
        "outputId": "fadca237-7caa-47d8-ed07-81d3b5b09cb2"
      },
      "source": [
        "from sklearn.svm import SVC\n",
        "\n",
        "svm = SVC()\n",
        "svm_model = svm.fit(train, train_labels)\n",
        "\n",
        "svm_preds = svm.predict(test)\n",
        "print(svm_preds)\n",
        "print(test_labels)"
      ],
      "execution_count": null,
      "outputs": [
        {
          "output_type": "stream",
          "text": [
            "[25 26  1 ... 25 26 26]\n",
            "[25 26  1 ... 25 26 26]\n"
          ],
          "name": "stdout"
        }
      ]
    },
    {
      "cell_type": "code",
      "metadata": {
        "colab": {
          "base_uri": "https://localhost:8080/"
        },
        "id": "Di4BjSVWjkgi",
        "outputId": "6d6590e3-5d06-4518-a033-e816b9fa93c2"
      },
      "source": [
        "from sklearn.metrics import confusion_matrix\n",
        "\n",
        "# Compute confusion matrix\n",
        "svm_cnf_matrix = confusion_matrix(test_labels, svm_preds)\n",
        "\n",
        "# τυπώνουμε το confusion matrix\n",
        "print(label_names)\n",
        "print(svm_cnf_matrix)"
      ],
      "execution_count": null,
      "outputs": [
        {
          "output_type": "stream",
          "text": [
            "['A', 'B', 'C', 'D', 'E', 'F', 'G', 'H', 'I', 'J', 'K', 'L', 'M', 'N', 'O', 'P', 'Q', 'R', 'S', 'T', 'U', 'V', 'W', 'X', 'Y', 'Z']\n",
            "[[88  0  0  0  0  0  0  1  0  0  1  0  0  0  0  0  0  0  0  0  0  0  0  0\n",
            "   0  0]\n",
            " [ 1 83  0  0  5  0  0  0  0  0  0  0  0  0  0  0  0  0  0  0  0  1  0  0\n",
            "   0  0]\n",
            " [ 0  0 90  0  0  0  0  0  0  0  0  0  0  0  0  0  0  0  0  0  0  0  0  0\n",
            "   0  0]\n",
            " [ 0  2  0 84  0  0  0  0  0  0  0  0  0  0  0  2  0  0  0  0  0  2  0  0\n",
            "   0  0]\n",
            " [ 0  4  0  0 86  0  0  0  0  0  0  0  0  0  0  0  0  0  0  0  0  0  0  0\n",
            "   0  0]\n",
            " [ 0  0  0  0  0 85  0  0  0  0  0  0  0  0  0  0  0  0  1  0  0  0  1  2\n",
            "   0  0]\n",
            " [ 0  0  0  0  0  0 89  0  0  0  0  0  0  0  0  0  0  0  0  1  0  0  0  0\n",
            "   0  0]\n",
            " [ 1  0  0  0  0  0  0 89  0  0  0  0  0  0  0  0  0  0  0  0  0  0  0  0\n",
            "   0  0]\n",
            " [ 0  0  0  0  0  1  0  0 88  0  0  0  0  0  0  0  0  1  0  0  0  0  0  0\n",
            "   0  0]\n",
            " [ 0  0  0  0  0  0  0  0  0 90  0  0  0  0  0  0  0  0  0  0  0  0  0  0\n",
            "   0  0]\n",
            " [ 0  0  0  1  0  0  0  0  0  3 86  0  0  0  0  0  0  0  0  0  0  0  0  0\n",
            "   0  0]\n",
            " [ 0  0  0  0  0  0  0  0  0  0  0 90  0  0  0  0  0  0  0  0  0  0  0  0\n",
            "   0  0]\n",
            " [ 0  0  0  0  0  0  0  0  0  0  0  1 84  4  0  0  0  0  0  0  0  0  0  0\n",
            "   0  0]\n",
            " [ 0  0  0  0  0  0  0  0  0  0  0  0 13 75  0  0  0  0  0  0  2  0  0  0\n",
            "   0  0]\n",
            " [ 0  0  0  0  0  0  0  0  0  0  0  0  0  0 90  0  0  0  0  0  0  0  0  0\n",
            "   0  0]\n",
            " [ 0  2  0  1  1  0  1  0  0  0  0  0  0  0  0 82  0  0  0  1  0  2  0  0\n",
            "   0  0]\n",
            " [ 0  0  0  0  0  0  0  0  0  0  0  0  0  0  0  0 90  0  0  0  0  0  0  0\n",
            "   0  0]\n",
            " [ 0  0  0  0  0  0  0  0  0  0  0  0  0  0  0  0  0 90  0  0  0  0  0  0\n",
            "   0  0]\n",
            " [ 0  0  0  0  0  5  0  0  0  0  0  0  0  0  0  0  0  0 85  0  0  0  0  0\n",
            "   0  0]\n",
            " [ 0  0  1  2  0  0  2  0  0  0  0  0  0  0  0  5  0  0  0 79  0  1  0  0\n",
            "   0  0]\n",
            " [ 0  0  0  0  0  0  0  0  0  0  0  0  0  0  0  0  2  0  0  0 88  0  0  0\n",
            "   0  0]\n",
            " [ 0  6  0  1  0  0  0  0  0  0  0  0  0  0  0  1  0  0  0  0  2 77  0  0\n",
            "   0  3]\n",
            " [ 0  0  0  0  0  0  0  0  0  0  0  0  1  0  0  0  0  0  0  0  0  0 89  0\n",
            "   0  0]\n",
            " [ 1  0  0  0  0  2  0  0  0  0  0  0  0  0  0  0  0  0  0  0  0  0  0 87\n",
            "   0  0]\n",
            " [ 0  0  0  0  0  0  0  0  0  0  0  0  0  0  0  0  0  0  0  0  0  0  0  0\n",
            "  91  0]\n",
            " [ 0  0  2  0  2  0  0  0  0  0  0  0  0  0  0  0  0  0  0  0  0  2  0  0\n",
            "   0 85]]\n"
          ],
          "name": "stdout"
        }
      ]
    },
    {
      "cell_type": "code",
      "metadata": {
        "colab": {
          "base_uri": "https://localhost:8080/"
        },
        "id": "keJV-qxSjkgi",
        "outputId": "f479d1ce-135d-4b21-9f59-231aa95be891"
      },
      "source": [
        "from sklearn.metrics import f1_score\n",
        "\n",
        "svc_f1_micro = f1_score(test_labels, svm_preds, average='micro')\n",
        "svc_f1_macro = f1_score(test_labels, svm_preds, average='macro')\n",
        "\n",
        "print(\"The f1 micro score is \", svc_f1_micro, \"\\n\")\n",
        "print(\"The f1 macro score is \", svc_f1_macro, \"\\n\")"
      ],
      "execution_count": null,
      "outputs": [
        {
          "output_type": "stream",
          "text": [
            "The f1 micro score is  0.9572649572649573 \n",
            "\n",
            "The f1 macro score is  0.9571057315578085 \n",
            "\n"
          ],
          "name": "stdout"
        }
      ]
    },
    {
      "cell_type": "markdown",
      "metadata": {
        "id": "GqJn6K5_yvei"
      },
      "source": [
        "Παρατηρούμε ότι η επίδοσή μας δεν βελτιώνεται σημαντικά σε σχέση με τονπροηγούμενο ταξινομητή. Αυτό μπορεί να μας οδηγήσει σε δύο συμπεράσματα. Πρώτον, οι ταξινομητές **MLP** και **SVM** είναι ισοδύναμοι στον εν λόγω dataset. Δεύτερον, η επίδοση που πετυχαίνουμε είναι κοντά στη βέλτιστη δυνατή. Το τελευταίο συμπέρασμα ενισχύεται από την υψηλή τιμή της επίδοσης αυτής που δε δίνει μεγάλο περιθώριο βελτίωσης."
      ]
    },
    {
      "cell_type": "markdown",
      "metadata": {
        "id": "e0AEI1APkmqh"
      },
      "source": [
        "###Bar Plots"
      ]
    },
    {
      "cell_type": "code",
      "metadata": {
        "colab": {
          "base_uri": "https://localhost:8080/",
          "height": 545
        },
        "id": "ZmzKhPavkmqh",
        "outputId": "de33aae9-25d1-4a8b-a5b3-587d6e971a90"
      },
      "source": [
        "import matplotlib.pyplot as plt \n",
        "\n",
        "clfs = ['Dummy', 'GNB', 'KNN', 'MLP', 'SVM']\n",
        "f1_micro = [dummy_f1_micro, gnb_f1_micro, knn_f1_micro, mlp_f1_micro, svc_f1_micro]\n",
        "f1_macro = [dummy_f1_macro, gnb_f1_macro, knn_f1_macro, mlp_f1_macro, svc_f1_macro]\n",
        "\n",
        "plt.figure()\n",
        "plt.title(\"F1 MICRO\")\n",
        "plt.bar(clfs, f1_micro, width=0.5)\n",
        "plt.show()\n",
        "plt.close()\n",
        "\n",
        "plt.figure()\n",
        "plt.title(\"F1 MACRO\")\n",
        "plt.bar(clfs, f1_macro, width=0.5)\n",
        "plt.show()\n",
        "plt.close()"
      ],
      "execution_count": null,
      "outputs": [
        {
          "output_type": "display_data",
          "data": {
            "image/png": "[encoded data removed]",
            "text/plain": [
              "<Figure size 432x288 with 1 Axes>"
            ]
          },
          "metadata": {
            "tags": [],
            "needs_background": "light"
          }
        },
        {
          "output_type": "display_data",
          "data": {
            "image/png": "[encoded data removed]",
            "text/plain": [
              "<Figure size 432x288 with 1 Axes>"
            ]
          },
          "metadata": {
            "tags": [],
            "needs_background": "light"
          }
        }
      ]
    },
    {
      "cell_type": "markdown",
      "metadata": {
        "id": "AevSRCdvkph-"
      },
      "source": [
        "Παρατηρώντας τα **Bar Plots** συγκεντρώνουμε όλες τις προηγούμενες παρατηρήσεις μας. Βλέπουμε την αναμενόμενη χαμηλή επίδοση του **Dummy** ταξινομητή την οποία αποδίδουμε στην τυχαιότητά του. Επιπλέον, παρατηρούμε ότι όσο πιο πολύπλοκο ταξινομητή χρησιμοποιούμε τόσο καλύτερη πρόβλεψη πετυχαίνουμε. Η παρατήρηση αυτή αποδίδεται στο ότι πρόκειται για ένα περίπλοκο dataset, με πολλές διαστάσεις και πολλά clusters στα οποία πρέπει να διαχωρίσουμε τα δεδομένα. Το γεγονός της ισοδυναμίας των ταξινομητών **MLP**, **SVM** μας οδηγεί στο συμπέρασμα ότι τα δεδομένα είναι γραμμικά διαχωρίσιμα (αφού λειτουργεί τόσο καλά ο **SVM**) και μάλιστα χωρίς να έχουμε μειώσει τις διαστάσεις τους. Τέλος, σε σύγκριση με το μικρό dataset, τονίζουμε ότι είναι σημαντικό να έχουμε πολλά δειγμάτων για την καλύτερη επίδοση των ταξινομητών. Βέβαια, σίγουρα το είδος του συνόλου δεδομένων σίγουρα παίζει καθοριστικό ρόλο επίσης.\n",
        "\n",
        "Επιπλέον παρατηρούμε ίδια κατανομή τόσο για την μετρική f1_macro όσο και για την f1_micro, καθώς αλλάζουμε ταξινομητή με αρκετά όμοιες αριθμητικές αποδόσεις. Αυτό είναι απολύτως λογικό να συμβαίνει καθώς το dataset μας είναι αρκετά ισορροπημένο και δεν υπάρχουν διαφορές στον αριθμό δειγμάτων για την κάθε κλάση."
      ]
    },
    {
      "cell_type": "code",
      "metadata": {
        "colab": {
          "base_uri": "https://localhost:8080/"
        },
        "id": "tmn8rQYtkmqi",
        "outputId": "66ec2c60-ae85-4ef1-bc3b-55d5f05430b7"
      },
      "source": [
        "from sklearn.metrics import classification_report\n",
        "print (\"Dummy Classifier\")\n",
        "print(classification_report(test_labels, dummy_preds, target_names=label_names))\n",
        "print (\"Gaussian Naive Bayes\")\n",
        "print(classification_report(test_labels, gnb_preds, target_names=label_names))\n",
        "print (\"K-Nearest Neihgbors\")\n",
        "print(classification_report(test_labels, knn_preds, target_names=label_names))\n",
        "print (\"Multi-Layer Perceptron (MLP)\")\n",
        "print(classification_report(test_labels, mlp_preds, target_names=label_names))\n",
        "print (\"Support Vector Machines (SVM)\")\n",
        "print(classification_report(test_labels, svm_preds, target_names=label_names))"
      ],
      "execution_count": null,
      "outputs": [
        {
          "output_type": "stream",
          "text": [
            "Dummy Classifier\n",
            "              precision    recall  f1-score   support\n",
            "\n",
            "           A       0.05      0.06      0.05        90\n",
            "           B       0.06      0.08      0.07        90\n",
            "           C       0.04      0.04      0.04        90\n",
            "           D       0.01      0.01      0.01        90\n",
            "           E       0.04      0.03      0.04        90\n",
            "           F       0.03      0.03      0.03        89\n",
            "           G       0.04      0.03      0.03        90\n",
            "           H       0.03      0.03      0.03        90\n",
            "           I       0.08      0.08      0.08        90\n",
            "           J       0.01      0.01      0.01        90\n",
            "           K       0.04      0.03      0.03        90\n",
            "           L       0.03      0.03      0.03        90\n",
            "           M       0.04      0.04      0.04        89\n",
            "           N       0.06      0.06      0.06        90\n",
            "           O       0.01      0.01      0.01        90\n",
            "           P       0.04      0.03      0.03        90\n",
            "           Q       0.05      0.04      0.04        90\n",
            "           R       0.03      0.03      0.03        90\n",
            "           S       0.05      0.04      0.05        90\n",
            "           T       0.00      0.00      0.00        90\n",
            "           U       0.06      0.06      0.06        90\n",
            "           V       0.04      0.04      0.04        90\n",
            "           W       0.08      0.08      0.08        90\n",
            "           X       0.05      0.04      0.05        90\n",
            "           Y       0.03      0.03      0.03        91\n",
            "           Z       0.03      0.02      0.02        91\n",
            "\n",
            "    accuracy                           0.04      2340\n",
            "   macro avg       0.04      0.04      0.04      2340\n",
            "weighted avg       0.04      0.04      0.04      2340\n",
            "\n",
            "Gaussian Naive Bayes\n",
            "              precision    recall  f1-score   support\n",
            "\n",
            "           A       0.87      0.93      0.90        90\n",
            "           B       0.62      0.28      0.38        90\n",
            "           C       0.95      0.90      0.93        90\n",
            "           D       0.85      0.38      0.52        90\n",
            "           E       0.40      0.88      0.55        90\n",
            "           F       0.84      0.61      0.71        89\n",
            "           G       0.91      0.81      0.86        90\n",
            "           H       0.93      0.98      0.95        90\n",
            "           I       0.90      0.88      0.89        90\n",
            "           J       0.94      0.80      0.86        90\n",
            "           K       0.87      0.87      0.87        90\n",
            "           L       0.87      0.87      0.87        90\n",
            "           M       0.71      0.73      0.72        89\n",
            "           N       0.78      0.68      0.73        90\n",
            "           O       0.99      0.83      0.90        90\n",
            "           P       0.83      0.48      0.61        90\n",
            "           Q       0.83      0.97      0.89        90\n",
            "           R       0.93      0.90      0.92        90\n",
            "           S       0.90      0.93      0.92        90\n",
            "           T       0.76      0.80      0.78        90\n",
            "           U       0.84      0.90      0.87        90\n",
            "           V       0.72      0.71      0.72        90\n",
            "           W       0.69      0.99      0.81        90\n",
            "           X       0.75      0.96      0.84        90\n",
            "           Y       0.98      0.97      0.97        91\n",
            "           Z       0.85      0.92      0.88        91\n",
            "\n",
            "    accuracy                           0.81      2340\n",
            "   macro avg       0.83      0.81      0.80      2340\n",
            "weighted avg       0.83      0.81      0.80      2340\n",
            "\n",
            "K-Nearest Neihgbors\n",
            "              precision    recall  f1-score   support\n",
            "\n",
            "           A       0.88      0.97      0.92        90\n",
            "           B       0.68      0.92      0.78        90\n",
            "           C       0.87      0.98      0.92        90\n",
            "           D       0.75      0.88      0.81        90\n",
            "           E       0.91      0.76      0.82        90\n",
            "           F       0.80      0.97      0.88        89\n",
            "           G       0.78      0.91      0.84        90\n",
            "           H       1.00      0.98      0.99        90\n",
            "           I       1.00      0.94      0.97        90\n",
            "           J       0.83      0.99      0.90        90\n",
            "           K       0.94      0.86      0.90        90\n",
            "           L       0.93      1.00      0.96        90\n",
            "           M       0.83      0.82      0.82        89\n",
            "           N       0.93      0.79      0.86        90\n",
            "           O       0.98      0.99      0.98        90\n",
            "           P       0.91      0.68      0.78        90\n",
            "           Q       0.96      1.00      0.98        90\n",
            "           R       0.95      1.00      0.97        90\n",
            "           S       0.99      0.82      0.90        90\n",
            "           T       0.85      0.69      0.76        90\n",
            "           U       0.92      0.96      0.94        90\n",
            "           V       0.90      0.70      0.79        90\n",
            "           W       1.00      0.94      0.97        90\n",
            "           X       0.99      0.97      0.98        90\n",
            "           Y       1.00      1.00      1.00        91\n",
            "           Z       0.94      0.82      0.88        91\n",
            "\n",
            "    accuracy                           0.90      2340\n",
            "   macro avg       0.90      0.90      0.90      2340\n",
            "weighted avg       0.90      0.90      0.90      2340\n",
            "\n",
            "Multi-Layer Perceptron (MLP)\n",
            "              precision    recall  f1-score   support\n",
            "\n",
            "           A       0.97      1.00      0.98        90\n",
            "           B       0.90      0.90      0.90        90\n",
            "           C       0.98      0.99      0.98        90\n",
            "           D       0.98      0.92      0.95        90\n",
            "           E       0.91      0.97      0.94        90\n",
            "           F       0.91      0.97      0.94        89\n",
            "           G       0.95      1.00      0.97        90\n",
            "           H       1.00      0.99      0.99        90\n",
            "           I       1.00      0.99      0.99        90\n",
            "           J       0.99      1.00      0.99        90\n",
            "           K       0.99      0.99      0.99        90\n",
            "           L       0.96      1.00      0.98        90\n",
            "           M       0.90      0.90      0.90        89\n",
            "           N       0.93      0.88      0.90        90\n",
            "           O       1.00      1.00      1.00        90\n",
            "           P       0.99      0.88      0.93        90\n",
            "           Q       0.98      0.99      0.98        90\n",
            "           R       0.99      1.00      0.99        90\n",
            "           S       0.97      0.92      0.94        90\n",
            "           T       0.96      0.94      0.95        90\n",
            "           U       0.88      0.98      0.93        90\n",
            "           V       0.93      0.83      0.88        90\n",
            "           W       1.00      1.00      1.00        90\n",
            "           X       1.00      0.98      0.99        90\n",
            "           Y       1.00      1.00      1.00        91\n",
            "           Z       0.93      0.95      0.94        91\n",
            "\n",
            "    accuracy                           0.96      2340\n",
            "   macro avg       0.96      0.96      0.96      2340\n",
            "weighted avg       0.96      0.96      0.96      2340\n",
            "\n",
            "Support Vector Machines (SVM)\n",
            "              precision    recall  f1-score   support\n",
            "\n",
            "           A       0.97      0.98      0.97        90\n",
            "           B       0.86      0.92      0.89        90\n",
            "           C       0.97      1.00      0.98        90\n",
            "           D       0.94      0.93      0.94        90\n",
            "           E       0.91      0.96      0.93        90\n",
            "           F       0.91      0.96      0.93        89\n",
            "           G       0.97      0.99      0.98        90\n",
            "           H       0.99      0.99      0.99        90\n",
            "           I       1.00      0.98      0.99        90\n",
            "           J       0.97      1.00      0.98        90\n",
            "           K       0.99      0.96      0.97        90\n",
            "           L       0.99      1.00      0.99        90\n",
            "           M       0.86      0.94      0.90        89\n",
            "           N       0.95      0.83      0.89        90\n",
            "           O       1.00      1.00      1.00        90\n",
            "           P       0.91      0.91      0.91        90\n",
            "           Q       0.98      1.00      0.99        90\n",
            "           R       0.99      1.00      0.99        90\n",
            "           S       0.99      0.94      0.97        90\n",
            "           T       0.98      0.88      0.92        90\n",
            "           U       0.96      0.98      0.97        90\n",
            "           V       0.91      0.86      0.88        90\n",
            "           W       0.99      0.99      0.99        90\n",
            "           X       0.98      0.97      0.97        90\n",
            "           Y       1.00      1.00      1.00        91\n",
            "           Z       0.97      0.93      0.95        91\n",
            "\n",
            "    accuracy                           0.96      2340\n",
            "   macro avg       0.96      0.96      0.96      2340\n",
            "weighted avg       0.96      0.96      0.96      2340\n",
            "\n"
          ],
          "name": "stdout"
        }
      ]
    },
    {
      "cell_type": "markdown",
      "metadata": {
        "id": "xfb010Gtks_o"
      },
      "source": [
        "Οι παραπάνω πίνακες παρατίθενται για να τονίσουμε ξανα ότι οι μετρικές που χρησιμοποιούμε είναι -σχετικά- ισοδύναμες σε αυτό το dataset. Αυτό οφείλεται στο γεγονός ότι το σύνολο δεδομένων είναι ισορροπημένο. "
      ]
    },
    {
      "cell_type": "markdown",
      "metadata": {
        "id": "ye28VoBvfwiz"
      },
      "source": [
        "##**Βελτιστοποίηση Ταξινομητών**\n",
        "\n",
        "Η διαδικασία βελτιστοποιήσης που θα ακολουθήσουμε για το μεγάλο dataset θα διαφέρει από την προηγούμενη διαδικασία. Αυτό συμβαίνει καθώς αυτό το dataset είναι ισορροπημένο. Έτσι ο έλεγχος για τη χρησιμότητα των **samplers** στη διαδικασία προεπεξεργασίας των δεδομένων κρίνεται περιττός. Για τον ίδιο λόγο, ο έλεγχος της επίδοσης των **pipelines** αρκεί να γίνει στην **fi-macro** μετρική, αφού όπως τονίσαμε και παραπάνω, οι δύο μετρικές είναι ισοδύναμες σε ισορροπημένο dataset. "
      ]
    },
    {
      "cell_type": "code",
      "metadata": {
        "id": "q6b3TeRYkvk7",
        "colab": {
          "base_uri": "https://localhost:8080/"
        },
        "outputId": "d6ef4447-0d0e-4221-a5b6-f32579d433f0"
      },
      "source": [
        "from imblearn.pipeline import Pipeline\n",
        "\n",
        "from sklearn.feature_selection import VarianceThreshold\n",
        "from sklearn.decomposition import PCA\n",
        "#one of them will remain\n",
        "from sklearn.preprocessing import StandardScaler \n",
        "from sklearn.preprocessing import MinMaxScaler \n",
        "#finally we will chose one of them... do we need this now that it is balanced...???\n",
        "from imblearn.over_sampling import RandomOverSampler\n",
        "from imblearn.under_sampling import RandomUnderSampler\n",
        "\n",
        "from sklearn.metrics import confusion_matrix\n",
        "#from sklearn.model_selection import cross_val_score\n",
        "from sklearn.metrics import f1_score\n",
        "\n",
        "import warnings\n",
        "warnings.simplefilter(action='ignore', category=FutureWarning)"
      ],
      "execution_count": null,
      "outputs": [
        {
          "output_type": "stream",
          "text": [
            "/usr/local/lib/python3.6/dist-packages/sklearn/externals/six.py:31: FutureWarning: The module is deprecated in version 0.21 and will be removed in version 0.23 since we've dropped support for Python 2.7. Please rely on the official version of six (https://pypi.org/project/six/).\n",
            "  \"(https://pypi.org/project/six/).\", FutureWarning)\n",
            "/usr/local/lib/python3.6/dist-packages/sklearn/utils/deprecation.py:144: FutureWarning: The sklearn.neighbors.base module is  deprecated in version 0.22 and will be removed in version 0.24. The corresponding classes / functions should instead be imported from sklearn.neighbors. Anything that cannot be imported from sklearn.neighbors is now part of the private API.\n",
            "  warnings.warn(message, FutureWarning)\n"
          ],
          "name": "stderr"
        }
      ]
    },
    {
      "cell_type": "code",
      "metadata": {
        "colab": {
          "base_uri": "https://localhost:8080/"
        },
        "id": "cqYY0dejgHTC",
        "outputId": "93eba175-f11b-4106-82e6-197d84b08b2d"
      },
      "source": [
        "train_variance = features.var(axis=0)\n",
        "print(train_variance)\n",
        "print(np.max(train_variance))"
      ],
      "execution_count": null,
      "outputs": [
        {
          "output_type": "stream",
          "text": [
            "[0.05602963 0.10244442 0.10669169 0.09503724 0.21294618 0.32482415\n",
            " 0.31322883 0.28633986 0.27950279 0.26554392 0.23014677 0.19793479\n",
            " 0.20215643 0.22438852 0.22976247 0.22833121 0.20385896 0.17659017\n",
            " 0.15284086 0.13723526 0.13095597 0.13498177 0.14613688 0.15320433\n",
            " 0.15161886 0.15006474 0.14914919 0.14901919 0.15186753 0.16478568\n",
            " 0.18513045 0.21505827 0.04597688 0.0842121  0.0955552  0.084932\n",
            " 0.20831022 0.33235107 0.33857148 0.32393367 0.31015541 0.28469106\n",
            " 0.24520798 0.21552913 0.21618694 0.23408933 0.23768789 0.23387794\n",
            " 0.20977796 0.17447835 0.14115746 0.12191355 0.11668857 0.12259402\n",
            " 0.13314197 0.14056747 0.14544559 0.14664773 0.14712816 0.14579621\n",
            " 0.15064743 0.16209348 0.18508537 0.2179551  0.04418908 0.08523376\n",
            " 0.10403551 0.08600894 0.2051429  0.33850921 0.36019077 0.35068606\n",
            " 0.3454847  0.32876234 0.29098768 0.25958303 0.25397924 0.25923271\n",
            " 0.24851492 0.23756139 0.21239831 0.18451652 0.15291437 0.13180159\n",
            " 0.12873481 0.13794336 0.14706362 0.15072153 0.15272268 0.15341954\n",
            " 0.15498042 0.15678261 0.16163056 0.17198149 0.19191471 0.22112706\n",
            " 0.05033796 0.09579152 0.11627634 0.09611888 0.21160934 0.3439895\n",
            " 0.37083483 0.3576555  0.35780171 0.35397481 0.32664813 0.30135002\n",
            " 0.289569   0.2846063  0.26429928 0.25047032 0.23172102 0.20824272\n",
            " 0.1810298  0.16053227 0.16280388 0.1714419  0.17994378 0.18326813\n",
            " 0.18027018 0.18027552 0.18230149 0.18588789 0.18911809 0.19240939\n",
            " 0.2074477  0.23166812 0.06299407 0.11415936 0.12764369 0.10926086\n",
            " 0.22968564 0.35505951 0.37578958 0.34363765 0.33997836 0.33727349\n",
            " 0.32754784 0.31521238 0.31395355 0.30928629 0.28916034 0.28053022\n",
            " 0.26492595 0.24705684 0.22908458 0.20986539 0.20789346 0.21533808\n",
            " 0.224147   0.22426631 0.21822591 0.21762282 0.22181789 0.2287524\n",
            " 0.22496713 0.21927614 0.22493072 0.24240648 0.07983458 0.13440854\n",
            " 0.13545543 0.12173051 0.24953101 0.35340556 0.34928625 0.3053513\n",
            " 0.29271689 0.29575446 0.29748868 0.29919731 0.31183988 0.31544204\n",
            " 0.28996796 0.28598297 0.28005044 0.28435721 0.28124151 0.26226766\n",
            " 0.25568285 0.26495857 0.27515815 0.26743012 0.25296203 0.24547184\n",
            " 0.25092696 0.25186209 0.24115312 0.22790522 0.2222696  0.23107003\n",
            " 0.12792473 0.18022618 0.16668895 0.17884288 0.25793223 0.31415294\n",
            " 0.30117213 0.26341791 0.2564528  0.26196063 0.25721324 0.25467861\n",
            " 0.26676541 0.27263903 0.25379973 0.25345075 0.25445542 0.27368499\n",
            " 0.29008334 0.2853913  0.2747479  0.28646866 0.29371955 0.27865239\n",
            " 0.2565852  0.2514557  0.2470621  0.24300545 0.23180671 0.21174488\n",
            " 0.20449014 0.20390484 0.11935521 0.14145151 0.12549909 0.09986144\n",
            " 0.16015052 0.23237305 0.22948329 0.21392145 0.20628471 0.19216244\n",
            " 0.16874615 0.1495867  0.1518816  0.16905748 0.17258507 0.17027517\n",
            " 0.15821645 0.14179685 0.12958357 0.11807214 0.11570512 0.11927383\n",
            " 0.12983339 0.13357093 0.13378985 0.13338301 0.13103509 0.13316703\n",
            " 0.13380744 0.14534819 0.15248368 0.17136387 0.0885334  0.11296319\n",
            " 0.11360693 0.09418104 0.15958517 0.24398952 0.2430627  0.22185034\n",
            " 0.21719591 0.20439215 0.17838454 0.15918001 0.16091023 0.17507343\n",
            " 0.18311241 0.18056296 0.16488471 0.14587702 0.12874361 0.11596412\n",
            " 0.11192561 0.11559364 0.12636903 0.13149687 0.13152986 0.13057744\n",
            " 0.12881091 0.13061188 0.13147619 0.1414337  0.15818801 0.18312416\n",
            " 0.06588369 0.10147345 0.11729209 0.09894469 0.19839623 0.30597747\n",
            " 0.31584264 0.30151264 0.3001831  0.29680707 0.27812542 0.26417793\n",
            " 0.26068942 0.25493082 0.2380124  0.22726707 0.21615071 0.20556441\n",
            " 0.18647297 0.17117919 0.17273135 0.18231474 0.18839288 0.18539521\n",
            " 0.17907014 0.17407304 0.17293029 0.17600128 0.17409537 0.17372995\n",
            " 0.18323556 0.20412746 0.01847728 0.02667971 0.03788861 0.05405527\n",
            " 0.06216259 0.06638397 0.06788278 0.06281495 0.0464421  0.04355136\n",
            " 0.07156736 0.1067064  0.09733531 0.08424813 0.08670603 0.09374393\n",
            " 0.11812798 0.14066968 0.14994463 0.14502397 0.11905913 0.05277054\n",
            " 0.0170471  0.01240271 0.01233736 0.01315348 0.01132652 0.00761619\n",
            " 0.0056324  0.00416991 0.00339574 0.00332089 0.00301646 0.03450006\n",
            " 0.05139437 0.07406208 0.10670923 0.13754149 0.16737937 0.21177545\n",
            " 0.24436963 0.24434298 0.21339154 0.14539272 0.15494522 0.13499889\n",
            " 0.1101818  0.10851052 0.12317713 0.16429316 0.19444905 0.19360231\n",
            " 0.16341193 0.10696134 0.04030709 0.01476009 0.01596524 0.01779139\n",
            " 0.02139754 0.02621964 0.03446545 0.04358488 0.05027235 0.05425243\n",
            " 0.05370082 0.05182736 0.09163347 0.1302952  0.1675164  0.20220895\n",
            " 0.24912858 0.31354564 0.39477136 0.4633548  0.46983549 0.41235821\n",
            " 0.2299726  0.0431503  0.04921979 0.05052004 0.05029161 0.0489326\n",
            " 0.04889976 0.04848222 0.04468236 0.03994189 0.03304991 0.02832411\n",
            " 0.04974768 0.11439055 0.17091433 0.19662908 0.22545333 0.26082226\n",
            " 0.29924243 0.32661263 0.34505036 0.34815725 0.34318247 0.17773864\n",
            " 0.2099545  0.24154662 0.2784984  0.36307581 0.49528387 0.57403985\n",
            " 0.55911774 0.56645021 0.48071371 0.18299776 0.19949004 0.42407936\n",
            " 0.208499   0.14952759 0.16800657 0.21440843 0.21952549 0.22584848\n",
            " 0.3240268  0.43334278 0.44614141 0.41932767 0.28979869 0.20951104\n",
            " 0.19331567 0.22425222 0.22970241 0.21049706 0.15443848 0.11709505\n",
            " 0.10074564 0.10466223 0.37178799 0.36939857 0.36752555 0.36468442\n",
            " 0.36255356 0.36093918 0.36050622 0.36111595 0.36174648 0.32922434\n",
            " 0.3151183  0.31776411 0.32055079 0.32343901 0.32685863 0.33090206\n",
            " 0.33716277 0.34838692 0.36719077 0.36451898 0.18632587 0.14326984\n",
            " 0.16106976 0.15613664 0.1931333  0.19375249 0.17850565 0.49869297\n",
            " 0.1414008  0.14003758 0.15793379 0.17102425 0.1563278  0.14163003\n",
            " 0.13614991 0.13196076 0.12106643 0.10901299 0.0973047  0.09057589\n",
            " 0.08569196 0.07972778 0.07579193 0.072113   0.0739374  0.08144426\n",
            " 0.08724086 0.09789518 0.10355348 0.10957085 0.11559742 0.11753109\n",
            " 0.12065714 0.11993904 0.11881406 0.11644461 0.11139214 0.10894751\n",
            " 0.10232868 0.10017575 0.16951802 0.18730325 0.22743872 0.22470933\n",
            " 0.19213636 0.16834921 0.16009849 0.15920949 0.13947249 0.12047749\n",
            " 0.10820985 0.09786587 0.09152914 0.08588048 0.08159115 0.0765038\n",
            " 0.08036084 0.08908894 0.0955294  0.10573366 0.1150613  0.12553795\n",
            " 0.13151523 0.13683765 0.14070128 0.14107599 0.13785531 0.13758\n",
            " 0.13180657 0.12818775 0.12301233 0.13304695 0.1607893  0.18125457\n",
            " 0.22097899 0.22153045 0.18190146 0.15424297 0.139391   0.13953676\n",
            " 0.11875747 0.10652546 0.0951887  0.08738629 0.08358521 0.08097017\n",
            " 0.07790406 0.07540135 0.08384309 0.09453765 0.10128742 0.11319717\n",
            " 0.1221514  0.13102267 0.13801763 0.13987159 0.14250718 0.14160708\n",
            " 0.13872069 0.13499858 0.12778494 0.1262862  0.12357633 0.12790568\n",
            " 0.5341534  0.61800403 0.47657178 0.88369949 0.21563469 0.16715518\n",
            " 0.16406307 0.32442047 0.4552019  0.14468142 0.1519897  0.1243801\n",
            " 0.14330687 0.13926019 0.13591206 0.13437627 0.12800219 0.11378302\n",
            " 0.11268717 0.10917186 0.10265142 0.09325714 0.09179777 0.08614129\n",
            " 0.08551822 0.09102615 0.09520055 0.09612263 0.104938   0.10641743\n",
            " 0.11307183 0.11260067 0.10943746 0.10810432 0.11137247 0.11218002\n",
            " 0.1117301  0.11297193 0.11408057 0.11078066 0.12559605]\n",
            "0.8836994934746744\n"
          ],
          "name": "stdout"
        }
      ]
    },
    {
      "cell_type": "code",
      "metadata": {
        "id": "7pjl1sKVgecX"
      },
      "source": [
        "selector = VarianceThreshold()\n",
        "scaler = StandardScaler()\n",
        "ros = RandomOverSampler()\n",
        "pca = PCA()\n",
        "minmax = MinMaxScaler()\n",
        "rus = RandomUnderSampler()\n",
        "\n",
        "vthreshold = [0, 0.1, 0.2, 0.3, 0.5] #προσαρμόζουμε τις τιμές μας στο variance που παρατηρήσαμε\n",
        "n_components = [10, 50, 100, 300]"
      ],
      "execution_count": null,
      "outputs": []
    },
    {
      "cell_type": "markdown",
      "metadata": {
        "id": "24a8jrzEd_WF"
      },
      "source": [
        "###**Dummy Classifier**"
      ]
    },
    {
      "cell_type": "code",
      "metadata": {
        "id": "u5Y4h1AReILN"
      },
      "source": [
        "from sklearn.model_selection import GridSearchCV\n",
        "from sklearn.dummy import DummyClassifier\n",
        "\n",
        "dummy1 = DummyClassifier()\n",
        "dummy2 = DummyClassifier()\n",
        "dummy3 = DummyClassifier()"
      ],
      "execution_count": null,
      "outputs": []
    },
    {
      "cell_type": "code",
      "metadata": {
        "colab": {
          "base_uri": "https://localhost:8080/"
        },
        "id": "5y5n7ebkeO69",
        "outputId": "5b637575-d7d1-4baa-9316-2b2beef4b533"
      },
      "source": [
        "from sklearn.metrics import classification_report\n",
        "\n",
        "dummy_pipe1 = Pipeline(steps=[('selector', selector), ('scaler', scaler), ('pca', pca), ('dummy', dummy1)], memory = 'tmp')\n",
        "dummy_pipe2 = Pipeline(steps=[('scaler', minmax), ('selector', selector), ('pca', pca), ('dummy', dummy2)], memory = 'tmp')\n",
        "dummy_pipe3 = Pipeline(steps=[ ('selector', selector), ('pca', pca), ('dummy', dummy3)], memory = 'tmp')\n",
        "\n",
        "dummy_pipes = [dummy_pipe1, dummy_pipe2, dummy_pipe3]\n",
        "\n",
        "for dummy_pipe in dummy_pipes:\n",
        "  #this returns me the best estimator\n",
        "  dummy_estimator = GridSearchCV(dummy_pipe, dict(selector__threshold=vthreshold,\\\n",
        "                                                  pca__n_components=n_components),\\\n",
        "                                  cv=5, scoring='f1_macro', n_jobs=-1)\n",
        "  #to evaluate it we will use cross validation\n",
        "  dummy_estimator.fit(train, train_labels)\n",
        "  print(\"Score\", dummy_estimator.best_score_)\n",
        "  print(dummy_estimator.best_estimator_)\n",
        "  print(dummy_estimator.best_params_)\n",
        "  print(\"-----------------------------------------------------------------------\")"
      ],
      "execution_count": null,
      "outputs": [
        {
          "output_type": "stream",
          "text": [
            "Score 0.040303829685732734\n",
            "Pipeline(memory='tmp',\n",
            "         steps=[('selector', VarianceThreshold(threshold=0)),\n",
            "                ('scaler',\n",
            "                 StandardScaler(copy=True, with_mean=True, with_std=True)),\n",
            "                ('pca',\n",
            "                 PCA(copy=True, iterated_power='auto', n_components=50,\n",
            "                     random_state=None, svd_solver='auto', tol=0.0,\n",
            "                     whiten=False)),\n",
            "                ('dummy',\n",
            "                 DummyClassifier(constant=None, random_state=None,\n",
            "                                 strategy='warn'))],\n",
            "         verbose=False)\n",
            "{'pca__n_components': 50, 'selector__threshold': 0}\n",
            "-----------------------------------------------------------------------\n",
            "Score 0.038298394885283395\n",
            "Pipeline(memory='tmp',\n",
            "         steps=[('scaler', MinMaxScaler(copy=True, feature_range=(0, 1))),\n",
            "                ('selector', VarianceThreshold(threshold=0)),\n",
            "                ('pca',\n",
            "                 PCA(copy=True, iterated_power='auto', n_components=100,\n",
            "                     random_state=None, svd_solver='auto', tol=0.0,\n",
            "                     whiten=False)),\n",
            "                ('dummy',\n",
            "                 DummyClassifier(constant=None, random_state=None,\n",
            "                                 strategy='warn'))],\n",
            "         verbose=False)\n",
            "{'pca__n_components': 100, 'selector__threshold': 0}\n",
            "-----------------------------------------------------------------------\n",
            "Score 0.04591938882477385\n",
            "Pipeline(memory='tmp',\n",
            "         steps=[('selector', VarianceThreshold(threshold=0.1)),\n",
            "                ('pca',\n",
            "                 PCA(copy=True, iterated_power='auto', n_components=100,\n",
            "                     random_state=None, svd_solver='auto', tol=0.0,\n",
            "                     whiten=False)),\n",
            "                ('dummy',\n",
            "                 DummyClassifier(constant=None, random_state=None,\n",
            "                                 strategy='warn'))],\n",
            "         verbose=False)\n",
            "{'pca__n_components': 100, 'selector__threshold': 0.1}\n",
            "-----------------------------------------------------------------------\n"
          ],
          "name": "stdout"
        }
      ]
    },
    {
      "cell_type": "markdown",
      "metadata": {
        "id": "cwHU2mu1foDN"
      },
      "source": [
        "Οι παρατηρήσεις μας στο μικρό dataset σχετικά με τη λειτουργία του **Dummy** ταξινομητή δεν έχουν λόγο να αλλάξουν εδώ. Ωστόσο, για επιβεβαίωση, τρέξαμε και εδώ τα αντίστοιχα **GridSearch**. Και πάλι παρατηρήσαμε ότι η λειτουργία του εν λόγω ταξινομητή βασίζεται στην τύχη επομένως θα επιλέξουμε έναν απλό **Dummy Classifier** για τη σύγκριση με τον αρχικό, αφού η προεπεξεργασία των δεδομένων δε θα παίξει ρόλο.\n",
        "\n",
        "Επιπλέον, παρατηρούμε ότι σε αυτό το dataset η \"τύχη\" του ταξινομητή φαίνεται να μη συνεχίζεται. Αυτή η παρατήρηση είναι λογική καθώς ο ταξινομητής εξετάζεται σε μεγαλύτερο σύνολο δδομένων όπου λίγες σωστές απαντήσεις δε μπορούν να \"σώσουν\" τη συνολική εικόνα."
      ]
    },
    {
      "cell_type": "code",
      "metadata": {
        "colab": {
          "base_uri": "https://localhost:8080/"
        },
        "id": "E0fVFBJofY_P",
        "outputId": "696cf782-514f-46a6-e657-9daf26a407ff"
      },
      "source": [
        "import time\n",
        "\n",
        "#after having found the best estimator we repeat fitting-predicting to measure performance\n",
        "best_dummy =  DummyClassifier()\n",
        "dummy_pipe = Pipeline(steps=[('dummy', best_dummy)], memory = 'tmp') #best\n",
        "\n",
        "#fitting\n",
        "start_time_fit = time.time()\n",
        "#gnb_estimator.fit(train, train_labels)\n",
        "dummy_pipe.fit(train, train_labels)\n",
        "dummy_fit_time = time.time() - start_time_fit\n",
        "\n",
        "#predicting\n",
        "start_time_predict = time.time()\n",
        "dummy_opt_preds = dummy_pipe.predict(test)\n",
        "dummy_predict_time = time.time() - start_time_predict\n",
        "\n",
        "print(\"Συνολικός χρόνος fit και predict: %s seconds\" % (time.time() - start_time_fit))\n",
        "print(\"Fitting time\", dummy_fit_time)\n",
        "print(\"Predicting time\", dummy_predict_time)\n",
        "print()\n",
        "print(\"Classification Report\")\n",
        "print(classification_report(test_labels, dummy_opt_preds))\n",
        "\n",
        "#print confusion matrix, f1-micro and f1-macro\n",
        "dummy_opt_cnf_matrix = confusion_matrix(test_labels, dummy_opt_preds)\n",
        "\n",
        "print()\n",
        "print(\"Confusion Matrix\")\n",
        "print(label_names)\n",
        "print(dummy_opt_cnf_matrix)\n",
        "\n",
        "dummy_opt_f1_micro = f1_score(test_labels, dummy_opt_preds, average='micro')\n",
        "dummy_opt_f1_macro = f1_score(test_labels, dummy_opt_preds, average='macro')\n",
        "\n",
        "print()\n",
        "print(\"The f1 micro score is \", dummy_opt_f1_micro, \"\\n\")\n",
        "print(\"The f1 macro score is \", dummy_opt_f1_macro, \"\\n\")"
      ],
      "execution_count": null,
      "outputs": [
        {
          "output_type": "stream",
          "text": [
            "Συνολικός χρόνος fit και predict: 0.004538297653198242 seconds\n",
            "Fitting time 0.001506805419921875\n",
            "Predicting time 0.002982616424560547\n",
            "\n",
            "Classification Report\n",
            "              precision    recall  f1-score   support\n",
            "\n",
            "           1       0.02      0.02      0.02        90\n",
            "           2       0.04      0.04      0.04        90\n",
            "           3       0.03      0.03      0.03        90\n",
            "           4       0.05      0.06      0.05        90\n",
            "           5       0.05      0.06      0.05        90\n",
            "           6       0.06      0.07      0.06        89\n",
            "           7       0.05      0.06      0.05        90\n",
            "           8       0.07      0.07      0.07        90\n",
            "           9       0.07      0.07      0.07        90\n",
            "          10       0.06      0.06      0.06        90\n",
            "          11       0.03      0.03      0.03        90\n",
            "          12       0.04      0.03      0.03        90\n",
            "          13       0.02      0.02      0.02        89\n",
            "          14       0.05      0.06      0.05        90\n",
            "          15       0.04      0.04      0.04        90\n",
            "          16       0.03      0.02      0.02        90\n",
            "          17       0.03      0.03      0.03        90\n",
            "          18       0.05      0.04      0.05        90\n",
            "          19       0.03      0.02      0.02        90\n",
            "          20       0.08      0.09      0.08        90\n",
            "          21       0.05      0.04      0.05        90\n",
            "          22       0.07      0.07      0.07        90\n",
            "          23       0.08      0.07      0.07        90\n",
            "          24       0.04      0.04      0.04        90\n",
            "          25       0.03      0.03      0.03        91\n",
            "          26       0.05      0.04      0.05        91\n",
            "\n",
            "    accuracy                           0.05      2340\n",
            "   macro avg       0.05      0.05      0.05      2340\n",
            "weighted avg       0.05      0.05      0.05      2340\n",
            "\n",
            "\n",
            "Confusion Matrix\n",
            "['A', 'B', 'C', 'D', 'E', 'F', 'G', 'H', 'I', 'J', 'K', 'L', 'M', 'N', 'O', 'P', 'Q', 'R', 'S', 'T', 'U', 'V', 'W', 'X', 'Y', 'Z']\n",
            "[[ 2  3  3  2  9  3  3  4  2  3  5  2  3  4  4  3  4  5  0  6  3  4  0  4\n",
            "   3  6]\n",
            " [ 4  4  1  7  2  6  5  2  4  2  7  2  1  5  2  2  5  3  6  6  4  1  2  2\n",
            "   4  1]\n",
            " [ 3  1  3  7  9  5  5  2  4  4  3  3  4  6  3  3  3  3  1  5  3  2  2  2\n",
            "   2  2]\n",
            " [ 0  2  4  5  2  5  4  4  4  3  4  3  5  5  5  1  3  4  3  6  1  4  3  2\n",
            "   5  3]\n",
            " [ 4  5  2  6  5  1  3  1  1  4  1  5  3  4  2  0  5  5  6  4  3  7  3  2\n",
            "   5  3]\n",
            " [ 2  4  9  4  2  6  4  1  5  2  3  4  4  3  3  4  5  1  1  2  3  2  3  3\n",
            "   3  6]\n",
            " [ 1  9  0  4  4  2  5  4  7  5  6  1 10  3  2  2  2  2  4  3  4  2  1  4\n",
            "   1  2]\n",
            " [ 3  2  6  3  8  1  2  6  4  2  3  7  6  4  2  0  5  3  5  2  1  7  2  3\n",
            "   1  2]\n",
            " [ 4  6  3  5  2  1  3  2  6  4  3  5  7  5  9  3  2  1  4  3  0  2  0  4\n",
            "   4  2]\n",
            " [ 2  0  2  6  9  4  6  5  1  5  4  4  3  6  0  4  3  2  1  2  3  4  6  3\n",
            "   2  3]\n",
            " [ 1  3  5  5  3  1  5  2  2  1  3  8  5  3  4  3  2  1  6  2  5  2  6  5\n",
            "   4  3]\n",
            " [ 6  2  1  3  4  6  2  4  5  1  1  3  4  3  4  6  3  4  3  4  5  3  1  4\n",
            "   4  4]\n",
            " [ 3  3  3  6  1  4  4  6  4  3  1  4  2  3  4  5  5  6  3  5  2  2  1  2\n",
            "   4  3]\n",
            " [ 4  1  2  4  1  2  2  3  5  6  4  2  1  5  3  6  3  3  2  5  0  5  8  6\n",
            "   4  3]\n",
            " [ 1  2  4  5  5  3  3  2  2  7  5  1  0  6  4  3  1  2  3  5  8  1  3  6\n",
            "   5  3]\n",
            " [ 2  5  6  5  3  3  4  3  6  1  4  3  2  0  2  2  6  8  1  3  2  5  2  5\n",
            "   3  4]\n",
            " [ 4  3  8  1  2  3  2  4  0  5  5  4  5  5  2  4  3  2  6  2  3  0  4  3\n",
            "   4  6]\n",
            " [ 1  4  5  2  6  6  2  2  3  3  4  3  2  3  2  3  4  4  4  3  5  4  5  0\n",
            "   5  5]\n",
            " [ 1  3  4  3  3  8  3  4  0  2  6  0  6  6  4  2  6  5  2  2  4  2  1  4\n",
            "   7  2]\n",
            " [ 5  1  2  4  2  5  5  4  4  1  2  3  5  1  7  2  4  4  1  8  3  4  3  4\n",
            "   4  2]\n",
            " [ 3  4  3  3  1  4  6  4  1  7  3  3  1  5  4  6  3  6  3  1  4  4  4  4\n",
            "   2  1]\n",
            " [ 5  6  1  4  6  1  3  2  9  1  5  1  4  2  6  4  4  2  1  3  3  6  1  4\n",
            "   2  4]\n",
            " [ 6  5  3  2  0  2  3  8  4  4  5  2  2  3  4  0  4  0  3  7  4  6  6  3\n",
            "   1  3]\n",
            " [ 3  4  3  1  3  3  1  1  1  1  7  4  7  2  3  4  8  1  4  6  2  3  5  4\n",
            "   6  3]\n",
            " [ 6  5  3  2  3  5  6  3  3  5  2  5  6  2  3  4  2  2  2  6  2  1  2  5\n",
            "   3  3]\n",
            " [ 5  6  2  3  6  6  6  2  1  0  4  1  6  5  1  3  3  4  2  3  4  3  3  4\n",
            "   4  4]]\n",
            "\n",
            "The f1 micro score is  0.047008547008547 \n",
            "\n",
            "The f1 macro score is  0.046927149342624395 \n",
            "\n"
          ],
          "name": "stdout"
        }
      ]
    },
    {
      "cell_type": "markdown",
      "metadata": {
        "id": "gEy9ijcdgrVN"
      },
      "source": [
        "###**Gaussian Naive Bayes**"
      ]
    },
    {
      "cell_type": "code",
      "metadata": {
        "id": "Sj3tXGZogfjv"
      },
      "source": [
        "from sklearn.model_selection import GridSearchCV\n",
        "from sklearn.naive_bayes import GaussianNB \n",
        "\n",
        "gnb1 = GaussianNB()\n",
        "gnb2 = GaussianNB()\n",
        "gnb3 = GaussianNB()"
      ],
      "execution_count": null,
      "outputs": []
    },
    {
      "cell_type": "code",
      "metadata": {
        "colab": {
          "base_uri": "https://localhost:8080/"
        },
        "id": "YoP4hZpRgu4B",
        "outputId": "3d813784-c674-4826-befe-76a50cda301a"
      },
      "source": [
        "#searching for best estimator\n",
        "from sklearn.metrics import classification_report\n",
        "\n",
        "gnb_pipe1 = Pipeline(steps=[('selector', selector), ('scaler', scaler), ('pca', pca), ('gnb', gnb1)], memory = 'tmp')\n",
        "gnb_pipe2 = Pipeline(steps=[('scaler', minmax), ('selector', selector), ('pca', pca), ('gnb', gnb2)], memory = 'tmp')\n",
        "gnb_pipe3 = Pipeline(steps=[ ('selector', selector), ('pca', pca), ('gnb', gnb3)], memory = 'tmp')\n",
        "\n",
        "gnb_pipes = [gnb_pipe1, gnb_pipe2, gnb_pipe3]\n",
        "\n",
        "for gnb_pipe in gnb_pipes:\n",
        "  gnb_estimator = GridSearchCV(gnb_pipe, dict(selector__threshold=vthreshold, pca__n_components=n_components), cv=5, scoring='f1_macro', n_jobs=-1)\n",
        "  gnb_estimator.fit(train, train_labels)\n",
        "  print(\"Score\", gnb_estimator.best_score_)\n",
        "  print(gnb_estimator.best_estimator_)\n",
        "  print(gnb_estimator.best_params_)\n",
        "  print(\"-----------------------------------------------------------------------------------\")\n"
      ],
      "execution_count": null,
      "outputs": [
        {
          "output_type": "stream",
          "text": [
            "Score 0.9114928478916247\n",
            "Pipeline(memory='tmp',\n",
            "         steps=[('selector', VarianceThreshold(threshold=0.1)),\n",
            "                ('scaler',\n",
            "                 StandardScaler(copy=True, with_mean=True, with_std=True)),\n",
            "                ('pca',\n",
            "                 PCA(copy=True, iterated_power='auto', n_components=100,\n",
            "                     random_state=None, svd_solver='auto', tol=0.0,\n",
            "                     whiten=False)),\n",
            "                ('gnb', GaussianNB(priors=None, var_smoothing=1e-09))],\n",
            "         verbose=False)\n",
            "{'pca__n_components': 100, 'selector__threshold': 0.1}\n",
            "-----------------------------------------------------------------------------------\n",
            "Score 0.9198682018502785\n",
            "Pipeline(memory='tmp',\n",
            "         steps=[('scaler', MinMaxScaler(copy=True, feature_range=(0, 1))),\n",
            "                ('selector', VarianceThreshold(threshold=0)),\n",
            "                ('pca',\n",
            "                 PCA(copy=True, iterated_power='auto', n_components=100,\n",
            "                     random_state=None, svd_solver='auto', tol=0.0,\n",
            "                     whiten=False)),\n",
            "                ('gnb', GaussianNB(priors=None, var_smoothing=1e-09))],\n",
            "         verbose=False)\n",
            "{'pca__n_components': 100, 'selector__threshold': 0}\n",
            "-----------------------------------------------------------------------------------\n",
            "Score 0.9211060983848036\n",
            "Pipeline(memory='tmp',\n",
            "         steps=[('selector', VarianceThreshold(threshold=0)),\n",
            "                ('pca',\n",
            "                 PCA(copy=True, iterated_power='auto', n_components=100,\n",
            "                     random_state=None, svd_solver='auto', tol=0.0,\n",
            "                     whiten=False)),\n",
            "                ('gnb', GaussianNB(priors=None, var_smoothing=1e-09))],\n",
            "         verbose=False)\n",
            "{'pca__n_components': 100, 'selector__threshold': 0}\n",
            "-----------------------------------------------------------------------------------\n"
          ],
          "name": "stdout"
        }
      ]
    },
    {
      "cell_type": "markdown",
      "metadata": {
        "id": "MVm4jF2ui5Up"
      },
      "source": [
        "Από τα παραπάνω αποτέλεσματα θα παρατηρήσουμε ότι οι επιδόσεις των ταξινομητών με την προεργασία είναι πολύ κοντινές.\n",
        "Ωστόσο, η τελευταία περίπτωση είναι η οριακά καλύτερη και θα επιλέξουμε αυτή ως τελική, βέλτιστη εκδοχή του **GNB**. Οι παράμετροι των σταδίων της προεπεξεργασίας είναι:\n",
        " * **PCA**: 100 \n",
        " * **VarianceThreshold**: 0"
      ]
    },
    {
      "cell_type": "code",
      "metadata": {
        "colab": {
          "base_uri": "https://localhost:8080/"
        },
        "id": "UycPQHmkkvWc",
        "outputId": "c1a66377-4edd-45d9-9323-eed38f66337b"
      },
      "source": [
        "import time\n",
        "\n",
        "#after having found the best estimator we repeat fitting-predicting to measure performance\n",
        "best_selector = VarianceThreshold(threshold=0)\n",
        "best_pca = PCA(n_components=100)\n",
        "best_gnb = GaussianNB()\n",
        "gnb_pipe = Pipeline(steps=[('scaler', minmax), ('selector', best_selector), ('sampler', ros), ('pca', best_pca), ('gnb', best_gnb)], memory = 'tmp') #best\n",
        "\n",
        "\n",
        "#fitting\n",
        "start_time_fit = time.time()\n",
        "gnb_pipe.fit(train, train_labels)\n",
        "gnb_fit_time = time.time() - start_time_fit\n",
        "\n",
        "#predicting\n",
        "start_time_predict = time.time()\n",
        "gnb_opt_preds = gnb_pipe.predict(test)\n",
        "gnb_predict_time = time.time() - start_time_predict\n",
        "\n",
        "print(\"Συνολικός χρόνος fit και predict: %s seconds\" % (time.time() - start_time_fit))\n",
        "print(\"Fitting time\", gnb_fit_time)\n",
        "print(\"Predicting time\", gnb_predict_time)\n",
        "print()\n",
        "print(\"Classification Report\")\n",
        "print(classification_report(test_labels, gnb_opt_preds))\n",
        "\n",
        "#print confusion matrix, f1-micro and f1-macro\n",
        "gnb_opt_cnf_matrix = confusion_matrix(test_labels, gnb_opt_preds)\n",
        "\n",
        "print()\n",
        "print(\"Confusion Matrix\")\n",
        "print(label_names)\n",
        "print(gnb_opt_cnf_matrix)\n",
        "\n",
        "gnb_opt_f1_micro = f1_score(test_labels, gnb_opt_preds, average='micro')\n",
        "gnb_opt_f1_macro = f1_score(test_labels, gnb_opt_preds, average='macro')\n",
        "\n",
        "print()\n",
        "print(\"The f1 micro score is \", gnb_opt_f1_micro, \"\\n\")\n",
        "print(\"The f1 macro score is \", gnb_opt_f1_macro, \"\\n\")\n"
      ],
      "execution_count": null,
      "outputs": [
        {
          "output_type": "stream",
          "text": [
            "Συνολικός χρόνος fit και predict: 1.2716944217681885 seconds\n",
            "Fitting time 1.1879785060882568\n",
            "Predicting time 0.08363699913024902\n",
            "\n",
            "Classification Report\n",
            "              precision    recall  f1-score   support\n",
            "\n",
            "           1       0.90      0.96      0.92        90\n",
            "           2       0.86      0.83      0.85        90\n",
            "           3       0.94      0.97      0.95        90\n",
            "           4       0.88      0.82      0.85        90\n",
            "           5       0.89      0.88      0.88        90\n",
            "           6       0.90      0.94      0.92        89\n",
            "           7       0.92      0.92      0.92        90\n",
            "           8       0.99      0.99      0.99        90\n",
            "           9       1.00      0.93      0.97        90\n",
            "          10       0.93      0.92      0.93        90\n",
            "          11       0.91      0.89      0.90        90\n",
            "          12       0.97      0.98      0.97        90\n",
            "          13       0.83      0.90      0.86        89\n",
            "          14       0.85      0.80      0.82        90\n",
            "          15       0.98      0.97      0.97        90\n",
            "          16       0.86      0.83      0.85        90\n",
            "          17       0.95      1.00      0.97        90\n",
            "          18       0.94      1.00      0.97        90\n",
            "          19       0.98      0.92      0.95        90\n",
            "          20       0.92      0.77      0.84        90\n",
            "          21       0.88      0.94      0.91        90\n",
            "          22       0.80      0.84      0.82        90\n",
            "          23       0.93      0.99      0.96        90\n",
            "          24       0.98      0.98      0.98        90\n",
            "          25       1.00      1.00      1.00        91\n",
            "          26       0.90      0.88      0.89        91\n",
            "\n",
            "    accuracy                           0.92      2340\n",
            "   macro avg       0.92      0.92      0.92      2340\n",
            "weighted avg       0.92      0.92      0.92      2340\n",
            "\n",
            "\n",
            "Confusion Matrix\n",
            "['A', 'B', 'C', 'D', 'E', 'F', 'G', 'H', 'I', 'J', 'K', 'L', 'M', 'N', 'O', 'P', 'Q', 'R', 'S', 'T', 'U', 'V', 'W', 'X', 'Y', 'Z']\n",
            "[[86  0  0  0  0  0  0  1  0  0  0  0  0  2  0  0  0  0  0  0  0  0  1  0\n",
            "   0  0]\n",
            " [ 2 75  0  0  7  0  0  0  0  0  0  0  0  0  0  1  0  0  0  0  0  5  0  0\n",
            "   0  0]\n",
            " [ 0  0 87  0  0  0  0  0  0  0  0  0  0  0  0  0  0  0  0  0  0  0  0  0\n",
            "   0  3]\n",
            " [ 2  6  0 74  2  0  0  0  0  0  0  0  0  0  0  1  0  0  0  0  2  3  0  0\n",
            "   0  0]\n",
            " [ 2  3  0  2 79  0  0  0  0  0  0  0  0  0  0  3  0  0  0  0  0  1  0  0\n",
            "   0  0]\n",
            " [ 0  0  0  0  0 84  0  0  0  0  0  0  0  0  0  0  0  0  2  0  0  0  1  2\n",
            "   0  0]\n",
            " [ 0  0  0  0  0  0 83  0  0  0  1  0  0  0  0  0  0  0  0  0  1  2  1  0\n",
            "   0  2]\n",
            " [ 1  0  0  0  0  0  0 89  0  0  0  0  0  0  0  0  0  0  0  0  0  0  0  0\n",
            "   0  0]\n",
            " [ 0  0  0  0  0  0  0  0 84  0  0  0  0  0  0  0  0  6  0  0  0  0  0  0\n",
            "   0  0]\n",
            " [ 0  0  0  0  0  0  0  0  0 83  4  0  0  1  0  0  0  0  0  1  0  0  1  0\n",
            "   0  0]\n",
            " [ 3  0  0  1  0  0  0  0  0  4 80  0  0  0  0  1  0  0  0  0  0  0  1  0\n",
            "   0  0]\n",
            " [ 0  0  0  0  0  0  0  0  0  0  0 88  0  1  1  0  0  0  0  0  0  0  0  0\n",
            "   0  0]\n",
            " [ 0  0  0  0  0  0  0  0  0  0  0  0 80  8  1  0  0  0  0  0  0  0  0  0\n",
            "   0  0]\n",
            " [ 0  0  0  0  0  0  0  0  0  0  0  0 16 72  0  0  0  0  0  0  2  0  0  0\n",
            "   0  0]\n",
            " [ 0  0  0  0  0  0  0  0  0  0  0  3  0  0 87  0  0  0  0  0  0  0  0  0\n",
            "   0  0]\n",
            " [ 0  1  0  1  1  0  2  0  0  0  1  0  0  0  0 75  0  0  0  5  0  3  1  0\n",
            "   0  0]\n",
            " [ 0  0  0  0  0  0  0  0  0  0  0  0  0  0  0  0 90  0  0  0  0  0  0  0\n",
            "   0  0]\n",
            " [ 0  0  0  0  0  0  0  0  0  0  0  0  0  0  0  0  0 90  0  0  0  0  0  0\n",
            "   0  0]\n",
            " [ 0  0  0  0  0  7  0  0  0  0  0  0  0  0  0  0  0  0 83  0  0  0  0  0\n",
            "   0  0]\n",
            " [ 0  0  0  5  0  0  5  0  0  2  2  0  0  0  0  5  0  0  0 69  0  2  0  0\n",
            "   0  0]\n",
            " [ 0  0  0  0  0  0  0  0  0  0  0  0  0  0  0  0  5  0  0  0 85  0  0  0\n",
            "   0  0]\n",
            " [ 0  2  0  1  0  0  0  0  0  0  0  0  0  0  0  1  0  0  0  0  5 76  1  0\n",
            "   0  4]\n",
            " [ 0  0  0  0  0  0  0  0  0  0  0  0  0  1  0  0  0  0  0  0  0  0 89  0\n",
            "   0  0]\n",
            " [ 0  0  0  0  0  2  0  0  0  0  0  0  0  0  0  0  0  0  0  0  0  0  0 88\n",
            "   0  0]\n",
            " [ 0  0  0  0  0  0  0  0  0  0  0  0  0  0  0  0  0  0  0  0  0  0  0  0\n",
            "  91  0]\n",
            " [ 0  0  6  0  0  0  0  0  0  0  0  0  0  0  0  0  0  0  0  0  2  3  0  0\n",
            "   0 80]]\n",
            "\n",
            "The f1 micro score is  0.9175213675213675 \n",
            "\n",
            "The f1 macro score is  0.9169946739734672 \n",
            "\n"
          ],
          "name": "stdout"
        }
      ]
    },
    {
      "cell_type": "markdown",
      "metadata": {
        "id": "qXSbGCnUol0n"
      },
      "source": [
        "Βλέπουμε ότι η επίδοση στα test δεδομένα είναι ελάχιστα χειρότερη από αυτή που προέκυψε κατά τη διαδικασία βελτιστοποίησης. Ωστόσο, έχουμε σημαντική αύξηση σε σχέση με την επίδοση του ίδιου ταξινομητή χωρίς προεπεξεργασία των δεδομένων (όπως τον τρέξαμε παραπάνω στο κεφάλαιο της *Ταξινόμησης*). "
      ]
    },
    {
      "cell_type": "markdown",
      "metadata": {
        "id": "lwLDrH2mpRNy"
      },
      "source": [
        "###**K-Nearest Neighbors Classifier**"
      ]
    },
    {
      "cell_type": "code",
      "metadata": {
        "id": "WDcU5I25pPHq"
      },
      "source": [
        "from sklearn.model_selection import GridSearchCV\n",
        "from sklearn.neighbors import KNeighborsClassifier \n",
        "\n",
        "knn1 = KNeighborsClassifier()\n",
        "knn2 = KNeighborsClassifier()\n",
        "knn3 = KNeighborsClassifier()\n",
        "\n",
        "k = [10, 20]\n",
        "weights = ['uniform', 'distance']\n",
        "metric = ['euclidean', 'manhattan', 'minkowski']"
      ],
      "execution_count": null,
      "outputs": []
    },
    {
      "cell_type": "code",
      "metadata": {
        "colab": {
          "base_uri": "https://localhost:8080/"
        },
        "id": "rYTckqZbpmYy",
        "outputId": "cdd95d47-23fa-46e7-c639-7820d551ee10"
      },
      "source": [
        "#search for best estimator\n",
        "from sklearn.metrics import classification_report\n",
        "\n",
        "knn_pipe1 = Pipeline(steps=[('selector', selector), ('scaler', scaler), ('pca', pca), ('knn', knn1)], memory = 'tmp')\n",
        "knn_pipe2 = Pipeline(steps=[('scaler', minmax), ('selector', selector), ('pca', pca), ('knn', knn2)], memory = 'tmp')\n",
        "knn_pipe3 = Pipeline(steps=[('selector', selector), ('pca', pca), ('knn', knn3)], memory = 'tmp')\n",
        "\n",
        "knn_pipes = [knn_pipe1, knn_pipe2, knn_pipe3]\n",
        "\n",
        "for knn_pipe in knn_pipes:\n",
        "  knn_estimator = GridSearchCV(knn_pipe, dict(selector__threshold=vthreshold, pca__n_components=n_components, knn__n_neighbors=k, knn__weights = weights, knn__metric = metric), cv=5, scoring='f1_macro', n_jobs=-1)\n",
        "  knn_estimator.fit(train, train_labels)\n",
        "  print(\"Score\", knn_estimator.best_score_)\n",
        "  print(knn_estimator.best_estimator_)\n",
        "  print(knn_estimator.best_params_)\n",
        "  print(\"-----------------------------------------------------------------------------------\")\n"
      ],
      "execution_count": null,
      "outputs": [
        {
          "output_type": "stream",
          "text": [
            "Score 0.9118225073565842\n",
            "Pipeline(memory='tmp',\n",
            "         steps=[('selector', VarianceThreshold(threshold=0)),\n",
            "                ('scaler',\n",
            "                 StandardScaler(copy=True, with_mean=True, with_std=True)),\n",
            "                ('pca',\n",
            "                 PCA(copy=True, iterated_power='auto', n_components=300,\n",
            "                     random_state=None, svd_solver='auto', tol=0.0,\n",
            "                     whiten=False)),\n",
            "                ('knn',\n",
            "                 KNeighborsClassifier(algorithm='auto', leaf_size=30,\n",
            "                                      metric='euclidean', metric_params=None,\n",
            "                                      n_jobs=None, n_neighbors=20, p=2,\n",
            "                                      weights='distance'))],\n",
            "         verbose=False)\n",
            "{'knn__metric': 'euclidean', 'knn__n_neighbors': 20, 'knn__weights': 'distance', 'pca__n_components': 300, 'selector__threshold': 0}\n",
            "-----------------------------------------------------------------------------------\n",
            "Score 0.9189620138040432\n",
            "Pipeline(memory='tmp',\n",
            "         steps=[('scaler', MinMaxScaler(copy=True, feature_range=(0, 1))),\n",
            "                ('selector', VarianceThreshold(threshold=0)),\n",
            "                ('pca',\n",
            "                 PCA(copy=True, iterated_power='auto', n_components=300,\n",
            "                     random_state=None, svd_solver='auto', tol=0.0,\n",
            "                     whiten=False)),\n",
            "                ('knn',\n",
            "                 KNeighborsClassifier(algorithm='auto', leaf_size=30,\n",
            "                                      metric='euclidean', metric_params=None,\n",
            "                                      n_jobs=None, n_neighbors=10, p=2,\n",
            "                                      weights='distance'))],\n",
            "         verbose=False)\n",
            "{'knn__metric': 'euclidean', 'knn__n_neighbors': 10, 'knn__weights': 'distance', 'pca__n_components': 300, 'selector__threshold': 0}\n",
            "-----------------------------------------------------------------------------------\n",
            "Score 0.9171896534625855\n",
            "Pipeline(memory='tmp',\n",
            "         steps=[('selector', VarianceThreshold(threshold=0)),\n",
            "                ('pca',\n",
            "                 PCA(copy=True, iterated_power='auto', n_components=100,\n",
            "                     random_state=None, svd_solver='auto', tol=0.0,\n",
            "                     whiten=False)),\n",
            "                ('knn',\n",
            "                 KNeighborsClassifier(algorithm='auto', leaf_size=30,\n",
            "                                      metric='manhattan', metric_params=None,\n",
            "                                      n_jobs=None, n_neighbors=20, p=2,\n",
            "                                      weights='distance'))],\n",
            "         verbose=False)\n",
            "{'knn__metric': 'manhattan', 'knn__n_neighbors': 20, 'knn__weights': 'distance', 'pca__n_components': 100, 'selector__threshold': 0}\n",
            "-----------------------------------------------------------------------------------\n"
          ],
          "name": "stdout"
        }
      ]
    },
    {
      "cell_type": "code",
      "metadata": {
        "colab": {
          "base_uri": "https://localhost:8080/"
        },
        "id": "PPhjs2nkkmt2",
        "outputId": "40256c98-1a97-4996-ead7-5972680ea9d7"
      },
      "source": [
        "#without pre-processing\n",
        "knn = KNeighborsClassifier()\n",
        "knn_pipe = Pipeline(steps=[('knn', knn)], memory = 'tmp')\n",
        "knn_estimator = GridSearchCV(knn_pipe, dict(knn__n_neighbors=k, knn__weights = weights, knn__metric = metric),\\\n",
        "                             cv=5, scoring='f1_macro', n_jobs=-1)\n",
        "knn_estimator.fit(train, train_labels)\n",
        "print(\"Score\", knn_estimator.best_score_)\n",
        "print(knn_estimator.best_estimator_)\n",
        "print(knn_estimator.best_params_)"
      ],
      "execution_count": null,
      "outputs": [
        {
          "output_type": "stream",
          "text": [
            "Score 0.913517958556547\n",
            "Pipeline(memory='tmp',\n",
            "         steps=[('knn',\n",
            "                 KNeighborsClassifier(algorithm='auto', leaf_size=30,\n",
            "                                      metric='euclidean', metric_params=None,\n",
            "                                      n_jobs=None, n_neighbors=10, p=2,\n",
            "                                      weights='distance'))],\n",
            "         verbose=False)\n",
            "{'knn__metric': 'euclidean', 'knn__n_neighbors': 10, 'knn__weights': 'distance'}\n"
          ],
          "name": "stdout"
        }
      ]
    },
    {
      "cell_type": "markdown",
      "metadata": {
        "id": "5UShZLjilwd5"
      },
      "source": [
        "Από τα παραπάνω αποτέλεσματα προκύπτει ότι ο βέλτιστος **KNN** ταξινομητής απαιτεί προεπεξεργασία των δεδομένων και έχει τις εξής παραμέτρους:\n",
        "* **MinMaxScaler**\n",
        "* **VarianceThreshold**: 0\n",
        "* **PCA**: 300\n",
        "* **k_neighbors**: 10\n",
        "* **weigths**: distance\n",
        "* **metric**: euclidean\n",
        "\n",
        "Σημειώνουμε ότι δοκιμάσαμε και διαφορετικούς από τους παραπάνω συνδυασμούς για τη βελτιστοποιήση και παραθέτουμε αυτόν που μας έδωσε την τελική λύση (δηαλδή έχουμε δοκιμάσει και πολύ περισσότερους γείτονες ως παράμετρο του **KNN** αλλά φαίνεται οι 10 να είναι αρκετοί)."
      ]
    },
    {
      "cell_type": "code",
      "metadata": {
        "colab": {
          "base_uri": "https://localhost:8080/"
        },
        "id": "ciuBvAYyrQjB",
        "outputId": "629fc51c-9870-47f1-c606-0d59bf3a17ea"
      },
      "source": [
        "#best classifier\n",
        "best_scaler = MinMaxScaler()\n",
        "best_selector = VarianceThreshold(threshold=0)\n",
        "best_pca = PCA(n_components=300)\n",
        "best_knn = KNeighborsClassifier(n_neighbors=10, weights='distance', metric='euclidean')\n",
        "knn_pipe = Pipeline(steps=[('scaler', best_scaler), ('selector', best_selector), ('pca', best_pca), ('knn', best_knn)], memory = 'tmp') #best till now\n",
        "\n",
        "start_time_fit = time.time()\n",
        "knn_pipe.fit(train, train_labels)\n",
        "knn_fit_time = time.time() - start_time_fit\n",
        "\n",
        "start_time_predict = time.time()\n",
        "knn_opt_preds = knn_pipe.predict(test)\n",
        "knn_predict_time = time.time() - start_time_predict\n",
        "print(\"Συνολικός χρόνος fit και predict: %s seconds\" % (time.time() - start_time_fit))\n",
        "print(\"Fitting time\", knn_fit_time)\n",
        "print(\"Predicting time\", knn_predict_time)\n",
        "print()\n",
        "print(\"Classification Report\")\n",
        "print(classification_report(test_labels, knn_opt_preds))\n",
        "\n",
        "#print confusion matrix, f1-micro and f1-macro\n",
        "knn_opt_cnf_matrix = confusion_matrix(test_labels, knn_opt_preds)\n",
        "\n",
        "print()\n",
        "print(\"Confusion Matrix\")\n",
        "print(label_names)\n",
        "print(knn_opt_cnf_matrix)\n",
        "\n",
        "knn_opt_f1_micro = f1_score(test_labels, knn_opt_preds, average='micro')\n",
        "knn_opt_f1_macro = f1_score(test_labels, knn_opt_preds, average='macro')\n",
        "\n",
        "print()\n",
        "print(\"The f1 micro score is \", knn_opt_f1_micro, \"\\n\")\n",
        "print(\"The f1 macro score is \", knn_opt_f1_macro, \"\\n\")\n"
      ],
      "execution_count": null,
      "outputs": [
        {
          "output_type": "stream",
          "text": [
            "Συνολικός χρόνος fit και predict: 7.526737928390503 seconds\n",
            "Fitting time 0.3793609142303467\n",
            "Predicting time 7.147304534912109\n",
            "\n",
            "Classification Report\n",
            "              precision    recall  f1-score   support\n",
            "\n",
            "           1       0.93      0.97      0.95        90\n",
            "           2       0.76      0.92      0.83        90\n",
            "           3       0.91      0.98      0.94        90\n",
            "           4       0.83      0.91      0.87        90\n",
            "           5       0.92      0.90      0.91        90\n",
            "           6       0.85      0.96      0.90        89\n",
            "           7       0.89      0.93      0.91        90\n",
            "           8       1.00      0.98      0.99        90\n",
            "           9       1.00      0.94      0.97        90\n",
            "          10       0.86      1.00      0.92        90\n",
            "          11       0.94      0.88      0.91        90\n",
            "          12       0.97      0.99      0.98        90\n",
            "          13       0.84      0.83      0.84        89\n",
            "          14       0.93      0.83      0.88        90\n",
            "          15       0.97      1.00      0.98        90\n",
            "          16       0.91      0.79      0.85        90\n",
            "          17       0.95      1.00      0.97        90\n",
            "          18       0.95      1.00      0.97        90\n",
            "          19       0.98      0.89      0.93        90\n",
            "          20       0.88      0.78      0.82        90\n",
            "          21       0.93      0.94      0.94        90\n",
            "          22       0.89      0.72      0.80        90\n",
            "          23       1.00      0.98      0.99        90\n",
            "          24       0.99      0.97      0.98        90\n",
            "          25       1.00      1.00      1.00        91\n",
            "          26       0.96      0.87      0.91        91\n",
            "\n",
            "    accuracy                           0.92      2340\n",
            "   macro avg       0.92      0.92      0.92      2340\n",
            "weighted avg       0.92      0.92      0.92      2340\n",
            "\n",
            "\n",
            "Confusion Matrix\n",
            "['A', 'B', 'C', 'D', 'E', 'F', 'G', 'H', 'I', 'J', 'K', 'L', 'M', 'N', 'O', 'P', 'Q', 'R', 'S', 'T', 'U', 'V', 'W', 'X', 'Y', 'Z']\n",
            "[[87  0  0  0  0  0  0  0  0  0  3  0  0  0  0  0  0  0  0  0  0  0  0  0\n",
            "   0  0]\n",
            " [ 1 83  0  1  4  0  0  0  0  0  0  0  0  0  0  0  0  0  0  0  0  1  0  0\n",
            "   0  0]\n",
            " [ 0  0 88  0  0  0  0  0  0  0  0  0  0  0  0  0  0  0  0  0  0  0  0  0\n",
            "   0  2]\n",
            " [ 1  4  0 82  0  0  1  0  0  0  0  0  0  0  0  0  0  0  0  0  0  2  0  0\n",
            "   0  0]\n",
            " [ 0  7  0  2 81  0  0  0  0  0  0  0  0  0  0  0  0  0  0  0  0  0  0  0\n",
            "   0  0]\n",
            " [ 0  0  0  0  0 85  0  0  0  0  0  0  1  0  0  0  0  0  2  0  0  0  0  1\n",
            "   0  0]\n",
            " [ 0  0  0  1  0  0 84  0  0  2  0  0  0  0  0  0  0  0  0  3  0  0  0  0\n",
            "   0  0]\n",
            " [ 2  0  0  0  0  0  0 88  0  0  0  0  0  0  0  0  0  0  0  0  0  0  0  0\n",
            "   0  0]\n",
            " [ 0  0  0  0  0  0  0  0 85  0  0  0  0  0  0  0  0  5  0  0  0  0  0  0\n",
            "   0  0]\n",
            " [ 0  0  0  0  0  0  0  0  0 90  0  0  0  0  0  0  0  0  0  0  0  0  0  0\n",
            "   0  0]\n",
            " [ 0  0  0  0  0  0  0  0  0 10 79  0  0  0  0  1  0  0  0  0  0  0  0  0\n",
            "   0  0]\n",
            " [ 0  0  0  0  0  0  0  0  0  0  0 89  0  0  1  0  0  0  0  0  0  0  0  0\n",
            "   0  0]\n",
            " [ 2  0  0  0  0  2  0  0  0  0  0  3 74  6  1  0  0  0  0  0  1  0  0  0\n",
            "   0  0]\n",
            " [ 1  0  0  0  0  0  0  0  0  0  0  0 12 75  0  0  0  0  0  0  2  0  0  0\n",
            "   0  0]\n",
            " [ 0  0  0  0  0  0  0  0  0  0  0  0  0  0 90  0  0  0  0  0  0  0  0  0\n",
            "   0  0]\n",
            " [ 0  5  0  2  1  0  4  0  0  1  0  0  0  0  0 71  0  0  0  5  0  1  0  0\n",
            "   0  0]\n",
            " [ 0  0  0  0  0  0  0  0  0  0  0  0  0  0  0  0 90  0  0  0  0  0  0  0\n",
            "   0  0]\n",
            " [ 0  0  0  0  0  0  0  0  0  0  0  0  0  0  0  0  0 90  0  0  0  0  0  0\n",
            "   0  0]\n",
            " [ 0  0  0  0  0 10  0  0  0  0  0  0  0  0  0  0  0  0 80  0  0  0  0  0\n",
            "   0  0]\n",
            " [ 0  0  1  3  0  0  5  0  0  2  2  0  0  0  0  5  0  0  0 70  0  2  0  0\n",
            "   0  0]\n",
            " [ 0  0  0  0  0  0  0  0  0  0  0  0  0  0  0  0  5  0  0  0 85  0  0  0\n",
            "   0  0]\n",
            " [ 0 10  0  8  1  0  0  0  0  0  0  0  0  0  0  1  0  0  0  2  2 65  0  0\n",
            "   0  1]\n",
            " [ 0  0  0  0  0  0  0  0  0  0  0  0  1  0  1  0  0  0  0  0  0  0 88  0\n",
            "   0  0]\n",
            " [ 0  0  0  0  0  3  0  0  0  0  0  0  0  0  0  0  0  0  0  0  0  0  0 87\n",
            "   0  0]\n",
            " [ 0  0  0  0  0  0  0  0  0  0  0  0  0  0  0  0  0  0  0  0  0  0  0  0\n",
            "  91  0]\n",
            " [ 0  0  8  0  1  0  0  0  0  0  0  0  0  0  0  0  0  0  0  0  1  2  0  0\n",
            "   0 79]]\n",
            "\n",
            "The f1 micro score is  0.9213675213675213 \n",
            "\n",
            "The f1 macro score is  0.920728915592337 \n",
            "\n"
          ],
          "name": "stdout"
        }
      ]
    },
    {
      "cell_type": "markdown",
      "metadata": {
        "id": "UUdu2ZmQ311T"
      },
      "source": [
        "Αρχικά, επιβεβαιώνουμε την εκτίμησή μας για την ισοδυναμία των μετρικών **f1-macro**, **f1-micro** αφού η ταξινόμηση των test δίνει σχεδόν ίδιες τιμές και για τις δύο. Επομένως, ορθά αποφύγαμε να βελτιστοποίησουμε και ως προς την **f1-micro** μετρική.\n",
        "\n",
        "Επιπλέον, παρατηρούμε ότι έχουμε και πάλι βελτίωση της απόδοσης του ταξινομητή όταν εισάγουμε της προ-επεξεργασία των δεδομένων και τη βελτιστοποίηση ως προς την παράμετρο. Πράγματι, η default τιμή του αριθμού των γειτόνων, που χρησιμοποίθηκε και στην πρώτη εφαρμογή του **kNN** είναι 5, ενώ εδώ προέκυψε ότι η τιμή 10 είναι η βέλτιστη. "
      ]
    },
    {
      "cell_type": "markdown",
      "metadata": {
        "id": "UDB_1kK8vVdx"
      },
      "source": [
        "### **Multi-Layer Perceptron (MLP)**"
      ]
    },
    {
      "cell_type": "code",
      "metadata": {
        "id": "7qTvZe5UvkSp"
      },
      "source": [
        "from sklearn.model_selection import GridSearchCV\n",
        "from sklearn.neural_network import MLPClassifier\n",
        "\n",
        "mlp1 = MLPClassifier()\n",
        "mlp2 = MLPClassifier()\n",
        "mlp3 = MLPClassifier()\n",
        "\n",
        "hidden_layer_sizes = [(100), (200)] #only one hidden layer\n",
        "activation = ['logistic', 'tanh', 'relu'] #['identity', 'logistic', 'tanh', 'relu']\n",
        "solver = ['lbfgs', 'adam'] #['lbfgs', 'sgd', 'adam']\n",
        "max_iter = [100, 200]\n",
        "learning_rate = ['constant', 'invscaling', 'adaptive']\n",
        "alpha = [0, 0.00005]"
      ],
      "execution_count": null,
      "outputs": []
    },
    {
      "cell_type": "code",
      "metadata": {
        "id": "vjhXPxX4vxWs",
        "colab": {
          "base_uri": "https://localhost:8080/"
        },
        "outputId": "c0c4b72c-c9e0-44cb-e9ba-8024abdfb5e5"
      },
      "source": [
        "#search for best estimator\n",
        "from sklearn.metrics import classification_report\n",
        "\n",
        "mlp_pipe1 = Pipeline(steps=[('selector', selector), ('scaler', scaler), ('pca', pca), ('mlp', mlp1)], memory = 'tmp')\n",
        "mlp_pipe2 = Pipeline(steps=[('scaler', minmax), ('selector', selector), ('pca', pca), ('mlp', mlp2)], memory = 'tmp')\n",
        "mlp_pipe3 = Pipeline(steps=[('selector', selector), ('pca', pca), ('mlp', mlp3)], memory = 'tmp')\n",
        "\n",
        "mlp_pipes = [mlp_pipe1, mlp_pipe2, mlp_pipe3]\n",
        "\n",
        "for mlp_pipe in mlp_pipes:\n",
        "  mlp_estimator = GridSearchCV(mlp_pipe, dict(selector__threshold=vthreshold, pca__n_components=n_components,\\\n",
        "                                              mlp__hidden_layer_sizes=hidden_layer_sizes, mlp__activation=activation, mlp__solver=solver,\\\n",
        "                                              mlp__max_iter=max_iter, mlp__learning_rate=learning_rate, mlp__alpha=alpha),\\\n",
        "                                cv=5, scoring='f1_macro', n_jobs=-1)\n",
        "  mlp_estimator.fit(train, train_labels)\n",
        "  print(\"Score\", mlp_estimator.best_score_)\n",
        "  print(mlp_estimator.best_estimator_)\n",
        "  print(mlp_estimator.best_params_)\n",
        "  print(\"-----------------------------------------------------------------------------------\")"
      ],
      "execution_count": null,
      "outputs": [
        {
          "output_type": "stream",
          "text": [
            "Score 0.9558974774881959\n",
            "Pipeline(memory='tmp',\n",
            "         steps=[('selector', VarianceThreshold(threshold=0)),\n",
            "                ('scaler',\n",
            "                 StandardScaler(copy=True, with_mean=True, with_std=True)),\n",
            "                ('pca',\n",
            "                 PCA(copy=True, iterated_power='auto', n_components=300,\n",
            "                     random_state=None, svd_solver='auto', tol=0.0,\n",
            "                     whiten=False)),\n",
            "                ('mlp',\n",
            "                 MLPClassifier(activation='logistic', alpha=5e-05,\n",
            "                               batch_size='auto', beta_1=0.9, beta_2=0.999,\n",
            "                               early_stopping=False, epsilon=1e-08,\n",
            "                               hidden_layer_sizes=200, learning_rate='adaptive',\n",
            "                               learning_rate_init=0.001, max_fun=15000,\n",
            "                               max_iter=200, momentum=0.9, n_iter_no_change=10,\n",
            "                               nesterovs_momentum=True, power_t=0.5,\n",
            "                               random_state=None, shuffle=True, solver='adam',\n",
            "                               tol=0.0001, validation_fraction=0.1,\n",
            "                               verbose=False, warm_start=False))],\n",
            "         verbose=False)\n",
            "{'mlp__activation': 'logistic', 'mlp__alpha': 5e-05, 'mlp__hidden_layer_sizes': 200, 'mlp__learning_rate': 'adaptive', 'mlp__max_iter': 200, 'mlp__solver': 'adam', 'pca__n_components': 300, 'selector__threshold': 0}\n",
            "-----------------------------------------------------------------------------------\n"
          ],
          "name": "stdout"
        },
        {
          "output_type": "stream",
          "text": [
            "/usr/local/lib/python3.6/dist-packages/sklearn/neural_network/_multilayer_perceptron.py:571: ConvergenceWarning: Stochastic Optimizer: Maximum iterations (100) reached and the optimization hasn't converged yet.\n",
            "  % self.max_iter, ConvergenceWarning)\n"
          ],
          "name": "stderr"
        },
        {
          "output_type": "stream",
          "text": [
            "Score 0.9564163271958812\n",
            "Pipeline(memory='tmp',\n",
            "         steps=[('scaler', MinMaxScaler(copy=True, feature_range=(0, 1))),\n",
            "                ('selector', VarianceThreshold(threshold=0)),\n",
            "                ('pca',\n",
            "                 PCA(copy=True, iterated_power='auto', n_components=300,\n",
            "                     random_state=None, svd_solver='auto', tol=0.0,\n",
            "                     whiten=False)),\n",
            "                ('mlp',\n",
            "                 MLPClassifier(activation='logistic', alpha=0,\n",
            "                               batch_size='auto', beta_1=0.9, beta_2=0.999,\n",
            "                               early_stopping=False, epsilon=1e-08,\n",
            "                               hidden_layer_sizes=100,\n",
            "                               learning_rate='invscaling',\n",
            "                               learning_rate_init=0.001, max_fun=15000,\n",
            "                               max_iter=100, momentum=0.9, n_iter_no_change=10,\n",
            "                               nesterovs_momentum=True, power_t=0.5,\n",
            "                               random_state=None, shuffle=True, solver='adam',\n",
            "                               tol=0.0001, validation_fraction=0.1,\n",
            "                               verbose=False, warm_start=False))],\n",
            "         verbose=False)\n",
            "{'mlp__activation': 'logistic', 'mlp__alpha': 0, 'mlp__hidden_layer_sizes': 100, 'mlp__learning_rate': 'invscaling', 'mlp__max_iter': 100, 'mlp__solver': 'adam', 'pca__n_components': 300, 'selector__threshold': 0}\n",
            "-----------------------------------------------------------------------------------\n",
            "Score 0.957316494397646\n",
            "Pipeline(memory='tmp',\n",
            "         steps=[('selector', VarianceThreshold(threshold=0)),\n",
            "                ('pca',\n",
            "                 PCA(copy=True, iterated_power='auto', n_components=300,\n",
            "                     random_state=None, svd_solver='auto', tol=0.0,\n",
            "                     whiten=False)),\n",
            "                ('mlp',\n",
            "                 MLPClassifier(activation='relu', alpha=0, batch_size='auto',\n",
            "                               beta_1=0.9, beta_2=0.999, early_stopping=False,\n",
            "                               epsilon=1e-08, hidden_layer_sizes=200,\n",
            "                               learning_rate='adaptive',\n",
            "                               learning_rate_init=0.001, max_fun=15000,\n",
            "                               max_iter=200, momentum=0.9, n_iter_no_change=10,\n",
            "                               nesterovs_momentum=True, power_t=0.5,\n",
            "                               random_state=None, shuffle=True, solver='adam',\n",
            "                               tol=0.0001, validation_fraction=0.1,\n",
            "                               verbose=False, warm_start=False))],\n",
            "         verbose=False)\n",
            "{'mlp__activation': 'relu', 'mlp__alpha': 0, 'mlp__hidden_layer_sizes': 200, 'mlp__learning_rate': 'adaptive', 'mlp__max_iter': 200, 'mlp__solver': 'adam', 'pca__n_components': 300, 'selector__threshold': 0}\n",
            "-----------------------------------------------------------------------------------\n"
          ],
          "name": "stdout"
        }
      ]
    },
    {
      "cell_type": "code",
      "metadata": {
        "id": "75u5OrCgrYAW",
        "colab": {
          "base_uri": "https://localhost:8080/"
        },
        "outputId": "466f026f-3adf-4ccf-c2aa-19a184711faf"
      },
      "source": [
        "#GridSearch with just the classifier, without pre-processing\n",
        "mlp = MLPClassifier()\n",
        "mlp_pipe = Pipeline(steps=[('mlp', mlp)], memory = 'tmp')\n",
        "mlp_estimator = GridSearchCV(mlp_pipe, dict(mlp__hidden_layer_sizes=hidden_layer_sizes, mlp__activation=activation, mlp__solver=solver,\\\n",
        "                                            mlp__max_iter=max_iter, mlp__learning_rate=learning_rate, mlp__alpha=alpha),\\\n",
        "                                cv=5, scoring='f1_macro', n_jobs=-1)\n",
        "mlp_estimator.fit(train, train_labels)\n",
        "print(\"Score\", mlp_estimator.best_score_)\n",
        "print(mlp_estimator.best_estimator_)\n",
        "print(mlp_estimator.best_params_)"
      ],
      "execution_count": null,
      "outputs": [
        {
          "output_type": "stream",
          "text": [
            "Score 0.9555457563405734\n",
            "Pipeline(memory='tmp',\n",
            "         steps=[('mlp',\n",
            "                 MLPClassifier(activation='logistic', alpha=5e-05,\n",
            "                               batch_size='auto', beta_1=0.9, beta_2=0.999,\n",
            "                               early_stopping=False, epsilon=1e-08,\n",
            "                               hidden_layer_sizes=200, learning_rate='constant',\n",
            "                               learning_rate_init=0.001, max_fun=15000,\n",
            "                               max_iter=200, momentum=0.9, n_iter_no_change=10,\n",
            "                               nesterovs_momentum=True, power_t=0.5,\n",
            "                               random_state=None, shuffle=True, solver='adam',\n",
            "                               tol=0.0001, validation_fraction=0.1,\n",
            "                               verbose=False, warm_start=False))],\n",
            "         verbose=False)\n",
            "{'mlp__activation': 'logistic', 'mlp__alpha': 5e-05, 'mlp__hidden_layer_sizes': 200, 'mlp__learning_rate': 'constant', 'mlp__max_iter': 200, 'mlp__solver': 'adam'}\n"
          ],
          "name": "stdout"
        }
      ]
    },
    {
      "cell_type": "markdown",
      "metadata": {
        "id": "JoxQTbBp40ke"
      },
      "source": [
        "Βλέπουμε ότι και πάλι οι επιδόσεις των ταξινομητών τόσο με την προεργασία όσο και χωρίς είναι πολύ κοντινές.\n",
        "Η περίπτωση που επιλέγουμε ως βέλτιστη εκδοχή του **MLP** είναι:\n",
        " * **PCA**: 300 \n",
        " * **VarianceThreshold**: 0\n",
        " * **activation**: relu\n",
        " * **alpha**: 0\n",
        " * **hidden_layer_sizes**: 200\n",
        " * **learning rate**: adaptive\n",
        " * **max_iter**: 200\n",
        " * **solver**: adam"
      ]
    },
    {
      "cell_type": "code",
      "metadata": {
        "id": "W2oD9oB_k0fW",
        "colab": {
          "base_uri": "https://localhost:8080/"
        },
        "outputId": "045bde5c-5435-4f38-f6ce-7b58b4bd86f6"
      },
      "source": [
        "import time\n",
        "#best-estimator\n",
        "best_selector = VarianceThreshold(threshold=0)\n",
        "best_pca = PCA(n_components=300)\n",
        "best_mlp = MLPClassifier(activation='relu', alpha=0, hidden_layer_sizes=(200), learning_rate='adaptive',\\\n",
        "                         max_iter=200, solver='adam')\n",
        "mlp_pipe = Pipeline(steps=[('selector', best_selector), ('pca', best_pca), ('mlp', best_mlp)], memory = 'tmp')\n",
        "\n",
        "\n",
        "start_time_fit = time.time()\n",
        "mlp_pipe.fit(train, train_labels)\n",
        "mlp_fit_time = time.time() - start_time_fit\n",
        "\n",
        "start_time_predict = time.time()\n",
        "mlp_opt_preds = mlp_pipe.predict(test)\n",
        "mlp_predict_time = time.time() - start_time_predict\n",
        "print(\"Συνολικός χρόνος fit και predict: %s seconds\" % (time.time() - start_time_fit))\n",
        "print(\"Fitting time\", mlp_fit_time)\n",
        "print(\"Predicting time\", mlp_predict_time)\n",
        "print()\n",
        "print(\"Classification Report\")\n",
        "print(classification_report(test_labels, mlp_opt_preds))\n",
        "\n",
        "#print confusion matrix, f1-micro and f1-macro\n",
        "mlp_opt_cnf_matrix = confusion_matrix(test_labels, mlp_opt_preds)\n",
        "\n",
        "print()\n",
        "print(\"Confusion Matrix\")\n",
        "print(label_names)\n",
        "print(mlp_opt_cnf_matrix)\n",
        "\n",
        "mlp_opt_f1_micro = f1_score(test_labels, mlp_opt_preds, average='micro')\n",
        "mlp_opt_f1_macro = f1_score(test_labels, mlp_opt_preds, average='macro')\n",
        "\n",
        "print()\n",
        "print(\"The f1 micro score is \", mlp_opt_f1_micro, \"\\n\")\n",
        "print(\"The f1 macro score is \", mlp_opt_f1_macro, \"\\n\")\n"
      ],
      "execution_count": null,
      "outputs": [
        {
          "output_type": "stream",
          "text": [
            "Συνολικός χρόνος fit και predict: 11.901804685592651 seconds\n",
            "Fitting time 11.80950379371643\n",
            "Predicting time 0.09217238426208496\n",
            "\n",
            "Classification Report\n",
            "              precision    recall  f1-score   support\n",
            "\n",
            "           1       0.96      1.00      0.98        90\n",
            "           2       0.92      0.90      0.91        90\n",
            "           3       0.98      1.00      0.99        90\n",
            "           4       0.98      0.92      0.95        90\n",
            "           5       0.91      0.98      0.94        90\n",
            "           6       0.91      0.96      0.93        89\n",
            "           7       0.96      1.00      0.98        90\n",
            "           8       1.00      0.99      0.99        90\n",
            "           9       1.00      1.00      1.00        90\n",
            "          10       0.97      0.99      0.98        90\n",
            "          11       0.98      0.97      0.97        90\n",
            "          12       0.98      1.00      0.99        90\n",
            "          13       0.88      0.89      0.88        89\n",
            "          14       0.93      0.86      0.89        90\n",
            "          15       0.99      1.00      0.99        90\n",
            "          16       0.95      0.92      0.94        90\n",
            "          17       1.00      1.00      1.00        90\n",
            "          18       1.00      0.99      0.99        90\n",
            "          19       0.95      0.92      0.94        90\n",
            "          20       0.98      0.94      0.96        90\n",
            "          21       0.93      1.00      0.96        90\n",
            "          22       0.94      0.89      0.91        90\n",
            "          23       1.00      0.99      0.99        90\n",
            "          24       1.00      0.98      0.99        90\n",
            "          25       1.00      1.00      1.00        91\n",
            "          26       0.95      0.95      0.95        91\n",
            "\n",
            "    accuracy                           0.96      2340\n",
            "   macro avg       0.96      0.96      0.96      2340\n",
            "weighted avg       0.96      0.96      0.96      2340\n",
            "\n",
            "\n",
            "Confusion Matrix\n",
            "['A', 'B', 'C', 'D', 'E', 'F', 'G', 'H', 'I', 'J', 'K', 'L', 'M', 'N', 'O', 'P', 'Q', 'R', 'S', 'T', 'U', 'V', 'W', 'X', 'Y', 'Z']\n",
            "[[90  0  0  0  0  0  0  0  0  0  0  0  0  0  0  0  0  0  0  0  0  0  0  0\n",
            "   0  0]\n",
            " [ 1 81  0  1  4  0  0  0  0  0  0  0  0  0  0  0  0  0  0  0  0  3  0  0\n",
            "   0  0]\n",
            " [ 0  0 90  0  0  0  0  0  0  0  0  0  0  0  0  0  0  0  0  0  0  0  0  0\n",
            "   0  0]\n",
            " [ 0  1  0 83  1  0  1  0  0  0  0  0  0  0  0  2  0  0  0  1  1  0  0  0\n",
            "   0  0]\n",
            " [ 0  1  0  0 88  0  0  0  0  0  0  0  0  0  0  1  0  0  0  0  0  0  0  0\n",
            "   0  0]\n",
            " [ 0  0  0  0  0 85  0  0  0  0  0  0  0  0  0  0  0  0  4  0  0  0  0  0\n",
            "   0  0]\n",
            " [ 0  0  0  0  0  0 90  0  0  0  0  0  0  0  0  0  0  0  0  0  0  0  0  0\n",
            "   0  0]\n",
            " [ 1  0  0  0  0  0  0 89  0  0  0  0  0  0  0  0  0  0  0  0  0  0  0  0\n",
            "   0  0]\n",
            " [ 0  0  0  0  0  0  0  0 90  0  0  0  0  0  0  0  0  0  0  0  0  0  0  0\n",
            "   0  0]\n",
            " [ 0  0  0  0  0  0  0  0  0 89  1  0  0  0  0  0  0  0  0  0  0  0  0  0\n",
            "   0  0]\n",
            " [ 0  0  0  0  0  0  0  0  0  3 87  0  0  0  0  0  0  0  0  0  0  0  0  0\n",
            "   0  0]\n",
            " [ 0  0  0  0  0  0  0  0  0  0  0 90  0  0  0  0  0  0  0  0  0  0  0  0\n",
            "   0  0]\n",
            " [ 1  0  0  0  0  0  0  0  0  0  0  2 79  5  0  0  0  0  0  0  2  0  0  0\n",
            "   0  0]\n",
            " [ 0  0  0  0  0  0  0  0  0  0  0  0 11 77  0  0  0  0  0  0  2  0  0  0\n",
            "   0  0]\n",
            " [ 0  0  0  0  0  0  0  0  0  0  0  0  0  0 90  0  0  0  0  0  0  0  0  0\n",
            "   0  0]\n",
            " [ 0  2  0  0  1  0  1  0  0  0  0  0  0  1  0 83  0  0  0  1  0  1  0  0\n",
            "   0  0]\n",
            " [ 0  0  0  0  0  0  0  0  0  0  0  0  0  0  0  0 90  0  0  0  0  0  0  0\n",
            "   0  0]\n",
            " [ 0  0  0  0  0  0  0  0  0  0  0  0  0  0  1  0  0 89  0  0  0  0  0  0\n",
            "   0  0]\n",
            " [ 0  0  0  0  0  7  0  0  0  0  0  0  0  0  0  0  0  0 83  0  0  0  0  0\n",
            "   0  0]\n",
            " [ 0  1  0  1  0  0  2  0  0  0  0  0  0  0  0  1  0  0  0 85  0  0  0  0\n",
            "   0  0]\n",
            " [ 0  0  0  0  0  0  0  0  0  0  0  0  0  0  0  0  0  0  0  0 90  0  0  0\n",
            "   0  0]\n",
            " [ 0  2  0  0  1  0  0  0  0  0  0  0  0  0  0  0  0  0  0  0  2 80  0  0\n",
            "   0  5]\n",
            " [ 0  0  0  0  0  0  0  0  0  0  1  0  0  0  0  0  0  0  0  0  0  0 89  0\n",
            "   0  0]\n",
            " [ 1  0  0  0  0  1  0  0  0  0  0  0  0  0  0  0  0  0  0  0  0  0  0 88\n",
            "   0  0]\n",
            " [ 0  0  0  0  0  0  0  0  0  0  0  0  0  0  0  0  0  0  0  0  0  0  0  0\n",
            "  91  0]\n",
            " [ 0  0  2  0  2  0  0  0  0  0  0  0  0  0  0  0  0  0  0  0  0  1  0  0\n",
            "   0 86]]\n",
            "\n",
            "The f1 micro score is  0.9623931623931624 \n",
            "\n",
            "The f1 macro score is  0.9621522694071932 \n",
            "\n"
          ],
          "name": "stdout"
        }
      ]
    },
    {
      "cell_type": "markdown",
      "metadata": {
        "id": "iFB0IRpA_itk"
      },
      "source": [
        "Αρχικά, ας παρατηρήσουμε ότι η επίδοση του βελτιστοποιημένου ταξινομητή στα test είναι ελαφρώς καλύτερη από τις τιμές που πετύχαμε στη διαδικασία βελτιστοποίησης. Η παρατήρηση αυτή είναι ευχάριστη καθώς δηλώνει ότι αποφύγαμε το overfitting. Επιπλέον, έχουμε μία μικρή αύξηση σε σχέση με τις επιδόσεις του μη-βέλτιστου ταξινομητή. Ενισχύεται έτσι η υπόθεσή μας ότι η βέλτιστη δυνατή επίδοση στο συγκεκριμένο dataset είναι κοντά στο 96%."
      ]
    },
    {
      "cell_type": "markdown",
      "metadata": {
        "id": "c7lAYtrXwyQA"
      },
      "source": [
        "### **Support Vector Machines (SVM)**"
      ]
    },
    {
      "cell_type": "code",
      "metadata": {
        "id": "cfg-8bGdwy4a"
      },
      "source": [
        "from sklearn.model_selection import GridSearchCV\n",
        "from sklearn.svm import SVC\n",
        "from sklearn.svm import LinearSVC\n",
        "\n",
        "lsvc1 = LinearSVC()\n",
        "lsvc2 = LinearSVC()\n",
        "lsvc3 = LinearSVC()\n",
        "\n",
        "loss = ['hinge', 'squared_hinge']\n",
        "tol = [0, 0.00005, 0.0001]\n",
        "C = [0, 0.1, 0.3]"
      ],
      "execution_count": null,
      "outputs": []
    },
    {
      "cell_type": "code",
      "metadata": {
        "colab": {
          "base_uri": "https://localhost:8080/"
        },
        "id": "IAVEQlEl25YN",
        "outputId": "febb0594-c85d-41bc-c970-21ee4d2186dd"
      },
      "source": [
        "#search for best estimator\n",
        "from sklearn.metrics import classification_report\n",
        "\n",
        "lsvc_pipe1 = Pipeline(steps=[('selector', selector), ('scaler', scaler), ('pca', pca), ('lsvc', lsvc1)], memory = 'tmp')\n",
        "lsvc_pipe2 = Pipeline(steps=[('scaler', minmax), ('selector', selector), ('pca', pca), ('lsvc', lsvc2)], memory = 'tmp')\n",
        "lsvc_pipe3 = Pipeline(steps=[('selector', selector), ('pca', pca), ('lsvc', lsvc3)], memory = 'tmp')\n",
        "\n",
        "lsvc_pipes = [lsvc_pipe1, lsvc_pipe2, lsvc_pipe3]\n",
        "\n",
        "for lsvc_pipe in lsvc_pipes:\n",
        "  lsvc_estimator = GridSearchCV(lsvc_pipe, dict(selector__threshold=vthreshold, pca__n_components=n_components, lsvc__loss=loss, lsvc__tol=tol,\\\n",
        "                                                lsvc__C=C), cv=5, scoring='f1_macro', n_jobs=-1)\n",
        "  lsvc_estimator.fit(train, train_labels)\n",
        "  print(\"Score\", lsvc_estimator.best_score_)\n",
        "  print(lsvc_estimator.best_estimator_)\n",
        "  print(lsvc_estimator.best_params_)\n",
        "  print(\"-----------------------------------------------------------------------------------\")"
      ],
      "execution_count": null,
      "outputs": [
        {
          "output_type": "stream",
          "text": [
            "/usr/local/lib/python3.6/dist-packages/sklearn/svm/_base.py:947: ConvergenceWarning: Liblinear failed to converge, increase the number of iterations.\n",
            "  \"the number of iterations.\", ConvergenceWarning)\n"
          ],
          "name": "stderr"
        },
        {
          "output_type": "stream",
          "text": [
            "Score 0.9305694943198434\n",
            "Pipeline(memory='tmp',\n",
            "         steps=[('selector', VarianceThreshold(threshold=0)),\n",
            "                ('scaler',\n",
            "                 StandardScaler(copy=True, with_mean=True, with_std=True)),\n",
            "                ('pca',\n",
            "                 PCA(copy=True, iterated_power='auto', n_components=100,\n",
            "                     random_state=None, svd_solver='auto', tol=0.0,\n",
            "                     whiten=False)),\n",
            "                ('lsvc',\n",
            "                 LinearSVC(C=0.1, class_weight=None, dual=True,\n",
            "                           fit_intercept=True, intercept_scaling=1,\n",
            "                           loss='squared_hinge', max_iter=1000,\n",
            "                           multi_class='ovr', penalty='l2', random_state=None,\n",
            "                           tol=5e-05, verbose=0))],\n",
            "         verbose=False)\n",
            "{'lsvc__C': 0.1, 'lsvc__loss': 'squared_hinge', 'lsvc__tol': 5e-05, 'pca__n_components': 100, 'selector__threshold': 0}\n",
            "-----------------------------------------------------------------------------------\n",
            "Score 0.9499604282530747\n",
            "Pipeline(memory='tmp',\n",
            "         steps=[('scaler', MinMaxScaler(copy=True, feature_range=(0, 1))),\n",
            "                ('selector', VarianceThreshold(threshold=0)),\n",
            "                ('pca',\n",
            "                 PCA(copy=True, iterated_power='auto', n_components=300,\n",
            "                     random_state=None, svd_solver='auto', tol=0.0,\n",
            "                     whiten=False)),\n",
            "                ('lsvc',\n",
            "                 LinearSVC(C=0.1, class_weight=None, dual=True,\n",
            "                           fit_intercept=True, intercept_scaling=1,\n",
            "                           loss='squared_hinge', max_iter=1000,\n",
            "                           multi_class='ovr', penalty='l2', random_state=None,\n",
            "                           tol=5e-05, verbose=0))],\n",
            "         verbose=False)\n",
            "{'lsvc__C': 0.1, 'lsvc__loss': 'squared_hinge', 'lsvc__tol': 5e-05, 'pca__n_components': 300, 'selector__threshold': 0}\n",
            "-----------------------------------------------------------------------------------\n",
            "Score 0.9462548319553543\n",
            "Pipeline(memory='tmp',\n",
            "         steps=[('selector', VarianceThreshold(threshold=0)),\n",
            "                ('pca',\n",
            "                 PCA(copy=True, iterated_power='auto', n_components=300,\n",
            "                     random_state=None, svd_solver='auto', tol=0.0,\n",
            "                     whiten=False)),\n",
            "                ('lsvc',\n",
            "                 LinearSVC(C=0.1, class_weight=None, dual=True,\n",
            "                           fit_intercept=True, intercept_scaling=1,\n",
            "                           loss='hinge', max_iter=1000, multi_class='ovr',\n",
            "                           penalty='l2', random_state=None, tol=5e-05,\n",
            "                           verbose=0))],\n",
            "         verbose=False)\n",
            "{'lsvc__C': 0.1, 'lsvc__loss': 'hinge', 'lsvc__tol': 5e-05, 'pca__n_components': 300, 'selector__threshold': 0}\n",
            "-----------------------------------------------------------------------------------\n"
          ],
          "name": "stdout"
        },
        {
          "output_type": "stream",
          "text": [
            "/usr/local/lib/python3.6/dist-packages/sklearn/svm/_base.py:947: ConvergenceWarning: Liblinear failed to converge, increase the number of iterations.\n",
            "  \"the number of iterations.\", ConvergenceWarning)\n"
          ],
          "name": "stderr"
        }
      ]
    },
    {
      "cell_type": "code",
      "metadata": {
        "colab": {
          "base_uri": "https://localhost:8080/"
        },
        "id": "oi2GqAvk6dvh",
        "outputId": "2601f2a6-cea4-40f2-8813-b0356dfe8740"
      },
      "source": [
        "#without pre-processing\n",
        "lsvc = LinearSVC()\n",
        "lsvc_pipe = Pipeline(steps=[('lsvc', lsvc)], memory = 'tmp')\n",
        "lsvc_estimator = GridSearchCV(lsvc_pipe, dict(lsvc__loss=loss, lsvc__tol=tol, lsvc__C=C), cv=5, scoring='f1_macro', n_jobs=-1)\n",
        "lsvc_estimator.fit(train, train_labels)\n",
        "print(\"Score\", lsvc_estimator.best_score_)\n",
        "print(lsvc_estimator.best_estimator_)\n",
        "print(lsvc_estimator.best_params_)"
      ],
      "execution_count": null,
      "outputs": [
        {
          "output_type": "stream",
          "text": [
            "Score 0.9483388943294901\n",
            "Pipeline(memory='tmp',\n",
            "         steps=[('lsvc',\n",
            "                 LinearSVC(C=0.1, class_weight=None, dual=True,\n",
            "                           fit_intercept=True, intercept_scaling=1,\n",
            "                           loss='hinge', max_iter=1000, multi_class='ovr',\n",
            "                           penalty='l2', random_state=None, tol=5e-05,\n",
            "                           verbose=0))],\n",
            "         verbose=False)\n",
            "{'lsvc__C': 0.1, 'lsvc__loss': 'hinge', 'lsvc__tol': 5e-05}\n"
          ],
          "name": "stdout"
        },
        {
          "output_type": "stream",
          "text": [
            "/usr/local/lib/python3.6/dist-packages/sklearn/svm/_base.py:947: ConvergenceWarning: Liblinear failed to converge, increase the number of iterations.\n",
            "  \"the number of iterations.\", ConvergenceWarning)\n"
          ],
          "name": "stderr"
        }
      ]
    },
    {
      "cell_type": "code",
      "metadata": {
        "id": "bWvNMp9yybOW"
      },
      "source": [
        "svc1 = SVC()\n",
        "svc2 = SVC()\n",
        "svc3 = SVC()\n",
        "\n",
        "kernel = ['poly', 'rbf']\n",
        "C = [1, 3]\n",
        "degree = [2, 4]\n",
        "gamma = ['scale', 'auto']\n",
        "tol = [0.00005, 0.0001]"
      ],
      "execution_count": null,
      "outputs": []
    },
    {
      "cell_type": "code",
      "metadata": {
        "colab": {
          "base_uri": "https://localhost:8080/"
        },
        "id": "8uAr1YGc1OZ2",
        "outputId": "f1a54c3d-3229-495b-edf1-47eff9d5ae55"
      },
      "source": [
        "#search for best estimator\n",
        "from sklearn.metrics import classification_report\n",
        "\n",
        "svc_pipe1 = Pipeline(steps=[('selector', selector), ('scaler', scaler), ('pca', pca), ('svc', svc1)], memory = 'tmp')\n",
        "svc_pipe2 = Pipeline(steps=[('scaler', minmax), ('selector', selector), ('pca', pca), ('svc', svc2)], memory = 'tmp')\n",
        "svc_pipe3 = Pipeline(steps=[('selector', selector), ('pca', pca), ('svc', svc3)], memory = 'tmp')\n",
        "\n",
        "svc_pipes = [svc_pipe1, svc_pipe2, svc_pipe3]\n",
        "\n",
        "for svc_pipe in svc_pipes:\n",
        "  svc_estimator = GridSearchCV(svc_pipe, dict(selector__threshold=vthreshold, pca__n_components=n_components,\\\n",
        "                                              svc__kernel=kernel, svc__tol=tol, svc__C=C, svc__gamma=gamma, svc__degree=degree),\\\n",
        "                                cv=5, scoring='f1_macro', n_jobs=-1)\n",
        "  svc_estimator.fit(train, train_labels)\n",
        "  print(\"Score\", svc_estimator.best_score_)\n",
        "  print(svc_estimator.best_estimator_)\n",
        "  print(svc_estimator.best_params_)\n",
        "  print(\"-----------------------------------------------------------------------------------\")"
      ],
      "execution_count": null,
      "outputs": [
        {
          "output_type": "stream",
          "text": [
            "Score 0.9597061169055049\n",
            "Pipeline(memory='tmp',\n",
            "         steps=[('selector', VarianceThreshold(threshold=0)),\n",
            "                ('scaler',\n",
            "                 StandardScaler(copy=True, with_mean=True, with_std=True)),\n",
            "                ('pca',\n",
            "                 PCA(copy=True, iterated_power='auto', n_components=300,\n",
            "                     random_state=None, svd_solver='auto', tol=0.0,\n",
            "                     whiten=False)),\n",
            "                ('svc',\n",
            "                 SVC(C=3, break_ties=False, cache_size=200, class_weight=None,\n",
            "                     coef0=0.0, decision_function_shape='ovr', degree=2,\n",
            "                     gamma='scale', kernel='rbf', max_iter=-1,\n",
            "                     probability=False, random_state=None, shrinking=True,\n",
            "                     tol=5e-05, verbose=False))],\n",
            "         verbose=False)\n",
            "{'pca__n_components': 300, 'selector__threshold': 0, 'svc__C': 3, 'svc__degree': 2, 'svc__gamma': 'scale', 'svc__kernel': 'rbf', 'svc__tol': 5e-05}\n",
            "-----------------------------------------------------------------------------------\n",
            "Score 0.9608972238266379\n",
            "Pipeline(memory='tmp',\n",
            "         steps=[('scaler', MinMaxScaler(copy=True, feature_range=(0, 1))),\n",
            "                ('selector', VarianceThreshold(threshold=0)),\n",
            "                ('pca',\n",
            "                 PCA(copy=True, iterated_power='auto', n_components=300,\n",
            "                     random_state=None, svd_solver='auto', tol=0.0,\n",
            "                     whiten=False)),\n",
            "                ('svc',\n",
            "                 SVC(C=3, break_ties=False, cache_size=200, class_weight=None,\n",
            "                     coef0=0.0, decision_function_shape='ovr', degree=2,\n",
            "                     gamma='scale', kernel='rbf', max_iter=-1,\n",
            "                     probability=False, random_state=None, shrinking=True,\n",
            "                     tol=5e-05, verbose=False))],\n",
            "         verbose=False)\n",
            "{'pca__n_components': 300, 'selector__threshold': 0, 'svc__C': 3, 'svc__degree': 2, 'svc__gamma': 'scale', 'svc__kernel': 'rbf', 'svc__tol': 5e-05}\n",
            "-----------------------------------------------------------------------------------\n",
            "Score 0.9598603170280388\n",
            "Pipeline(memory='tmp',\n",
            "         steps=[('selector', VarianceThreshold(threshold=0)),\n",
            "                ('pca',\n",
            "                 PCA(copy=True, iterated_power='auto', n_components=300,\n",
            "                     random_state=None, svd_solver='auto', tol=0.0,\n",
            "                     whiten=False)),\n",
            "                ('svc',\n",
            "                 SVC(C=3, break_ties=False, cache_size=200, class_weight=None,\n",
            "                     coef0=0.0, decision_function_shape='ovr', degree=2,\n",
            "                     gamma='scale', kernel='rbf', max_iter=-1,\n",
            "                     probability=False, random_state=None, shrinking=True,\n",
            "                     tol=5e-05, verbose=False))],\n",
            "         verbose=False)\n",
            "{'pca__n_components': 300, 'selector__threshold': 0, 'svc__C': 3, 'svc__degree': 2, 'svc__gamma': 'scale', 'svc__kernel': 'rbf', 'svc__tol': 5e-05}\n",
            "-----------------------------------------------------------------------------------\n"
          ],
          "name": "stdout"
        }
      ]
    },
    {
      "cell_type": "code",
      "metadata": {
        "colab": {
          "base_uri": "https://localhost:8080/"
        },
        "id": "At6NgoSD4Ytb",
        "outputId": "c1437ccf-648c-4154-9c0a-3bbbbb3ab86e"
      },
      "source": [
        "#just the classifier\n",
        "svc = SVC()\n",
        "svc_pipe = Pipeline(steps=[('svc', svc)], memory = 'tmp')\n",
        "svc_estimator = GridSearchCV(svc_pipe, dict(svc__kernel=kernel, svc__tol=tol, svc__C=C, svc__gamma=gamma, svc__degree=degree),\\\n",
        "                                cv=5, scoring='f1_macro', n_jobs=-1)\n",
        "svc_estimator.fit(train, train_labels)\n",
        "print(\"Score\", svc_estimator.best_score_)\n",
        "print(svc_estimator.best_estimator_)\n",
        "print(svc_estimator.best_params_)"
      ],
      "execution_count": null,
      "outputs": [
        {
          "output_type": "stream",
          "text": [
            "Score 0.9606285837106754\n",
            "Pipeline(memory='tmp',\n",
            "         steps=[('svc',\n",
            "                 SVC(C=3, break_ties=False, cache_size=200, class_weight=None,\n",
            "                     coef0=0.0, decision_function_shape='ovr', degree=2,\n",
            "                     gamma='scale', kernel='rbf', max_iter=-1,\n",
            "                     probability=False, random_state=None, shrinking=True,\n",
            "                     tol=5e-05, verbose=False))],\n",
            "         verbose=False)\n",
            "{'svc__C': 3, 'svc__degree': 2, 'svc__gamma': 'scale', 'svc__kernel': 'rbf', 'svc__tol': 5e-05}\n"
          ],
          "name": "stdout"
        }
      ]
    },
    {
      "cell_type": "markdown",
      "metadata": {
        "id": "7Dts3bcmBLOW"
      },
      "source": [
        "Παραπάνω τρέξαμε ξεσωριστά τις βελτιστοποίησεις για linear kernel του SVM, αφού μας ζητήθηκε να χρησιμοποίησουμε διαφορετική κλάση από την απλή SVC με παράμετρο *kernel=linear*. Παρόλα αυτά δεν είναι αυτός ο πυρήνας που πετυχαίνει την καλύτερη επίδοση.\n",
        "Τις οριακά καλύτερες επιδόσεις πετυχαίνουμε για τις παρακάτω τιμές παραμέτρων. Τονίζουμε ότι και πάλι οι τιμές είναι πολύ κοντά καθώς, πιθανότατα, δε είναι εφικτή πολύ καλύτερη ταξινόμηση.\n",
        " * **MinMaxScaler**\n",
        " * **PCA**: 300\n",
        " * **VarianceThreshold**: 0\n",
        " * **tol**: 0.00005\n",
        " * **C**: 3\n",
        " * **kernel**: rbf\n",
        " * **gamma**: scale"
      ]
    },
    {
      "cell_type": "code",
      "metadata": {
        "colab": {
          "base_uri": "https://localhost:8080/"
        },
        "id": "tiJbJ0hQ93Tx",
        "outputId": "90fc205d-3e59-4a10-b034-3640867e867d"
      },
      "source": [
        "import time\n",
        "from sklearn.metrics import classification_report\n",
        "#best-estimator\n",
        "best_scaler = MinMaxScaler()\n",
        "best_selector = VarianceThreshold(threshold=0)\n",
        "best_pca = PCA(n_components=300)\n",
        "best_svc = SVC(tol=0.00005, C=3, kernel='rbf', gamma='scale')\n",
        "svc_pipe = Pipeline(steps=[('svc', best_svc)], memory = 'tmp')\n",
        "\n",
        "start_time_fit = time.time()\n",
        "svc_pipe.fit(train, train_labels)\n",
        "svc_fit_time = time.time() - start_time_fit\n",
        "\n",
        "start_time_predict = time.time()\n",
        "svc_opt_preds = svc_pipe.predict(test)\n",
        "svc_predict_time = time.time() - start_time_predict\n",
        "print(\"Συνολικός χρόνος fit και predict: %s seconds\" % (time.time() - start_time_fit))\n",
        "print(\"Fitting time\", svc_fit_time)\n",
        "print(\"Predicting time\", svc_predict_time)\n",
        "print()\n",
        "print(\"Classification Report\")\n",
        "print(classification_report(test_labels, svc_opt_preds))\n",
        "\n",
        "#print confusion matrix, f1-micro and f1-macro\n",
        "svc_opt_cnf_matrix = confusion_matrix(test_labels, svc_opt_preds)\n",
        "\n",
        "print()\n",
        "print(\"Confusion Matrix\")\n",
        "print(label_names)\n",
        "print(svc_opt_cnf_matrix)\n",
        "\n",
        "svc_opt_f1_micro = f1_score(test_labels, svc_opt_preds, average='micro')\n",
        "svc_opt_f1_macro = f1_score(test_labels, svc_opt_preds, average='macro')\n",
        "\n",
        "print()\n",
        "print(\"The f1 micro score is \", svc_opt_f1_micro, \"\\n\")\n",
        "print(\"The f1 macro score is \", svc_opt_f1_macro, \"\\n\")"
      ],
      "execution_count": null,
      "outputs": [
        {
          "output_type": "stream",
          "text": [
            "Συνολικός χρόνος fit και predict: 15.99130368232727 seconds\n",
            "Fitting time 8.083815097808838\n",
            "Predicting time 7.907429456710815\n",
            "\n",
            "Classification Report\n",
            "              precision    recall  f1-score   support\n",
            "\n",
            "           1       0.98      0.99      0.98        90\n",
            "           2       0.90      0.92      0.91        90\n",
            "           3       0.97      1.00      0.98        90\n",
            "           4       0.97      0.96      0.96        90\n",
            "           5       0.91      0.97      0.94        90\n",
            "           6       0.92      0.97      0.95        89\n",
            "           7       0.98      1.00      0.99        90\n",
            "           8       0.99      0.99      0.99        90\n",
            "           9       1.00      0.98      0.99        90\n",
            "          10       0.99      1.00      0.99        90\n",
            "          11       1.00      0.99      0.99        90\n",
            "          12       0.99      1.00      0.99        90\n",
            "          13       0.88      0.94      0.91        89\n",
            "          14       0.95      0.89      0.92        90\n",
            "          15       1.00      1.00      1.00        90\n",
            "          16       0.92      0.94      0.93        90\n",
            "          17       0.98      1.00      0.99        90\n",
            "          18       0.98      1.00      0.99        90\n",
            "          19       0.99      0.93      0.96        90\n",
            "          20       0.99      0.91      0.95        90\n",
            "          21       0.97      0.98      0.97        90\n",
            "          22       0.95      0.88      0.91        90\n",
            "          23       1.00      0.99      0.99        90\n",
            "          24       0.99      0.98      0.98        90\n",
            "          25       1.00      1.00      1.00        91\n",
            "          26       0.97      0.95      0.96        91\n",
            "\n",
            "    accuracy                           0.97      2340\n",
            "   macro avg       0.97      0.97      0.97      2340\n",
            "weighted avg       0.97      0.97      0.97      2340\n",
            "\n",
            "\n",
            "Confusion Matrix\n",
            "['A', 'B', 'C', 'D', 'E', 'F', 'G', 'H', 'I', 'J', 'K', 'L', 'M', 'N', 'O', 'P', 'Q', 'R', 'S', 'T', 'U', 'V', 'W', 'X', 'Y', 'Z']\n",
            "[[89  0  0  0  0  0  0  1  0  0  0  0  0  0  0  0  0  0  0  0  0  0  0  0\n",
            "   0  0]\n",
            " [ 0 83  0  1  4  0  0  0  0  0  0  0  0  0  0  0  0  0  0  0  0  2  0  0\n",
            "   0  0]\n",
            " [ 0  0 90  0  0  0  0  0  0  0  0  0  0  0  0  0  0  0  0  0  0  0  0  0\n",
            "   0  0]\n",
            " [ 0  1  0 86  2  0  0  0  0  0  0  0  0  0  0  1  0  0  0  0  0  0  0  0\n",
            "   0  0]\n",
            " [ 0  3  0  0 87  0  0  0  0  0  0  0  0  0  0  0  0  0  0  0  0  0  0  0\n",
            "   0  0]\n",
            " [ 0  0  0  0  0 86  0  0  0  0  0  0  1  0  0  0  0  0  1  0  0  0  0  1\n",
            "   0  0]\n",
            " [ 0  0  0  0  0  0 90  0  0  0  0  0  0  0  0  0  0  0  0  0  0  0  0  0\n",
            "   0  0]\n",
            " [ 1  0  0  0  0  0  0 89  0  0  0  0  0  0  0  0  0  0  0  0  0  0  0  0\n",
            "   0  0]\n",
            " [ 0  0  0  0  0  0  0  0 88  0  0  0  0  0  0  0  0  2  0  0  0  0  0  0\n",
            "   0  0]\n",
            " [ 0  0  0  0  0  0  0  0  0 90  0  0  0  0  0  0  0  0  0  0  0  0  0  0\n",
            "   0  0]\n",
            " [ 0  0  0  0  0  0  0  0  0  1 89  0  0  0  0  0  0  0  0  0  0  0  0  0\n",
            "   0  0]\n",
            " [ 0  0  0  0  0  0  0  0  0  0  0 90  0  0  0  0  0  0  0  0  0  0  0  0\n",
            "   0  0]\n",
            " [ 0  0  0  0  0  0  0  0  0  0  0  1 84  4  0  0  0  0  0  0  0  0  0  0\n",
            "   0  0]\n",
            " [ 0  0  0  0  0  0  0  0  0  0  0  0  9 80  0  0  0  0  0  0  1  0  0  0\n",
            "   0  0]\n",
            " [ 0  0  0  0  0  0  0  0  0  0  0  0  0  0 90  0  0  0  0  0  0  0  0  0\n",
            "   0  0]\n",
            " [ 0  2  0  0  1  0  0  0  0  0  0  0  0  0  0 85  0  0  0  1  0  1  0  0\n",
            "   0  0]\n",
            " [ 0  0  0  0  0  0  0  0  0  0  0  0  0  0  0  0 90  0  0  0  0  0  0  0\n",
            "   0  0]\n",
            " [ 0  0  0  0  0  0  0  0  0  0  0  0  0  0  0  0  0 90  0  0  0  0  0  0\n",
            "   0  0]\n",
            " [ 0  0  0  0  0  6  0  0  0  0  0  0  0  0  0  0  0  0 84  0  0  0  0  0\n",
            "   0  0]\n",
            " [ 0  0  1  1  0  0  2  0  0  0  0  0  0  0  0  4  0  0  0 82  0  0  0  0\n",
            "   0  0]\n",
            " [ 0  0  0  0  0  0  0  0  0  0  0  0  0  0  0  0  2  0  0  0 88  0  0  0\n",
            "   0  0]\n",
            " [ 0  3  0  1  0  0  0  0  0  0  0  0  0  0  0  2  0  0  0  0  2 79  0  0\n",
            "   0  3]\n",
            " [ 0  0  0  0  0  0  0  0  0  0  0  0  1  0  0  0  0  0  0  0  0  0 89  0\n",
            "   0  0]\n",
            " [ 1  0  0  0  0  1  0  0  0  0  0  0  0  0  0  0  0  0  0  0  0  0  0 88\n",
            "   0  0]\n",
            " [ 0  0  0  0  0  0  0  0  0  0  0  0  0  0  0  0  0  0  0  0  0  0  0  0\n",
            "  91  0]\n",
            " [ 0  0  2  0  2  0  0  0  0  0  0  0  0  0  0  0  0  0  0  0  0  1  0  0\n",
            "   0 86]]\n",
            "\n",
            "The f1 micro score is  0.9670940170940171 \n",
            "\n",
            "The f1 macro score is  0.9670041667496745 \n",
            "\n"
          ],
          "name": "stdout"
        }
      ]
    },
    {
      "cell_type": "markdown",
      "metadata": {
        "id": "h1FQtGaKBwjA"
      },
      "source": [
        "Παρατηρούμε και πάλι ότι αποφύγαμε το overfitting αφού έχουμε καλύτερο αποτέλεσμα στα test δεδομένα.\n",
        "\n",
        "Με αυτόν τον ταξινομητή πετυχαίνουμε το καλύτερο αποτέλεσμα αν και δε διαφέρει σημαντικά από την επίδοση του **MLP** ούτε και απότ τις επιδόσεις των δύο αυτών ταξινομητών και πριν τη βελτιστοποίηση. Τα αποτελέσματα αυτά είναι πολύ ικανοποιητικά και ενθαρρυντικά για τις δυνατότες των συστημάτων αναγνώρισης ομιλίας."
      ]
    },
    {
      "cell_type": "markdown",
      "metadata": {
        "id": "LKckuYCgDCY6"
      },
      "source": [
        "### Metrics"
      ]
    },
    {
      "cell_type": "markdown",
      "metadata": {
        "id": "j-kZtGrxmjP0"
      },
      "source": [
        "#### Times"
      ]
    },
    {
      "cell_type": "code",
      "metadata": {
        "colab": {
          "base_uri": "https://localhost:8080/"
        },
        "id": "SfGWW9yNmwB2",
        "outputId": "0a288f1a-0276-4a80-b5e4-69a0396df25a"
      },
      "source": [
        "print(\"Kind of time     | Dummy Classifier      | Gaussian Naive Bayes | K-Nearest Neighbors | Multi-Layer Perceptron | Support Vector Machines\")\n",
        "print(\"----------------------------------------------------------------------------------------------------------------------------------------\")\n",
        "print(\"fitting time     | {}  | {}   | {}  | {}      | {}\".format(dummy_fit_time, gnb_fit_time, knn_fit_time, mlp_fit_time, svc_fit_time))\n",
        "print(\"prediction time  | {}  | {}  | {}   | {}    | {}\".format(dummy_predict_time, gnb_predict_time, knn_predict_time, mlp_predict_time, svc_predict_time))"
      ],
      "execution_count": null,
      "outputs": [
        {
          "output_type": "stream",
          "text": [
            "Kind of time     | Dummy Classifier      | Gaussian Naive Bayes | K-Nearest Neighbors | Multi-Layer Perceptron | Support Vector Machines\n",
            "----------------------------------------------------------------------------------------------------------------------------------------\n",
            "fitting time     | 0.001506805419921875  | 1.1879785060882568   | 0.3793609142303467  | 11.80950379371643      | 8.083815097808838\n",
            "prediction time  | 0.002982616424560547  | 0.08363699913024902  | 7.147304534912109   | 0.09217238426208496    | 7.907429456710815\n"
          ],
          "name": "stdout"
        }
      ]
    },
    {
      "cell_type": "markdown",
      "metadata": {
        "id": "V19KZ8ynDgAG"
      },
      "source": [
        "Από τους παραπάνω χρόνους έχουμε την αναμενόμενη παρατήρηση ότι όσο αυξάνουμετην πολυπλοκότητα των ταξινομητών τόσο αυξάνεται ο χρόνος που απαιτούν, τόσο η εκπαίδευση όσο και η πρόβλεψη τους.\n",
        "\n",
        "Παρόλα αυτά αξίζει να σημειώσουμε κάποια επιπλέον ενδιαφέροντα γεγονότα.\n",
        "\n",
        "Ο **MLP** αν και απαιτεί το μεγαλύτερο χρόνος εκπαίδευσης, κάνει πολύ γρήγορα την πρόβλεψη. Η παρατήρηση αυτή είναι λογική, αν αναλογιστούμε τον τρόπο λειτουργίας του **MLP** που απλώς περνάει το σήμα από τους νευρώνες του, εφαρμόζοντας κάποιους απλούς μετασχηματισμούς. Αυτό τον καθιστά ιδανικό για μία πραγματική εφαρμογή.\n",
        "\n",
        "Αντίθετα, ο KNN σπαταλάει τον περίσσοτερο χρόνο εκτέλεσης του κατά την διαδικασία του prediction, καθώς σε αυτό το στάδιο πρέπει να πραγματοποιηθεί και η εύρεση των κοντινότερων γειτόνων."
      ]
    },
    {
      "cell_type": "markdown",
      "metadata": {
        "id": "fIe6XM0Qm0H4"
      },
      "source": [
        "#### Bar Plots"
      ]
    },
    {
      "cell_type": "code",
      "metadata": {
        "colab": {
          "base_uri": "https://localhost:8080/",
          "height": 545
        },
        "id": "kTmJPjzam55X",
        "outputId": "da9799f5-8298-49b6-bc9b-fe3f7b958cc6"
      },
      "source": [
        "import matplotlib.pyplot as plt \n",
        "\n",
        "clfs = ['Dummy', 'GNB', 'KNN', 'MLP', 'SVM']\n",
        "f1_micro = [dummy_opt_f1_micro, gnb_opt_f1_micro, knn_opt_f1_micro, mlp_opt_f1_micro, svc_opt_f1_micro]\n",
        "f1_macro = [dummy_opt_f1_macro, gnb_opt_f1_macro, knn_opt_f1_macro, mlp_opt_f1_macro, svc_opt_f1_macro]\n",
        "\n",
        "plt.figure()\n",
        "plt.title(\"F1 MICRO\")\n",
        "plt.bar(clfs, f1_micro, width=0.5)\n",
        "plt.show()\n",
        "plt.close()\n",
        "\n",
        "plt.figure()\n",
        "plt.title(\"F1 MACRO\")\n",
        "plt.bar(clfs, f1_macro, width=0.5)\n",
        "plt.show()\n",
        "plt.close()"
      ],
      "execution_count": null,
      "outputs": [
        {
          "output_type": "display_data",
          "data": {
            "image/png": "[encoded data removed]",
            "text/plain": [
              "<Figure size 432x288 with 1 Axes>"
            ]
          },
          "metadata": {
            "tags": [],
            "needs_background": "light"
          }
        },
        {
          "output_type": "display_data",
          "data": {
            "image/png": "[encoded data removed]",
            "text/plain": [
              "<Figure size 432x288 with 1 Axes>"
            ]
          },
          "metadata": {
            "tags": [],
            "needs_background": "light"
          }
        }
      ]
    },
    {
      "cell_type": "markdown",
      "metadata": {
        "id": "drGti0fWm9Ua"
      },
      "source": [
        "Από το παραπάνω διάγραμμα αξίζει να δούμε ότι ο ταξινομητής **GNB** είναι ξεπερνάει σχεδόν τον **kNN** στη βέλτιστη εκδοχή του. Το γεγονός αυτό είναι ενδιαφέρον καθώς στις αρχικές εκδόσεις ο **GNB** ήταν σημαντικά χειρότερος από τον **kNN**. Μπορούμε έτσι να δούμε τη χρησιμότητα της προεπεξεργασίας των δεδομένων για τις αποδόσεις ενός συστήματος. Ανατρέχοντας και στα χρονικά αποτελέσματα, ο **GNB** είναι ένας πολύ γρήγορος αλγόριθμος (μαζί με την προεργασία), με απλή λειτουργία, που πετυχαίνει πολύ ικανοποιητική επίδοση ακόμα και σε σύγκριση με τη βέλτιστη."
      ]
    },
    {
      "cell_type": "markdown",
      "metadata": {
        "id": "3qefEXQ0nCRI"
      },
      "source": [
        "#### Επίδοση βελτιστοποίησης"
      ]
    },
    {
      "cell_type": "code",
      "metadata": {
        "colab": {
          "base_uri": "https://localhost:8080/"
        },
        "id": "WQYVsng6nDN1",
        "outputId": "2679e8d7-b356-4562-a09d-4bfc4f5fbe86"
      },
      "source": [
        "print (\"Μεταβολές επίδοσης των βελτιστοποιήμενων εκδόσεων από τις προηγούμενες :\")\n",
        "print()\n",
        "print(\"Metric     | Dummy Classifier     | Gaussian Naive Bayes | K-Nearest Neighbors  | Multi-Layer Perceptron | Support Vector Machines\")\n",
        "print(\"----------------------------------------------------------------------------------------------------------------------------------\")\n",
        "print(\"f1_micro   | {} | {}   | {} | {}   | {}\".format(dummy_opt_f1_micro - dummy_f1_micro, gnb_opt_f1_micro - gnb_f1_micro, knn_opt_f1_micro - knn_f1_micro, mlp_opt_f1_micro - mlp_f1_micro, svc_opt_f1_micro - svc_f1_micro))\n",
        "print(\"f1_macro   | {} | {}  | {} | {}  | {}\".format(dummy_opt_f1_macro - dummy_f1_macro, gnb_opt_f1_macro - gnb_f1_macro, knn_opt_f1_macro - knn_f1_macro, mlp_opt_f1_macro - mlp_f1_macro, svc_opt_f1_macro - svc_f1_macro))"
      ],
      "execution_count": null,
      "outputs": [
        {
          "output_type": "stream",
          "text": [
            "Μεταβολές επίδοσης των βελτιστοποιήμενων εκδόσεων από τις προηγούμενες :\n",
            "\n",
            "Metric     | Dummy Classifier     | Gaussian Naive Bayes | K-Nearest Neighbors  | Multi-Layer Perceptron | Support Vector Machines\n",
            "----------------------------------------------------------------------------------------------------------------------------------\n",
            "f1_micro   | 0.006410256410256401 | 0.1119658119658119   | 0.024358974358974272 | 0.002991452991452981   | 0.009829059829059794\n",
            "f1_macro   | 0.006039622782159276 | 0.11579683164475141  | 0.024614342452131788 | 0.0030925026205379513  | 0.00989843519186595\n"
          ],
          "name": "stdout"
        }
      ]
    },
    {
      "cell_type": "markdown",
      "metadata": {
        "id": "zSW7kDmCnMIZ"
      },
      "source": [
        "Αν εξαιρέσουμε τον **Dummy** ταξινομητή, μπορούμε να δούμε ότι η βελτίωση της επίδοσης μειώνεται όσο αυξάνεται η πολυπλοκότητα του ταξινομητή. Από μία άλλη σκοπιά, η επίδοση των βελτιστοποιημένων ταξινομητών έχει αυξηθεί σημαντικά σε όσους ταξινομητές δεν πετύχαιναν εξ' αρχής πολύ καλές επιδόσεις. Επιστρέφουμε, λοιπόν, στο συμπέρασμά μας σχετικά με τη βέλτιστη δυνατή επίδοση που μπορεί να έχει ένας ταξινομητής σε αυτό το dataset. θεωρούμε πιθανό η μη περαιτέρω βελτίωση να οφείλεται σε αυτό ακριβώς το γεγονός, ότι δηλαδή δε γίνεται να την αυξήσουμε περισσότερο.\n",
        "\n",
        "Επιπλέον, καταλήγουμε στο συμπέρασμα ότι η προεπεξεργασία των δεδομένων είναι σημαντική για τους περισσότερο απλούς ταξινομητές."
      ]
    },
    {
      "cell_type": "markdown",
      "metadata": {
        "id": "ZSEZLQI7nMaY"
      },
      "source": [
        "#### Other Metrics"
      ]
    },
    {
      "cell_type": "code",
      "metadata": {
        "colab": {
          "base_uri": "https://localhost:8080/"
        },
        "id": "BbYDD5wNnQOK",
        "outputId": "fb506e4e-04d2-40ac-be9f-4788d4f79481"
      },
      "source": [
        "print (\"Dummy Classifier\")\n",
        "print(classification_report(test_labels, dummy_opt_preds, target_names=label_names))\n",
        "print (\"Gaussian Naive Bayes\")\n",
        "print(classification_report(test_labels, gnb_opt_preds, target_names=label_names))\n",
        "print (\"K-Nearest Neihgbors\")\n",
        "print(classification_report(test_labels, knn_opt_preds, target_names=label_names))\n",
        "print (\"Multi-Layer Perceptron\")\n",
        "print(classification_report(test_labels, mlp_opt_preds, target_names=label_names))\n",
        "print (\"Support Vector Machines\")\n",
        "print(classification_report(test_labels, svc_opt_preds, target_names=label_names))"
      ],
      "execution_count": null,
      "outputs": [
        {
          "output_type": "stream",
          "text": [
            "Dummy Classifier\n",
            "              precision    recall  f1-score   support\n",
            "\n",
            "           A       0.02      0.02      0.02        90\n",
            "           B       0.04      0.04      0.04        90\n",
            "           C       0.03      0.03      0.03        90\n",
            "           D       0.05      0.06      0.05        90\n",
            "           E       0.05      0.06      0.05        90\n",
            "           F       0.06      0.07      0.06        89\n",
            "           G       0.05      0.06      0.05        90\n",
            "           H       0.07      0.07      0.07        90\n",
            "           I       0.07      0.07      0.07        90\n",
            "           J       0.06      0.06      0.06        90\n",
            "           K       0.03      0.03      0.03        90\n",
            "           L       0.04      0.03      0.03        90\n",
            "           M       0.02      0.02      0.02        89\n",
            "           N       0.05      0.06      0.05        90\n",
            "           O       0.04      0.04      0.04        90\n",
            "           P       0.03      0.02      0.02        90\n",
            "           Q       0.03      0.03      0.03        90\n",
            "           R       0.05      0.04      0.05        90\n",
            "           S       0.03      0.02      0.02        90\n",
            "           T       0.08      0.09      0.08        90\n",
            "           U       0.05      0.04      0.05        90\n",
            "           V       0.07      0.07      0.07        90\n",
            "           W       0.08      0.07      0.07        90\n",
            "           X       0.04      0.04      0.04        90\n",
            "           Y       0.03      0.03      0.03        91\n",
            "           Z       0.05      0.04      0.05        91\n",
            "\n",
            "    accuracy                           0.05      2340\n",
            "   macro avg       0.05      0.05      0.05      2340\n",
            "weighted avg       0.05      0.05      0.05      2340\n",
            "\n",
            "Gaussian Naive Bayes\n",
            "              precision    recall  f1-score   support\n",
            "\n",
            "           A       0.90      0.96      0.92        90\n",
            "           B       0.86      0.83      0.85        90\n",
            "           C       0.94      0.97      0.95        90\n",
            "           D       0.88      0.82      0.85        90\n",
            "           E       0.89      0.88      0.88        90\n",
            "           F       0.90      0.94      0.92        89\n",
            "           G       0.92      0.92      0.92        90\n",
            "           H       0.99      0.99      0.99        90\n",
            "           I       1.00      0.93      0.97        90\n",
            "           J       0.93      0.92      0.93        90\n",
            "           K       0.91      0.89      0.90        90\n",
            "           L       0.97      0.98      0.97        90\n",
            "           M       0.83      0.90      0.86        89\n",
            "           N       0.85      0.80      0.82        90\n",
            "           O       0.98      0.97      0.97        90\n",
            "           P       0.86      0.83      0.85        90\n",
            "           Q       0.95      1.00      0.97        90\n",
            "           R       0.94      1.00      0.97        90\n",
            "           S       0.98      0.92      0.95        90\n",
            "           T       0.92      0.77      0.84        90\n",
            "           U       0.88      0.94      0.91        90\n",
            "           V       0.80      0.84      0.82        90\n",
            "           W       0.93      0.99      0.96        90\n",
            "           X       0.98      0.98      0.98        90\n",
            "           Y       1.00      1.00      1.00        91\n",
            "           Z       0.90      0.88      0.89        91\n",
            "\n",
            "    accuracy                           0.92      2340\n",
            "   macro avg       0.92      0.92      0.92      2340\n",
            "weighted avg       0.92      0.92      0.92      2340\n",
            "\n",
            "K-Nearest Neihgbors\n",
            "              precision    recall  f1-score   support\n",
            "\n",
            "           A       0.93      0.97      0.95        90\n",
            "           B       0.76      0.92      0.83        90\n",
            "           C       0.91      0.98      0.94        90\n",
            "           D       0.83      0.91      0.87        90\n",
            "           E       0.92      0.90      0.91        90\n",
            "           F       0.85      0.96      0.90        89\n",
            "           G       0.89      0.93      0.91        90\n",
            "           H       1.00      0.98      0.99        90\n",
            "           I       1.00      0.94      0.97        90\n",
            "           J       0.86      1.00      0.92        90\n",
            "           K       0.94      0.88      0.91        90\n",
            "           L       0.97      0.99      0.98        90\n",
            "           M       0.84      0.83      0.84        89\n",
            "           N       0.93      0.83      0.88        90\n",
            "           O       0.97      1.00      0.98        90\n",
            "           P       0.91      0.79      0.85        90\n",
            "           Q       0.95      1.00      0.97        90\n",
            "           R       0.95      1.00      0.97        90\n",
            "           S       0.98      0.89      0.93        90\n",
            "           T       0.88      0.78      0.82        90\n",
            "           U       0.93      0.94      0.94        90\n",
            "           V       0.89      0.72      0.80        90\n",
            "           W       1.00      0.98      0.99        90\n",
            "           X       0.99      0.97      0.98        90\n",
            "           Y       1.00      1.00      1.00        91\n",
            "           Z       0.96      0.87      0.91        91\n",
            "\n",
            "    accuracy                           0.92      2340\n",
            "   macro avg       0.92      0.92      0.92      2340\n",
            "weighted avg       0.92      0.92      0.92      2340\n",
            "\n",
            "Multi-Layer Perceptron\n",
            "              precision    recall  f1-score   support\n",
            "\n",
            "           A       0.96      1.00      0.98        90\n",
            "           B       0.92      0.90      0.91        90\n",
            "           C       0.98      1.00      0.99        90\n",
            "           D       0.98      0.92      0.95        90\n",
            "           E       0.91      0.98      0.94        90\n",
            "           F       0.91      0.96      0.93        89\n",
            "           G       0.96      1.00      0.98        90\n",
            "           H       1.00      0.99      0.99        90\n",
            "           I       1.00      1.00      1.00        90\n",
            "           J       0.97      0.99      0.98        90\n",
            "           K       0.98      0.97      0.97        90\n",
            "           L       0.98      1.00      0.99        90\n",
            "           M       0.88      0.89      0.88        89\n",
            "           N       0.93      0.86      0.89        90\n",
            "           O       0.99      1.00      0.99        90\n",
            "           P       0.95      0.92      0.94        90\n",
            "           Q       1.00      1.00      1.00        90\n",
            "           R       1.00      0.99      0.99        90\n",
            "           S       0.95      0.92      0.94        90\n",
            "           T       0.98      0.94      0.96        90\n",
            "           U       0.93      1.00      0.96        90\n",
            "           V       0.94      0.89      0.91        90\n",
            "           W       1.00      0.99      0.99        90\n",
            "           X       1.00      0.98      0.99        90\n",
            "           Y       1.00      1.00      1.00        91\n",
            "           Z       0.95      0.95      0.95        91\n",
            "\n",
            "    accuracy                           0.96      2340\n",
            "   macro avg       0.96      0.96      0.96      2340\n",
            "weighted avg       0.96      0.96      0.96      2340\n",
            "\n",
            "Support Vector Machines\n",
            "              precision    recall  f1-score   support\n",
            "\n",
            "           A       0.98      0.99      0.98        90\n",
            "           B       0.90      0.92      0.91        90\n",
            "           C       0.97      1.00      0.98        90\n",
            "           D       0.97      0.96      0.96        90\n",
            "           E       0.91      0.97      0.94        90\n",
            "           F       0.92      0.97      0.95        89\n",
            "           G       0.98      1.00      0.99        90\n",
            "           H       0.99      0.99      0.99        90\n",
            "           I       1.00      0.98      0.99        90\n",
            "           J       0.99      1.00      0.99        90\n",
            "           K       1.00      0.99      0.99        90\n",
            "           L       0.99      1.00      0.99        90\n",
            "           M       0.88      0.94      0.91        89\n",
            "           N       0.95      0.89      0.92        90\n",
            "           O       1.00      1.00      1.00        90\n",
            "           P       0.92      0.94      0.93        90\n",
            "           Q       0.98      1.00      0.99        90\n",
            "           R       0.98      1.00      0.99        90\n",
            "           S       0.99      0.93      0.96        90\n",
            "           T       0.99      0.91      0.95        90\n",
            "           U       0.97      0.98      0.97        90\n",
            "           V       0.95      0.88      0.91        90\n",
            "           W       1.00      0.99      0.99        90\n",
            "           X       0.99      0.98      0.98        90\n",
            "           Y       1.00      1.00      1.00        91\n",
            "           Z       0.97      0.95      0.96        91\n",
            "\n",
            "    accuracy                           0.97      2340\n",
            "   macro avg       0.97      0.97      0.97      2340\n",
            "weighted avg       0.97      0.97      0.97      2340\n",
            "\n"
          ],
          "name": "stdout"
        }
      ]
    },
    {
      "cell_type": "markdown",
      "metadata": {
        "id": "pTWMZYganTY-"
      },
      "source": [
        "Τελευταία παρατήρηση που μπορεί να προκύψει βλέποντας το σύνολο των μετρικών αξιολόγησης είναι ότι σε αυτό το σύνολο δεδομένων οι διάφορες μετρικές δε μας δίνουν σημαντικά διαφορετική πληροφορία. Το γεγονός αυτό οφείλεται στο ότι το dataset είναι ισορροπημένο."
      ]
    }
  ]
}